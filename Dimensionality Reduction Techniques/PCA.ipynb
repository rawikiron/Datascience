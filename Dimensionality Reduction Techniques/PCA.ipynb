{
  "nbformat": 4,
  "nbformat_minor": 0,
  "metadata": {
    "colab": {
      "name": "PCA.ipynb",
      "provenance": []
    },
    "kernelspec": {
      "name": "python3",
      "display_name": "Python 3"
    }
  },
  "cells": [
    {
      "cell_type": "code",
      "metadata": {
        "id": "gHsfQV4GeZPC"
      },
      "source": [
        "import pandas as pd\n",
        "import numpy as np"
      ],
      "execution_count": null,
      "outputs": []
    },
    {
      "cell_type": "code",
      "metadata": {
        "id": "oIxSN3F1fDXL"
      },
      "source": [
        "heart= pd.read_csv('/content/drive/MyDrive/heart.csv')"
      ],
      "execution_count": null,
      "outputs": []
    },
    {
      "cell_type": "code",
      "metadata": {
        "id": "R0CAq8wMfHVC"
      },
      "source": [
        "heart.info()"
      ],
      "execution_count": null,
      "outputs": []
    },
    {
      "cell_type": "code",
      "metadata": {
        "id": "FZY0wSBAfHRe"
      },
      "source": [
        "import numpy as np\n",
        "import matplotlib.pyplot as plt\n",
        "import seaborn as sns"
      ],
      "execution_count": null,
      "outputs": []
    },
    {
      "cell_type": "code",
      "metadata": {
        "colab": {
          "base_uri": "https://localhost:8080/"
        },
        "id": "md_R6ANsfmpy",
        "outputId": "dbdf16ca-dbd7-4aef-c477-ef537befc450"
      },
      "source": [
        "heart.dtypes"
      ],
      "execution_count": null,
      "outputs": [
        {
          "output_type": "execute_result",
          "data": {
            "text/plain": [
              "age           int64\n",
              "sex           int64\n",
              "cp            int64\n",
              "trestbps      int64\n",
              "chol          int64\n",
              "fbs           int64\n",
              "restecg       int64\n",
              "thalach       int64\n",
              "exang         int64\n",
              "oldpeak     float64\n",
              "slope         int64\n",
              "ca            int64\n",
              "thal          int64\n",
              "target        int64\n",
              "dtype: object"
            ]
          },
          "metadata": {
            "tags": []
          },
          "execution_count": 6
        }
      ]
    },
    {
      "cell_type": "code",
      "metadata": {
        "id": "jMQL3Wz2nz9w"
      },
      "source": [
        "sns.pairplot(heart)"
      ],
      "execution_count": null,
      "outputs": []
    },
    {
      "cell_type": "code",
      "metadata": {
        "colab": {
          "base_uri": "https://localhost:8080/",
          "height": 317
        },
        "id": "Davyxu0PrWvs",
        "outputId": "b806e737-c15e-4e4f-80cb-17ccbaf9ae73"
      },
      "source": [
        "sns.heatmap(correlation)"
      ],
      "execution_count": null,
      "outputs": [
        {
          "output_type": "execute_result",
          "data": {
            "text/plain": [
              "<matplotlib.axes._subplots.AxesSubplot at 0x7f1d7c73fa20>"
            ]
          },
          "metadata": {
            "tags": []
          },
          "execution_count": 55
        },
        {
          "output_type": "display_data",
          "data": {
            "image/png": "[encoded data removed]",
            "text/plain": [
              "<Figure size 432x288 with 2 Axes>"
            ]
          },
          "metadata": {
            "tags": [],
            "needs_background": "light"
          }
        }
      ]
    },
    {
      "cell_type": "code",
      "metadata": {
        "id": "0vNFQ6DYuJtL"
      },
      "source": [
        "## Correlation Matrix\n",
        "sns.set(style=\"dark\")\n",
        "\n",
        "# Compute the correlation matrix\n",
        "corr = heart.corr()\n",
        "\n",
        "# Generate a mask for the upper triangle\n",
        "mask = np.zeros_like(corr, dtype=np.bool)\n",
        "mask[np.triu_indices_from(mask)] = True\n",
        "\n",
        "# Set up the matplotlib figure\n",
        "f, ax = plt.subplots(figsize=(15, 15))\n",
        "\n",
        "# Generate a custom diverging colormap\n",
        "cmap = sns.diverging_palette(120, 17, as_cmap=True)\n",
        "\n",
        "# Draw the heatmap with the mask and correct aspect ratio\n"
      ],
      "execution_count": null,
      "outputs": []
    },
    {
      "cell_type": "code",
      "metadata": {
        "id": "UFKU8cZ1fHOT"
      },
      "source": [
        "heart.boxplot(figsize=(10,15))"
      ],
      "execution_count": null,
      "outputs": []
    },
    {
      "cell_type": "code",
      "metadata": {
        "id": "Tgyi7_QdgHAu"
      },
      "source": [
        "trestbps\n",
        "chol    \n",
        "fbs \n",
        "thalach\n",
        "oldpeak\n",
        "ca      \n",
        "thal"
      ],
      "execution_count": null,
      "outputs": []
    },
    {
      "cell_type": "code",
      "metadata": {
        "id": "Pyg1CnfFgHWi"
      },
      "source": [
        "q1 = heart['trestbps'].quantile(.25)\n",
        "q3 = heart['trestbps'].quantile(.75)\n",
        "IQR = q3-q1\n",
        "heart['trestbps'] = np.clip(heart['trestbps'],q1-1.5*IQR, q3+1.5*IQR)\n",
        "\n",
        "\n",
        "q1 = heart['chol'].quantile(.25)\n",
        "q3 = heart['chol'].quantile(.75)\n",
        "IQR = q3-q1\n",
        "heart['chol'] = np.clip(heart['chol'],q1-1.5*IQR, q3+1.5*IQR)\n",
        "\n",
        "q1 = heart['fbs'].quantile(.25)\n",
        "q3 = heart['fbs'].quantile(.75)\n",
        "IQR = q3-q1\n",
        "heart['fbs'] = np.clip(heart['fbs'],q1-1.5*IQR, q3+1.5*IQR)\n",
        "q1 = heart['thalach'].quantile(.25)\n",
        "q3 = heart['thalach'].quantile(.75)\n",
        "IQR = q3-q1\n",
        "heart['thalach'] = np.clip(heart['thalach'],q1-1.5*IQR, q3+1.5*IQR)\n",
        "q1 = heart['ca'].quantile(.25)\n",
        "q3 = heart['ca'].quantile(.75)\n",
        "IQR = q3-q1\n",
        "heart['ca'] = np.clip(heart['ca'],q1-1.5*IQR, q3+1.5*IQR)\n",
        "q1 = heart['oldpeak'].quantile(.25)\n",
        "q3 = heart['oldpeak'].quantile(.75)\n",
        "IQR = q3-q1\n",
        "heart['oldpeak'] = np.clip(heart['oldpeak'],q1-1.5*IQR, q3+1.5*IQR)\n",
        "\n",
        "heart['ca'] = np.clip(heart['ca'],q1-1.5*IQR, q3+1.5*IQR)\n",
        "q1 = heart['thal'].quantile(.25)\n",
        "q3 = heart['thal'].quantile(.75)\n",
        "IQR = q3-q1\n",
        "heart['thal'] = np.clip(heart['thal'],q1-1.5*IQR, q3+1.5*IQR)"
      ],
      "execution_count": null,
      "outputs": []
    },
    {
      "cell_type": "code",
      "metadata": {
        "id": "Mp840Cd4gHTh"
      },
      "source": [
        "heart"
      ],
      "execution_count": null,
      "outputs": []
    },
    {
      "cell_type": "code",
      "metadata": {
        "colab": {
          "base_uri": "https://localhost:8080/"
        },
        "id": "6uxdxRdOgHRE",
        "outputId": "8cc5b435-9f04-4f36-bed9-41fbbe09e9da"
      },
      "source": [
        "heart['target'].value_counts()"
      ],
      "execution_count": null,
      "outputs": [
        {
          "output_type": "execute_result",
          "data": {
            "text/plain": [
              "1    164\n",
              "0    138\n",
              "Name: target, dtype: int64"
            ]
          },
          "metadata": {
            "tags": []
          },
          "execution_count": 14
        }
      ]
    },
    {
      "cell_type": "code",
      "metadata": {
        "id": "OBUNhSVqgHNe"
      },
      "source": [
        "heart= heart.drop(heart['fbs'])"
      ],
      "execution_count": null,
      "outputs": []
    },
    {
      "cell_type": "code",
      "metadata": {
        "id": "v2W6f1xNiqUY"
      },
      "source": [
        "X=heart.drop(['target'],axis=1)\n",
        "Y=heart['target']"
      ],
      "execution_count": null,
      "outputs": []
    },
    {
      "cell_type": "code",
      "metadata": {
        "id": "U2rUHiwXgHKh"
      },
      "source": [
        "import seaborn as sns\n",
        "correlation= heart.corr()\n",
        "correlation"
      ],
      "execution_count": null,
      "outputs": []
    },
    {
      "cell_type": "code",
      "metadata": {
        "colab": {
          "base_uri": "https://localhost:8080/"
        },
        "id": "JIS0ZToOszik",
        "outputId": "e3ed9cfc-132d-4894-cf63-863fab2038e8"
      },
      "source": [
        "# looking at the unique values of the dataframe features for identifying possible categorical\n",
        "# and numerical feautures \n",
        "train_df = heart\n",
        "unique_values = []\n",
        "for i in range(len(train_df.columns)):\n",
        "    unique_values.append([train_df.columns[i],train_df.iloc[:,i].nunique(),train_df.iloc[:,i].dtypes])\n",
        "\n",
        "\n",
        "unique_values = pd.DataFrame(unique_values)\n",
        "unique_values.columns = ['Column name', 'Unique_values','Dtypes']\n",
        "#unique_values['datatype'] =unique_values[i].dtypes\n",
        "print(unique_values)\n",
        "print(heart.shape)"
      ],
      "execution_count": null,
      "outputs": [
        {
          "output_type": "stream",
          "text": [
            "   Column name  Unique_values   Dtypes\n",
            "0          age             41    int64\n",
            "1          sex              2    int64\n",
            "2           cp              4    int64\n",
            "3     trestbps             43    int64\n",
            "4         chol            148  float64\n",
            "5          fbs              1    int64\n",
            "6      restecg              3    int64\n",
            "7      thalach             91  float64\n",
            "8        exang              2    int64\n",
            "9      oldpeak             36  float64\n",
            "10       slope              3    int64\n",
            "11          ca              4  float64\n",
            "12        thal              4  float64\n",
            "13      target              2    int64\n",
            "(302, 14)\n"
          ],
          "name": "stdout"
        }
      ]
    },
    {
      "cell_type": "code",
      "metadata": {
        "id": "NC5nMmw9gHHF"
      },
      "source": [
        "from sklearn.model_selection import train_test_split\n",
        "X_train, X_test, Y_train, Y_test= train_test_split(X,Y,test_size=0.2,random_state=8)"
      ],
      "execution_count": null,
      "outputs": []
    },
    {
      "cell_type": "markdown",
      "metadata": {
        "id": "JC3MkopDk9Ll"
      },
      "source": [
        "APPLYING lOGISTIC AGRESSION"
      ]
    },
    {
      "cell_type": "code",
      "metadata": {
        "id": "MAcLKsh4kwcE"
      },
      "source": [
        "#call the model\n",
        "from sklearn.linear_model import LogisticRegression\n",
        "lr_model= LogisticRegression()"
      ],
      "execution_count": null,
      "outputs": []
    },
    {
      "cell_type": "code",
      "metadata": {
        "id": "tofVuGezkwcE",
        "colab": {
          "base_uri": "https://localhost:8080/"
        },
        "outputId": "21d70eec-e918-4406-eebe-2519ccda769f"
      },
      "source": [
        "#Fit the model\n",
        "clf = lr_model.fit(X_train, Y_train)"
      ],
      "execution_count": null,
      "outputs": [
        {
          "output_type": "stream",
          "text": [
            "/usr/local/lib/python3.6/dist-packages/sklearn/linear_model/_logistic.py:940: ConvergenceWarning: lbfgs failed to converge (status=1):\n",
            "STOP: TOTAL NO. of ITERATIONS REACHED LIMIT.\n",
            "\n",
            "Increase the number of iterations (max_iter) or scale the data as shown in:\n",
            "    https://scikit-learn.org/stable/modules/preprocessing.html\n",
            "Please also refer to the documentation for alternative solver options:\n",
            "    https://scikit-learn.org/stable/modules/linear_model.html#logistic-regression\n",
            "  extra_warning_msg=_LOGISTIC_SOLVER_CONVERGENCE_MSG)\n"
          ],
          "name": "stderr"
        }
      ]
    },
    {
      "cell_type": "code",
      "metadata": {
        "colab": {
          "base_uri": "https://localhost:8080/"
        },
        "id": "DfS_mo0TkwcF",
        "outputId": "1675e150-c680-4383-91de-f95c917f225a"
      },
      "source": [
        "#Use the fitted model for prediction on test dataset\n",
        "y_predicted = clf.predict(X_test)\n",
        "print(y_predicted)"
      ],
      "execution_count": null,
      "outputs": [
        {
          "output_type": "stream",
          "text": [
            "[0 1 1 0 1 0 1 1 1 1 0 0 0 1 1 0 1 0 0 1 1 1 0 0 1 1 1 1 1 0 1 1 0 1 0 0 0\n",
            " 1 0 1 1 1 1 0 0 0 1 1 1 1 0 1 0 1 1 0 1 0 1 1 1]\n"
          ],
          "name": "stdout"
        }
      ]
    },
    {
      "cell_type": "code",
      "metadata": {
        "id": "GBK0VKJAgbFo"
      },
      "source": [
        "from sklearn.metrics import accuracy_score\n",
        "from sklearn.metrics import f1_score\n",
        "from sklearn.metrics import recall_score\n",
        "from sklearn.metrics import precision_score\n",
        "from sklearn.model_selection import cross_val_score"
      ],
      "execution_count": null,
      "outputs": []
    },
    {
      "cell_type": "code",
      "metadata": {
        "id": "D9Ndj-E8e8jo",
        "colab": {
          "base_uri": "https://localhost:8080/"
        },
        "outputId": "bff99b27-e48d-42fb-fb6e-0d4266effc4c"
      },
      "source": [
        "print('Accuracy:', accuracy_score(Y_test, y_predicted))\n",
        "print('f1_score:', f1_score(Y_test, y_predicted))\n",
        "print('recall_score:', recall_score(Y_test, y_predicted))\n",
        "print('precision_score:', precision_score(Y_test, y_predicted))\n",
        "print('f1_score: {}'.format(f1_score(Y_test, y_predicted)))\n",
        "#Accuracy: 0.8032786885245902\n",
        "#f1_score: 0.8181818181818182\n",
        "#recall_score: 0.75\n",
        "#precision_score: 0.9\n",
        "#f1_score: 0.8181818181818182"
      ],
      "execution_count": null,
      "outputs": [
        {
          "output_type": "stream",
          "text": [
            "Accuracy: 0.9180327868852459\n",
            "f1_score: 0.9315068493150684\n",
            "recall_score: 0.9444444444444444\n",
            "precision_score: 0.918918918918919\n",
            "f1_score: 0.9315068493150684\n"
          ],
          "name": "stdout"
        }
      ]
    },
    {
      "cell_type": "markdown",
      "metadata": {
        "id": "E3G8JnYvlRvi"
      },
      "source": [
        "Applying Random Forest"
      ]
    },
    {
      "cell_type": "code",
      "metadata": {
        "colab": {
          "base_uri": "https://localhost:8080/"
        },
        "id": "_kW7rqOIkkRC",
        "outputId": "681c7a5c-3783-48e8-942d-7e50a280813d"
      },
      "source": [
        "#call the model\n",
        "from sklearn.ensemble import RandomForestClassifier\n",
        "rf_model = RandomForestClassifier(criterion=\"gini\", max_depth=3)\n",
        "clf=rf_model.fit(X_train, Y_train)\n",
        "#Use the fitted model for prediction on test dataset\n",
        "y_predicted = clf.predict(X_test)\n",
        "print(y_predicted)"
      ],
      "execution_count": null,
      "outputs": [
        {
          "output_type": "stream",
          "text": [
            "[1 1 1 0 1 0 1 1 1 1 0 0 0 1 1 0 1 0 0 1 1 1 0 0 1 1 0 1 1 0 1 1 0 1 0 0 0\n",
            " 1 0 1 1 1 1 0 0 0 0 1 1 1 0 1 0 1 0 0 1 0 1 1 1]\n"
          ],
          "name": "stdout"
        }
      ]
    },
    {
      "cell_type": "code",
      "metadata": {
        "id": "fFABipiPkkNP",
        "colab": {
          "base_uri": "https://localhost:8080/"
        },
        "outputId": "8a8e60e0-aaa7-4562-e4dc-6d908cd41e07"
      },
      "source": [
        "print('Accuracy for RF:', accuracy_score(Y_test, y_predicted))\n",
        "print('f1_score for RF:', f1_score(Y_test, y_predicted))\n",
        "print('recall_score for RF:', recall_score(Y_test, y_predicted))\n",
        "print('precision_score for RF:', precision_score(Y_test, y_predicted))\n",
        "\n",
        "#Accuracy for RF: 0.8852459016393442\n",
        "#f1_score for RF: 0.9113924050632911\n",
        "#recall_score for RF: 0.9230769230769231\n",
        "#precision_score for RF: 0.9"
      ],
      "execution_count": null,
      "outputs": [
        {
          "output_type": "stream",
          "text": [
            "Accuracy for RF: 0.8524590163934426\n",
            "f1_score for RF: 0.8732394366197184\n",
            "recall_score for RF: 0.8611111111111112\n",
            "precision_score for RF: 0.8857142857142857\n"
          ],
          "name": "stdout"
        }
      ]
    },
    {
      "cell_type": "markdown",
      "metadata": {
        "id": "C7ZDHHD7nE_w"
      },
      "source": [
        "Applying DT"
      ]
    },
    {
      "cell_type": "code",
      "metadata": {
        "colab": {
          "base_uri": "https://localhost:8080/"
        },
        "id": "RWw7QFuAm39D",
        "outputId": "dfc0ee83-1f42-4136-c5f4-a8d01a5c0a47"
      },
      "source": [
        "#call the model\n",
        "from sklearn.tree import DecisionTreeClassifier\n",
        "dt_model= DecisionTreeClassifier(criterion=\"gini\", max_depth=3)\n",
        "clf=dt_model.fit(X_train, Y_train)\n",
        "#Use the fitted model for prediction on test dataset\n",
        "y_predicted = clf.predict(X_test)\n",
        "print(y_predicted)"
      ],
      "execution_count": null,
      "outputs": [
        {
          "output_type": "stream",
          "text": [
            "[1 1 1 0 1 0 1 1 1 1 0 0 0 1 1 0 1 0 0 1 1 1 1 0 1 1 0 1 1 0 1 1 0 1 0 0 0\n",
            " 1 0 1 1 1 1 0 0 0 1 0 1 1 0 1 0 1 1 0 1 0 1 1 1]\n"
          ],
          "name": "stdout"
        }
      ]
    },
    {
      "cell_type": "code",
      "metadata": {
        "id": "ISQsv5iummrs",
        "colab": {
          "base_uri": "https://localhost:8080/"
        },
        "outputId": "69cea1e8-fd41-4e7d-e53c-056c6835c6b0"
      },
      "source": [
        "print('Accuracy for DT:', accuracy_score(Y_test, y_predicted))\n",
        "print('f1_score for DT:', f1_score(Y_test, y_predicted))\n",
        "print('recall_score for DT:', recall_score(Y_test, y_predicted))\n",
        "print('precision_score for DT:', precision_score(Y_test, y_predicted))\n",
        "#Accuracy for DT: 0.8524590163934426\n",
        "#f1_score for DT: 0.8767123287671232\n",
        "#recall_score for DT: 0.8888888888888888\n",
        "#precision_score for DT: 0.8648648648648649"
      ],
      "execution_count": null,
      "outputs": [
        {
          "output_type": "stream",
          "text": [
            "Accuracy for DT: 0.8524590163934426\n",
            "f1_score for DT: 0.8767123287671232\n",
            "recall_score for DT: 0.8888888888888888\n",
            "precision_score for DT: 0.8648648648648649\n"
          ],
          "name": "stdout"
        }
      ]
    },
    {
      "cell_type": "code",
      "metadata": {
        "id": "OYsASpPwyx4Z"
      },
      "source": [
        "from sklearn.decomposition import PCA\n",
        "pca_model = PCA()\n",
        "pca_result = pca_model.fit_transform(X)"
      ],
      "execution_count": null,
      "outputs": []
    },
    {
      "cell_type": "code",
      "metadata": {
        "colab": {
          "base_uri": "https://localhost:8080/"
        },
        "id": "q4ou9jaByx0p",
        "outputId": "45ba0f60-686d-4ec1-e24a-c071534d00c9"
      },
      "source": [
        "print(pca_model.explained_variance_ratio_)"
      ],
      "execution_count": null,
      "outputs": [
        {
          "output_type": "stream",
          "text": [
            "[7.23124310e-01 1.70436480e-01 8.65756033e-02 1.85935270e-02\n",
            " 4.03676096e-04 3.01422416e-04 1.98777557e-04 1.09383815e-04\n",
            " 8.70411154e-05 6.65702099e-05 5.63920120e-05 4.68158405e-05\n",
            " 3.28706651e-37]\n"
          ],
          "name": "stdout"
        }
      ]
    },
    {
      "cell_type": "code",
      "metadata": {
        "id": "YeXlHjrMyxyK"
      },
      "source": [
        "X_pca = pd.DataFrame(pca_result)\n",
        "print(X_pca)\n",
        "a = []\n",
        "\n",
        "for i in range(1,14):\n",
        "    a.append('PC{}'.format(i))\n",
        "    \n",
        "X_pca.head()   "
      ],
      "execution_count": null,
      "outputs": []
    },
    {
      "cell_type": "code",
      "metadata": {
        "id": "hU0q4jURyxui"
      },
      "source": [
        "print(pca_model.components_)"
      ],
      "execution_count": null,
      "outputs": []
    },
    {
      "cell_type": "code",
      "metadata": {
        "id": "iKxhm8OA-hzA"
      },
      "source": [
        "df=X_pca"
      ],
      "execution_count": null,
      "outputs": []
    },
    {
      "cell_type": "code",
      "metadata": {
        "id": "20CvyfZJQHNy"
      },
      "source": [
        "df"
      ],
      "execution_count": null,
      "outputs": []
    },
    {
      "cell_type": "code",
      "metadata": {
        "id": "gbtocgk5yxrO"
      },
      "source": [
        "X= df.iloc[:,0:1]\n",
        "Y=Y"
      ],
      "execution_count": null,
      "outputs": []
    },
    {
      "cell_type": "code",
      "metadata": {
        "colab": {
          "base_uri": "https://localhost:8080/"
        },
        "id": "ptWM_yy3Oc75",
        "outputId": "c6ed5220-bd14-4d7d-c609-a1a2a5929169"
      },
      "source": [
        "#call the model\r\n",
        "from sklearn.ensemble import RandomForestClassifier\r\n",
        "rf_model = RandomForestClassifier(criterion=\"gini\", max_depth=3)\r\n",
        "clf=rf_model.fit(X_train, Y_train)\r\n",
        "#Use the fitted model for prediction on test dataset\r\n",
        "y_predicted = clf.predict(X_test)\r\n",
        "print(y_predicted)"
      ],
      "execution_count": null,
      "outputs": [
        {
          "output_type": "stream",
          "text": [
            "[1 1 1 0 0 0 1 1 1 1 0 0 0 1 1 0 1 0 0 1 1 1 0 0 1 1 0 1 1 0 1 1 0 0 0 0 0\n",
            " 1 0 1 1 0 1 0 0 0 1 1 1 1 0 1 0 1 1 0 1 0 1 1 1]\n"
          ],
          "name": "stdout"
        }
      ]
    },
    {
      "cell_type": "code",
      "metadata": {
        "colab": {
          "base_uri": "https://localhost:8080/"
        },
        "id": "kIXx-TVsSzFC",
        "outputId": "4e5735f7-f6b9-4661-981a-802501b766fb"
      },
      "source": [
        "print('Accuracy for DT:', accuracy_score(Y_test, y_predicted))\r\n",
        "print('f1_score for DT:', f1_score(Y_test, y_predicted))\r\n",
        "print('recall_score for DT:', recall_score(Y_test, y_predicted))\r\n",
        "print('precision_score for DT:', precision_score(Y_test, y_predicted))"
      ],
      "execution_count": null,
      "outputs": [
        {
          "output_type": "stream",
          "text": [
            "Accuracy for DT: 0.8360655737704918\n",
            "f1_score for DT: 0.8571428571428571\n",
            "recall_score for DT: 0.8333333333333334\n",
            "precision_score for DT: 0.8823529411764706\n"
          ],
          "name": "stdout"
        }
      ]
    },
    {
      "cell_type": "markdown",
      "metadata": {
        "id": "ilA5ClJoUjsY"
      },
      "source": [
        "K fold cross validation"
      ]
    },
    {
      "cell_type": "code",
      "metadata": {
        "id": "lZJ91_pyVjXY"
      },
      "source": [
        "import warnings\r\n",
        "warnings.filterwarnings(\"ignore\")"
      ],
      "execution_count": null,
      "outputs": []
    },
    {
      "cell_type": "code",
      "metadata": {
        "id": "-5EosqceUiy8"
      },
      "source": [
        "from sklearn.model_selection import cross_val_score,KFold\r\n",
        "#machine learning algorithms\r\n",
        "from sklearn.linear_model import LogisticRegression\r\n",
        "from sklearn.tree import DecisionTreeClassifier\r\n",
        "from sklearn.svm import SVC\r\n",
        "from sklearn.neighbors import KNeighborsClassifier\r\n",
        "from sklearn.naive_bayes import GaussianNB\r\n",
        "from sklearn.ensemble import RandomForestClassifier\r\n",
        "models=[]\r\n",
        "models.append(('lr',LogisticRegression()))\r\n",
        "models.append(('decision tree',DecisionTreeClassifier()))\r\n",
        "models.append(('svm',SVC(gamma='auto')))\r\n",
        "models.append(('knn',KNeighborsClassifier()))\r\n",
        "models.append(('naive bayes',GaussianNB()))\r\n",
        "models.append(('Random Forest',RandomForestClassifier()))\r\n",
        "for name,model in models:\r\n",
        "kfold=KFold(n_splits=10,random_state=7)\r\n",
        "cross_val_sc=cross_val_score(model,X,y,scoring='accuracy',cv=kfol\r\n",
        "d)\r\n",
        "print('{} : acc: {}(standard deviation: {})'.format(name,cross_va\r\n",
        "l_sc.mean(),cross_val_sc.std()))"
      ],
      "execution_count": null,
      "outputs": []
    },
    {
      "cell_type": "markdown",
      "metadata": {
        "id": "q0loi1-wUbTf"
      },
      "source": [
        "Statified K fold cross validation"
      ]
    },
    {
      "cell_type": "code",
      "metadata": {
        "id": "py_mGvw9UaAr"
      },
      "source": [
        "from sklearn.ensemble import RandomForestClassifier\r\n",
        "from sklearn.tree import DecisionTreeClassifier\r\n",
        "from sklearn.model_selection import cross_val_score,StratifiedKFold\r\n",
        "cv = StratifiedKFold(10)\r\n",
        "model_rf = RandomForestClassifier(n_estimators=100, n_jobs=-1, rand\r\n",
        "om_state=7)\r\n",
        "model_dt = DecisionTreeClassifier()\r\n",
        "score=cross_val_score(model_rf, X_train, y_train, cv=cv)\r\n",
        "print(f'score of random forest classifier:{score.mean()}')\r\n",
        "score=cross_val_score(model_dt, X_train, y_train, cv=cv)\r\n",
        "print(f'score of decision tree classifier:{score.mean()}')"
      ],
      "execution_count": null,
      "outputs": []
    }
  ]
}