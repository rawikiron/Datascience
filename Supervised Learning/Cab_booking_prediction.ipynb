{
  "nbformat": 4,
  "nbformat_minor": 0,
  "metadata": {
    "colab": {
      "name": "Project1.ipynb",
      "provenance": []
    },
    "kernelspec": {
      "display_name": "Python 3",
      "name": "python3"
    }
  },
  "cells": [
    {
      "cell_type": "code",
      "metadata": {
        "id": "93UQPBUpvF9H"
      },
      "source": [
        "import pandas as pd\r\n",
        "import numpy as np\r\n",
        "import matplotlib.pyplot as plt\r\n",
        "import seaborn as sns\r\n",
        "import datetime\r\n",
        "from datetime import date\r\n",
        "import calendar\r\n",
        "from sklearn.metrics import r2_score, mean_squared_error, mean_absolute_error\r\n",
        "from sklearn import datasets\r\n",
        "import seaborn as sns\r\n",
        "from sklearn.feature_selection import RFE\r\n",
        "from sklearn.model_selection import train_test_split\r\n",
        "from sklearn.model_selection import cross_val_score\r\n",
        "from sklearn.model_selection import KFold\r\n",
        "from sklearn.pipeline import Pipeline\r\n",
        "from sklearn.preprocessing import StandardScaler\r\n",
        "import matplotlib.pyplot as plt\r\n",
        "from sklearn import linear_model\r\n",
        "from sklearn.ensemble import RandomForestRegressor\r\n",
        "from sklearn.tree import DecisionTreeRegressor\r\n",
        "from sklearn.metrics import mean_squared_error\r\n",
        "from sklearn import svm\r\n",
        "from sklearn.ensemble import GradientBoostingRegressor\r\n",
        "from sklearn.model_selection import cross_val_score\r\n",
        "from sklearn import model_selection\r\n",
        "from sklearn.model_selection import GridSearchCV"
      ],
      "execution_count": null,
      "outputs": []
    },
    {
      "cell_type": "code",
      "metadata": {
        "id": "fPFzMynFwSnt"
      },
      "source": [
        "X_test= pd.read_csv('/content/drive/MyDrive/Project1/test.csv')\r\n",
        "col_Names=[\"Total_Booking\"]\r\n",
        "y_test= pd.read_csv('/content/drive/MyDrive/Project1/test_label.csv', names= col_Names)\r\n",
        "X_train= pd.read_csv('/content/drive/MyDrive/Project1/train.csv')\r\n",
        "y_train= pd.read_csv('/content/drive/MyDrive/Project1/train_label.csv', names= col_Names)"
      ],
      "execution_count": null,
      "outputs": []
    },
    {
      "cell_type": "code",
      "metadata": {
        "id": "0XnzzL0OwSdQ",
        "colab": {
          "base_uri": "https://localhost:8080/",
          "height": 415
        },
        "outputId": "8372aec0-39ce-466c-ee2e-ee282a4cc895"
      },
      "source": [
        "df=X_train\r\n",
        "df['Total_booking']=y_train['Total_Booking']\r\n",
        "df"
      ],
      "execution_count": null,
      "outputs": [
        {
          "output_type": "execute_result",
          "data": {
            "text/html": [
              "<div>\n",
              "<style scoped>\n",
              "    .dataframe tbody tr th:only-of-type {\n",
              "        vertical-align: middle;\n",
              "    }\n",
              "\n",
              "    .dataframe tbody tr th {\n",
              "        vertical-align: top;\n",
              "    }\n",
              "\n",
              "    .dataframe thead th {\n",
              "        text-align: right;\n",
              "    }\n",
              "</style>\n",
              "<table border=\"1\" class=\"dataframe\">\n",
              "  <thead>\n",
              "    <tr style=\"text-align: right;\">\n",
              "      <th></th>\n",
              "      <th>datetime</th>\n",
              "      <th>season</th>\n",
              "      <th>holiday</th>\n",
              "      <th>workingday</th>\n",
              "      <th>weather</th>\n",
              "      <th>temp</th>\n",
              "      <th>atemp</th>\n",
              "      <th>humidity</th>\n",
              "      <th>windspeed</th>\n",
              "      <th>Total_booking</th>\n",
              "    </tr>\n",
              "  </thead>\n",
              "  <tbody>\n",
              "    <tr>\n",
              "      <th>0</th>\n",
              "      <td>5/2/2012 19:00</td>\n",
              "      <td>Summer</td>\n",
              "      <td>0</td>\n",
              "      <td>1</td>\n",
              "      <td>Clear + Few clouds</td>\n",
              "      <td>22.14</td>\n",
              "      <td>25.760</td>\n",
              "      <td>77</td>\n",
              "      <td>16.9979</td>\n",
              "      <td>504</td>\n",
              "    </tr>\n",
              "    <tr>\n",
              "      <th>1</th>\n",
              "      <td>9/5/2012 4:00</td>\n",
              "      <td>Fall</td>\n",
              "      <td>0</td>\n",
              "      <td>1</td>\n",
              "      <td>Clear + Few clouds</td>\n",
              "      <td>28.70</td>\n",
              "      <td>33.335</td>\n",
              "      <td>79</td>\n",
              "      <td>19.0012</td>\n",
              "      <td>5</td>\n",
              "    </tr>\n",
              "    <tr>\n",
              "      <th>2</th>\n",
              "      <td>1/13/2011 9:00</td>\n",
              "      <td>Spring</td>\n",
              "      <td>0</td>\n",
              "      <td>1</td>\n",
              "      <td>Clear + Few clouds</td>\n",
              "      <td>5.74</td>\n",
              "      <td>6.060</td>\n",
              "      <td>50</td>\n",
              "      <td>22.0028</td>\n",
              "      <td>139</td>\n",
              "    </tr>\n",
              "    <tr>\n",
              "      <th>3</th>\n",
              "      <td>11/18/2011 16:00</td>\n",
              "      <td>Winter</td>\n",
              "      <td>0</td>\n",
              "      <td>1</td>\n",
              "      <td>Clear + Few clouds</td>\n",
              "      <td>13.94</td>\n",
              "      <td>16.665</td>\n",
              "      <td>29</td>\n",
              "      <td>8.9981</td>\n",
              "      <td>209</td>\n",
              "    </tr>\n",
              "    <tr>\n",
              "      <th>4</th>\n",
              "      <td>9/13/2011 13:00</td>\n",
              "      <td>Fall</td>\n",
              "      <td>0</td>\n",
              "      <td>1</td>\n",
              "      <td>Clear + Few clouds</td>\n",
              "      <td>30.34</td>\n",
              "      <td>33.335</td>\n",
              "      <td>51</td>\n",
              "      <td>19.0012</td>\n",
              "      <td>184</td>\n",
              "    </tr>\n",
              "    <tr>\n",
              "      <th>...</th>\n",
              "      <td>...</td>\n",
              "      <td>...</td>\n",
              "      <td>...</td>\n",
              "      <td>...</td>\n",
              "      <td>...</td>\n",
              "      <td>...</td>\n",
              "      <td>...</td>\n",
              "      <td>...</td>\n",
              "      <td>...</td>\n",
              "      <td>...</td>\n",
              "    </tr>\n",
              "    <tr>\n",
              "      <th>8703</th>\n",
              "      <td>1/16/2012 6:00</td>\n",
              "      <td>Spring</td>\n",
              "      <td>1</td>\n",
              "      <td>0</td>\n",
              "      <td>Clear + Few clouds</td>\n",
              "      <td>4.10</td>\n",
              "      <td>6.820</td>\n",
              "      <td>54</td>\n",
              "      <td>6.0032</td>\n",
              "      <td>13</td>\n",
              "    </tr>\n",
              "    <tr>\n",
              "      <th>8704</th>\n",
              "      <td>11/10/2011 1:00</td>\n",
              "      <td>Winter</td>\n",
              "      <td>0</td>\n",
              "      <td>1</td>\n",
              "      <td>Mist + Cloudy</td>\n",
              "      <td>16.40</td>\n",
              "      <td>20.455</td>\n",
              "      <td>87</td>\n",
              "      <td>0.0000</td>\n",
              "      <td>11</td>\n",
              "    </tr>\n",
              "    <tr>\n",
              "      <th>8705</th>\n",
              "      <td>4/12/2011 3:00</td>\n",
              "      <td>Summer</td>\n",
              "      <td>0</td>\n",
              "      <td>1</td>\n",
              "      <td>Mist + Cloudy</td>\n",
              "      <td>23.78</td>\n",
              "      <td>27.275</td>\n",
              "      <td>56</td>\n",
              "      <td>8.9981</td>\n",
              "      <td>1</td>\n",
              "    </tr>\n",
              "    <tr>\n",
              "      <th>8706</th>\n",
              "      <td>11/7/2012 1:00</td>\n",
              "      <td>Winter</td>\n",
              "      <td>0</td>\n",
              "      <td>1</td>\n",
              "      <td>Mist + Cloudy</td>\n",
              "      <td>11.48</td>\n",
              "      <td>13.635</td>\n",
              "      <td>61</td>\n",
              "      <td>16.9979</td>\n",
              "      <td>92</td>\n",
              "    </tr>\n",
              "    <tr>\n",
              "      <th>8707</th>\n",
              "      <td>1/10/2011 10:00</td>\n",
              "      <td>Spring</td>\n",
              "      <td>0</td>\n",
              "      <td>1</td>\n",
              "      <td>Mist + Cloudy</td>\n",
              "      <td>5.74</td>\n",
              "      <td>6.060</td>\n",
              "      <td>50</td>\n",
              "      <td>19.9995</td>\n",
              "      <td>31</td>\n",
              "    </tr>\n",
              "  </tbody>\n",
              "</table>\n",
              "<p>8708 rows × 10 columns</p>\n",
              "</div>"
            ],
            "text/plain": [
              "              datetime  season  holiday  ...  humidity windspeed  Total_booking\n",
              "0       5/2/2012 19:00  Summer        0  ...        77   16.9979            504\n",
              "1        9/5/2012 4:00    Fall        0  ...        79   19.0012              5\n",
              "2       1/13/2011 9:00  Spring        0  ...        50   22.0028            139\n",
              "3     11/18/2011 16:00  Winter        0  ...        29    8.9981            209\n",
              "4      9/13/2011 13:00    Fall        0  ...        51   19.0012            184\n",
              "...                ...     ...      ...  ...       ...       ...            ...\n",
              "8703    1/16/2012 6:00  Spring        1  ...        54    6.0032             13\n",
              "8704   11/10/2011 1:00  Winter        0  ...        87    0.0000             11\n",
              "8705    4/12/2011 3:00  Summer        0  ...        56    8.9981              1\n",
              "8706    11/7/2012 1:00  Winter        0  ...        61   16.9979             92\n",
              "8707   1/10/2011 10:00  Spring        0  ...        50   19.9995             31\n",
              "\n",
              "[8708 rows x 10 columns]"
            ]
          },
          "metadata": {
            "tags": []
          },
          "execution_count": 61
        }
      ]
    },
    {
      "cell_type": "markdown",
      "metadata": {
        "id": "8g-oL2zh3vNY"
      },
      "source": [
        "Task 1:"
      ]
    },
    {
      "cell_type": "markdown",
      "metadata": {
        "id": "q8zbMgLM32nX"
      },
      "source": [
        "1. Visualize data using different visualizations to generate interesting insights."
      ]
    },
    {
      "cell_type": "code",
      "metadata": {
        "colab": {
          "base_uri": "https://localhost:8080/"
        },
        "id": "VFE4Gi4O4HTE",
        "outputId": "9439ad29-96c4-4cb2-c4bc-146828d161ec"
      },
      "source": [
        "df.shape"
      ],
      "execution_count": null,
      "outputs": [
        {
          "output_type": "execute_result",
          "data": {
            "text/plain": [
              "(8708, 10)"
            ]
          },
          "metadata": {
            "tags": []
          },
          "execution_count": 10
        }
      ]
    },
    {
      "cell_type": "code",
      "metadata": {
        "colab": {
          "base_uri": "https://localhost:8080/"
        },
        "id": "3C-YG1q2wSWg",
        "outputId": "62248a86-22d4-4811-bc49-c8a1bb87b716"
      },
      "source": [
        "df.nunique()"
      ],
      "execution_count": null,
      "outputs": [
        {
          "output_type": "execute_result",
          "data": {
            "text/plain": [
              "datetime         8708\n",
              "season              4\n",
              "holiday             2\n",
              "workingday          2\n",
              "weather             4\n",
              "temp               49\n",
              "atemp              60\n",
              "humidity           88\n",
              "windspeed          28\n",
              "Total_booking     797\n",
              "dtype: int64"
            ]
          },
          "metadata": {
            "tags": []
          },
          "execution_count": 11
        }
      ]
    },
    {
      "cell_type": "code",
      "metadata": {
        "colab": {
          "base_uri": "https://localhost:8080/"
        },
        "id": "q-1br9D75Nit",
        "outputId": "3a9aaab4-ff7e-43b9-9b91-81dc425189f3"
      },
      "source": [
        "df.columns"
      ],
      "execution_count": null,
      "outputs": [
        {
          "output_type": "execute_result",
          "data": {
            "text/plain": [
              "Index(['datetime', 'season', 'holiday', 'workingday', 'weather', 'temp',\n",
              "       'atemp', 'humidity', 'windspeed', 'Total_booking'],\n",
              "      dtype='object')"
            ]
          },
          "metadata": {
            "tags": []
          },
          "execution_count": 12
        }
      ]
    },
    {
      "cell_type": "code",
      "metadata": {
        "colab": {
          "base_uri": "https://localhost:8080/",
          "height": 294
        },
        "id": "gI_p8F9U4vP1",
        "outputId": "a8d88c8f-93f1-47d6-f459-f9dfceae6631"
      },
      "source": [
        "df.describe()"
      ],
      "execution_count": null,
      "outputs": [
        {
          "output_type": "execute_result",
          "data": {
            "text/html": [
              "<div>\n",
              "<style scoped>\n",
              "    .dataframe tbody tr th:only-of-type {\n",
              "        vertical-align: middle;\n",
              "    }\n",
              "\n",
              "    .dataframe tbody tr th {\n",
              "        vertical-align: top;\n",
              "    }\n",
              "\n",
              "    .dataframe thead th {\n",
              "        text-align: right;\n",
              "    }\n",
              "</style>\n",
              "<table border=\"1\" class=\"dataframe\">\n",
              "  <thead>\n",
              "    <tr style=\"text-align: right;\">\n",
              "      <th></th>\n",
              "      <th>holiday</th>\n",
              "      <th>workingday</th>\n",
              "      <th>temp</th>\n",
              "      <th>atemp</th>\n",
              "      <th>humidity</th>\n",
              "      <th>windspeed</th>\n",
              "      <th>Total_booking</th>\n",
              "    </tr>\n",
              "  </thead>\n",
              "  <tbody>\n",
              "    <tr>\n",
              "      <th>count</th>\n",
              "      <td>8708.000000</td>\n",
              "      <td>8708.000000</td>\n",
              "      <td>8708.000000</td>\n",
              "      <td>8708.000000</td>\n",
              "      <td>8708.000000</td>\n",
              "      <td>8708.000000</td>\n",
              "      <td>8708.000000</td>\n",
              "    </tr>\n",
              "    <tr>\n",
              "      <th>mean</th>\n",
              "      <td>0.028480</td>\n",
              "      <td>0.680294</td>\n",
              "      <td>20.243020</td>\n",
              "      <td>23.655552</td>\n",
              "      <td>61.649173</td>\n",
              "      <td>12.843891</td>\n",
              "      <td>193.007005</td>\n",
              "    </tr>\n",
              "    <tr>\n",
              "      <th>std</th>\n",
              "      <td>0.166348</td>\n",
              "      <td>0.466389</td>\n",
              "      <td>7.813494</td>\n",
              "      <td>8.501107</td>\n",
              "      <td>19.199578</td>\n",
              "      <td>8.190314</td>\n",
              "      <td>181.552211</td>\n",
              "    </tr>\n",
              "    <tr>\n",
              "      <th>min</th>\n",
              "      <td>0.000000</td>\n",
              "      <td>0.000000</td>\n",
              "      <td>0.820000</td>\n",
              "      <td>0.760000</td>\n",
              "      <td>0.000000</td>\n",
              "      <td>0.000000</td>\n",
              "      <td>1.000000</td>\n",
              "    </tr>\n",
              "    <tr>\n",
              "      <th>25%</th>\n",
              "      <td>0.000000</td>\n",
              "      <td>0.000000</td>\n",
              "      <td>13.940000</td>\n",
              "      <td>16.665000</td>\n",
              "      <td>46.000000</td>\n",
              "      <td>7.001500</td>\n",
              "      <td>43.000000</td>\n",
              "    </tr>\n",
              "    <tr>\n",
              "      <th>50%</th>\n",
              "      <td>0.000000</td>\n",
              "      <td>1.000000</td>\n",
              "      <td>20.500000</td>\n",
              "      <td>24.240000</td>\n",
              "      <td>61.000000</td>\n",
              "      <td>12.998000</td>\n",
              "      <td>148.000000</td>\n",
              "    </tr>\n",
              "    <tr>\n",
              "      <th>75%</th>\n",
              "      <td>0.000000</td>\n",
              "      <td>1.000000</td>\n",
              "      <td>26.240000</td>\n",
              "      <td>31.060000</td>\n",
              "      <td>77.000000</td>\n",
              "      <td>16.997900</td>\n",
              "      <td>286.000000</td>\n",
              "    </tr>\n",
              "    <tr>\n",
              "      <th>max</th>\n",
              "      <td>1.000000</td>\n",
              "      <td>1.000000</td>\n",
              "      <td>41.000000</td>\n",
              "      <td>45.455000</td>\n",
              "      <td>100.000000</td>\n",
              "      <td>56.996900</td>\n",
              "      <td>977.000000</td>\n",
              "    </tr>\n",
              "  </tbody>\n",
              "</table>\n",
              "</div>"
            ],
            "text/plain": [
              "           holiday   workingday  ...    windspeed  Total_booking\n",
              "count  8708.000000  8708.000000  ...  8708.000000    8708.000000\n",
              "mean      0.028480     0.680294  ...    12.843891     193.007005\n",
              "std       0.166348     0.466389  ...     8.190314     181.552211\n",
              "min       0.000000     0.000000  ...     0.000000       1.000000\n",
              "25%       0.000000     0.000000  ...     7.001500      43.000000\n",
              "50%       0.000000     1.000000  ...    12.998000     148.000000\n",
              "75%       0.000000     1.000000  ...    16.997900     286.000000\n",
              "max       1.000000     1.000000  ...    56.996900     977.000000\n",
              "\n",
              "[8 rows x 7 columns]"
            ]
          },
          "metadata": {
            "tags": []
          },
          "execution_count": 13
        }
      ]
    },
    {
      "cell_type": "code",
      "metadata": {
        "colab": {
          "base_uri": "https://localhost:8080/"
        },
        "id": "8ZK-q34d42EC",
        "outputId": "5be393e4-0410-40bb-cfb3-bc3394193748"
      },
      "source": [
        "df.info()"
      ],
      "execution_count": null,
      "outputs": [
        {
          "output_type": "stream",
          "text": [
            "<class 'pandas.core.frame.DataFrame'>\n",
            "RangeIndex: 8708 entries, 0 to 8707\n",
            "Data columns (total 10 columns):\n",
            " #   Column         Non-Null Count  Dtype  \n",
            "---  ------         --------------  -----  \n",
            " 0   datetime       8708 non-null   object \n",
            " 1   season         8708 non-null   object \n",
            " 2   holiday        8708 non-null   int64  \n",
            " 3   workingday     8708 non-null   int64  \n",
            " 4   weather        8708 non-null   object \n",
            " 5   temp           8708 non-null   float64\n",
            " 6   atemp          8708 non-null   float64\n",
            " 7   humidity       8708 non-null   int64  \n",
            " 8   windspeed      8708 non-null   float64\n",
            " 9   Total_booking  8708 non-null   int64  \n",
            "dtypes: float64(3), int64(4), object(3)\n",
            "memory usage: 680.4+ KB\n"
          ],
          "name": "stdout"
        }
      ]
    },
    {
      "cell_type": "markdown",
      "metadata": {
        "id": "wh6nC6-PJ0yq"
      },
      "source": [
        "Feature Engineering- Creating more features to facilitate more insights"
      ]
    },
    {
      "cell_type": "code",
      "metadata": {
        "id": "6YOzmxWF6fAE"
      },
      "source": [
        "df['date']= df.datetime.apply(lambda x: x.split()[0])\r\n",
        "df['hour']= df.datetime.apply(lambda x: x.split()[1].split(\":\")[0])\r\n",
        "df['month']= df.date.apply(lambda x: x.split()[0].split(\"/\")[0])"
      ],
      "execution_count": null,
      "outputs": []
    },
    {
      "cell_type": "code",
      "metadata": {
        "id": "Z7-HSx0zOk9E",
        "colab": {
          "base_uri": "https://localhost:8080/",
          "height": 415
        },
        "outputId": "a48da5c3-3620-469a-9f16-a8a90f6cdeea"
      },
      "source": [
        "df"
      ],
      "execution_count": null,
      "outputs": [
        {
          "output_type": "execute_result",
          "data": {
            "text/html": [
              "<div>\n",
              "<style scoped>\n",
              "    .dataframe tbody tr th:only-of-type {\n",
              "        vertical-align: middle;\n",
              "    }\n",
              "\n",
              "    .dataframe tbody tr th {\n",
              "        vertical-align: top;\n",
              "    }\n",
              "\n",
              "    .dataframe thead th {\n",
              "        text-align: right;\n",
              "    }\n",
              "</style>\n",
              "<table border=\"1\" class=\"dataframe\">\n",
              "  <thead>\n",
              "    <tr style=\"text-align: right;\">\n",
              "      <th></th>\n",
              "      <th>datetime</th>\n",
              "      <th>season</th>\n",
              "      <th>holiday</th>\n",
              "      <th>workingday</th>\n",
              "      <th>weather</th>\n",
              "      <th>temp</th>\n",
              "      <th>atemp</th>\n",
              "      <th>humidity</th>\n",
              "      <th>windspeed</th>\n",
              "      <th>Total_booking</th>\n",
              "      <th>date</th>\n",
              "      <th>hour</th>\n",
              "      <th>month</th>\n",
              "    </tr>\n",
              "  </thead>\n",
              "  <tbody>\n",
              "    <tr>\n",
              "      <th>0</th>\n",
              "      <td>5/2/2012 19:00</td>\n",
              "      <td>Summer</td>\n",
              "      <td>0</td>\n",
              "      <td>1</td>\n",
              "      <td>Clear + Few clouds</td>\n",
              "      <td>22.14</td>\n",
              "      <td>25.760</td>\n",
              "      <td>77</td>\n",
              "      <td>16.9979</td>\n",
              "      <td>504</td>\n",
              "      <td>5/2/2012</td>\n",
              "      <td>19</td>\n",
              "      <td>5</td>\n",
              "    </tr>\n",
              "    <tr>\n",
              "      <th>1</th>\n",
              "      <td>9/5/2012 4:00</td>\n",
              "      <td>Fall</td>\n",
              "      <td>0</td>\n",
              "      <td>1</td>\n",
              "      <td>Clear + Few clouds</td>\n",
              "      <td>28.70</td>\n",
              "      <td>33.335</td>\n",
              "      <td>79</td>\n",
              "      <td>19.0012</td>\n",
              "      <td>5</td>\n",
              "      <td>9/5/2012</td>\n",
              "      <td>4</td>\n",
              "      <td>9</td>\n",
              "    </tr>\n",
              "    <tr>\n",
              "      <th>2</th>\n",
              "      <td>1/13/2011 9:00</td>\n",
              "      <td>Spring</td>\n",
              "      <td>0</td>\n",
              "      <td>1</td>\n",
              "      <td>Clear + Few clouds</td>\n",
              "      <td>5.74</td>\n",
              "      <td>6.060</td>\n",
              "      <td>50</td>\n",
              "      <td>22.0028</td>\n",
              "      <td>139</td>\n",
              "      <td>1/13/2011</td>\n",
              "      <td>9</td>\n",
              "      <td>1</td>\n",
              "    </tr>\n",
              "    <tr>\n",
              "      <th>3</th>\n",
              "      <td>11/18/2011 16:00</td>\n",
              "      <td>Winter</td>\n",
              "      <td>0</td>\n",
              "      <td>1</td>\n",
              "      <td>Clear + Few clouds</td>\n",
              "      <td>13.94</td>\n",
              "      <td>16.665</td>\n",
              "      <td>29</td>\n",
              "      <td>8.9981</td>\n",
              "      <td>209</td>\n",
              "      <td>11/18/2011</td>\n",
              "      <td>16</td>\n",
              "      <td>11</td>\n",
              "    </tr>\n",
              "    <tr>\n",
              "      <th>4</th>\n",
              "      <td>9/13/2011 13:00</td>\n",
              "      <td>Fall</td>\n",
              "      <td>0</td>\n",
              "      <td>1</td>\n",
              "      <td>Clear + Few clouds</td>\n",
              "      <td>30.34</td>\n",
              "      <td>33.335</td>\n",
              "      <td>51</td>\n",
              "      <td>19.0012</td>\n",
              "      <td>184</td>\n",
              "      <td>9/13/2011</td>\n",
              "      <td>13</td>\n",
              "      <td>9</td>\n",
              "    </tr>\n",
              "    <tr>\n",
              "      <th>...</th>\n",
              "      <td>...</td>\n",
              "      <td>...</td>\n",
              "      <td>...</td>\n",
              "      <td>...</td>\n",
              "      <td>...</td>\n",
              "      <td>...</td>\n",
              "      <td>...</td>\n",
              "      <td>...</td>\n",
              "      <td>...</td>\n",
              "      <td>...</td>\n",
              "      <td>...</td>\n",
              "      <td>...</td>\n",
              "      <td>...</td>\n",
              "    </tr>\n",
              "    <tr>\n",
              "      <th>8703</th>\n",
              "      <td>1/16/2012 6:00</td>\n",
              "      <td>Spring</td>\n",
              "      <td>1</td>\n",
              "      <td>0</td>\n",
              "      <td>Clear + Few clouds</td>\n",
              "      <td>4.10</td>\n",
              "      <td>6.820</td>\n",
              "      <td>54</td>\n",
              "      <td>6.0032</td>\n",
              "      <td>13</td>\n",
              "      <td>1/16/2012</td>\n",
              "      <td>6</td>\n",
              "      <td>1</td>\n",
              "    </tr>\n",
              "    <tr>\n",
              "      <th>8704</th>\n",
              "      <td>11/10/2011 1:00</td>\n",
              "      <td>Winter</td>\n",
              "      <td>0</td>\n",
              "      <td>1</td>\n",
              "      <td>Mist + Cloudy</td>\n",
              "      <td>16.40</td>\n",
              "      <td>20.455</td>\n",
              "      <td>87</td>\n",
              "      <td>0.0000</td>\n",
              "      <td>11</td>\n",
              "      <td>11/10/2011</td>\n",
              "      <td>1</td>\n",
              "      <td>11</td>\n",
              "    </tr>\n",
              "    <tr>\n",
              "      <th>8705</th>\n",
              "      <td>4/12/2011 3:00</td>\n",
              "      <td>Summer</td>\n",
              "      <td>0</td>\n",
              "      <td>1</td>\n",
              "      <td>Mist + Cloudy</td>\n",
              "      <td>23.78</td>\n",
              "      <td>27.275</td>\n",
              "      <td>56</td>\n",
              "      <td>8.9981</td>\n",
              "      <td>1</td>\n",
              "      <td>4/12/2011</td>\n",
              "      <td>3</td>\n",
              "      <td>4</td>\n",
              "    </tr>\n",
              "    <tr>\n",
              "      <th>8706</th>\n",
              "      <td>11/7/2012 1:00</td>\n",
              "      <td>Winter</td>\n",
              "      <td>0</td>\n",
              "      <td>1</td>\n",
              "      <td>Mist + Cloudy</td>\n",
              "      <td>11.48</td>\n",
              "      <td>13.635</td>\n",
              "      <td>61</td>\n",
              "      <td>16.9979</td>\n",
              "      <td>92</td>\n",
              "      <td>11/7/2012</td>\n",
              "      <td>1</td>\n",
              "      <td>11</td>\n",
              "    </tr>\n",
              "    <tr>\n",
              "      <th>8707</th>\n",
              "      <td>1/10/2011 10:00</td>\n",
              "      <td>Spring</td>\n",
              "      <td>0</td>\n",
              "      <td>1</td>\n",
              "      <td>Mist + Cloudy</td>\n",
              "      <td>5.74</td>\n",
              "      <td>6.060</td>\n",
              "      <td>50</td>\n",
              "      <td>19.9995</td>\n",
              "      <td>31</td>\n",
              "      <td>1/10/2011</td>\n",
              "      <td>10</td>\n",
              "      <td>1</td>\n",
              "    </tr>\n",
              "  </tbody>\n",
              "</table>\n",
              "<p>8708 rows × 13 columns</p>\n",
              "</div>"
            ],
            "text/plain": [
              "              datetime  season  holiday  ...        date hour  month\n",
              "0       5/2/2012 19:00  Summer        0  ...    5/2/2012   19      5\n",
              "1        9/5/2012 4:00    Fall        0  ...    9/5/2012    4      9\n",
              "2       1/13/2011 9:00  Spring        0  ...   1/13/2011    9      1\n",
              "3     11/18/2011 16:00  Winter        0  ...  11/18/2011   16     11\n",
              "4      9/13/2011 13:00    Fall        0  ...   9/13/2011   13      9\n",
              "...                ...     ...      ...  ...         ...  ...    ...\n",
              "8703    1/16/2012 6:00  Spring        1  ...   1/16/2012    6      1\n",
              "8704   11/10/2011 1:00  Winter        0  ...  11/10/2011    1     11\n",
              "8705    4/12/2011 3:00  Summer        0  ...   4/12/2011    3      4\n",
              "8706    11/7/2012 1:00  Winter        0  ...   11/7/2012    1     11\n",
              "8707   1/10/2011 10:00  Spring        0  ...   1/10/2011   10      1\n",
              "\n",
              "[8708 rows x 13 columns]"
            ]
          },
          "metadata": {
            "tags": []
          },
          "execution_count": 16
        }
      ]
    },
    {
      "cell_type": "markdown",
      "metadata": {
        "id": "6CB_txR3JYa1"
      },
      "source": [
        "Outlier Analysis"
      ]
    },
    {
      "cell_type": "code",
      "metadata": {
        "id": "Yr2L1RDlK8Z2",
        "colab": {
          "base_uri": "https://localhost:8080/",
          "height": 881
        },
        "outputId": "a19a8412-4fbe-459f-f655-09573562a797"
      },
      "source": [
        "df.boxplot(figsize=(10,15))"
      ],
      "execution_count": null,
      "outputs": [
        {
          "output_type": "execute_result",
          "data": {
            "text/plain": [
              "<matplotlib.axes._subplots.AxesSubplot at 0x7f4dcf22e470>"
            ]
          },
          "metadata": {
            "tags": []
          },
          "execution_count": 17
        },
        {
          "output_type": "display_data",
          "data": {
            "image/png": "[encoded data removed]",
            "text/plain": [
              "<Figure size 720x1080 with 1 Axes>"
            ]
          },
          "metadata": {
            "tags": [],
            "needs_background": "light"
          }
        }
      ]
    },
    {
      "cell_type": "markdown",
      "metadata": {
        "id": "3nMhBh_rJcet"
      },
      "source": [
        "Removing Outliers"
      ]
    },
    {
      "cell_type": "code",
      "metadata": {
        "id": "FwRFWVDy6Z1x"
      },
      "source": [
        "q1 = df['windspeed'].quantile(.25)\r\n",
        "q3 = df['windspeed'].quantile(.75)\r\n",
        "IQR = q3-q1\r\n",
        "df['windspeed'] = np.clip(df['windspeed'],q1-1.5*IQR, q3+1.5*IQR)\r\n",
        "q1 = df['Total_booking'].quantile(.25)\r\n",
        "q3 = df['Total_booking'].quantile(.75)\r\n",
        "IQR = q3-q1\r\n",
        "df['Total_booking'] = np.clip(df['Total_booking'],q1-1.5*IQR, q3+1.5*IQR)"
      ],
      "execution_count": null,
      "outputs": []
    },
    {
      "cell_type": "markdown",
      "metadata": {
        "id": "Otqn9kXTJkgv"
      },
      "source": [
        "Correlation Analysis"
      ]
    },
    {
      "cell_type": "code",
      "metadata": {
        "id": "S6Nve9gzLESB",
        "colab": {
          "base_uri": "https://localhost:8080/",
          "height": 263
        },
        "outputId": "c5682955-fd59-4e5f-a9ad-4e88d5ebbf7e"
      },
      "source": [
        "df.corr()"
      ],
      "execution_count": null,
      "outputs": [
        {
          "output_type": "execute_result",
          "data": {
            "text/html": [
              "<div>\n",
              "<style scoped>\n",
              "    .dataframe tbody tr th:only-of-type {\n",
              "        vertical-align: middle;\n",
              "    }\n",
              "\n",
              "    .dataframe tbody tr th {\n",
              "        vertical-align: top;\n",
              "    }\n",
              "\n",
              "    .dataframe thead th {\n",
              "        text-align: right;\n",
              "    }\n",
              "</style>\n",
              "<table border=\"1\" class=\"dataframe\">\n",
              "  <thead>\n",
              "    <tr style=\"text-align: right;\">\n",
              "      <th></th>\n",
              "      <th>holiday</th>\n",
              "      <th>workingday</th>\n",
              "      <th>temp</th>\n",
              "      <th>atemp</th>\n",
              "      <th>humidity</th>\n",
              "      <th>windspeed</th>\n",
              "      <th>Total_booking</th>\n",
              "    </tr>\n",
              "  </thead>\n",
              "  <tbody>\n",
              "    <tr>\n",
              "      <th>holiday</th>\n",
              "      <td>1.000000</td>\n",
              "      <td>-0.249755</td>\n",
              "      <td>-0.000165</td>\n",
              "      <td>-0.005526</td>\n",
              "      <td>-0.004567</td>\n",
              "      <td>0.009161</td>\n",
              "      <td>-0.002029</td>\n",
              "    </tr>\n",
              "    <tr>\n",
              "      <th>workingday</th>\n",
              "      <td>-0.249755</td>\n",
              "      <td>1.000000</td>\n",
              "      <td>0.032189</td>\n",
              "      <td>0.026168</td>\n",
              "      <td>-0.009282</td>\n",
              "      <td>0.014731</td>\n",
              "      <td>0.003846</td>\n",
              "    </tr>\n",
              "    <tr>\n",
              "      <th>temp</th>\n",
              "      <td>-0.000165</td>\n",
              "      <td>0.032189</td>\n",
              "      <td>1.000000</td>\n",
              "      <td>0.984035</td>\n",
              "      <td>-0.066419</td>\n",
              "      <td>-0.024220</td>\n",
              "      <td>0.402210</td>\n",
              "    </tr>\n",
              "    <tr>\n",
              "      <th>atemp</th>\n",
              "      <td>-0.005526</td>\n",
              "      <td>0.026168</td>\n",
              "      <td>0.984035</td>\n",
              "      <td>1.000000</td>\n",
              "      <td>-0.044206</td>\n",
              "      <td>-0.065317</td>\n",
              "      <td>0.397661</td>\n",
              "    </tr>\n",
              "    <tr>\n",
              "      <th>humidity</th>\n",
              "      <td>-0.004567</td>\n",
              "      <td>-0.009282</td>\n",
              "      <td>-0.066419</td>\n",
              "      <td>-0.044206</td>\n",
              "      <td>1.000000</td>\n",
              "      <td>-0.320454</td>\n",
              "      <td>-0.313648</td>\n",
              "    </tr>\n",
              "    <tr>\n",
              "      <th>windspeed</th>\n",
              "      <td>0.009161</td>\n",
              "      <td>0.014731</td>\n",
              "      <td>-0.024220</td>\n",
              "      <td>-0.065317</td>\n",
              "      <td>-0.320454</td>\n",
              "      <td>1.000000</td>\n",
              "      <td>0.099736</td>\n",
              "    </tr>\n",
              "    <tr>\n",
              "      <th>Total_booking</th>\n",
              "      <td>-0.002029</td>\n",
              "      <td>0.003846</td>\n",
              "      <td>0.402210</td>\n",
              "      <td>0.397661</td>\n",
              "      <td>-0.313648</td>\n",
              "      <td>0.099736</td>\n",
              "      <td>1.000000</td>\n",
              "    </tr>\n",
              "  </tbody>\n",
              "</table>\n",
              "</div>"
            ],
            "text/plain": [
              "                holiday  workingday  ...  windspeed  Total_booking\n",
              "holiday        1.000000   -0.249755  ...   0.009161      -0.002029\n",
              "workingday    -0.249755    1.000000  ...   0.014731       0.003846\n",
              "temp          -0.000165    0.032189  ...  -0.024220       0.402210\n",
              "atemp         -0.005526    0.026168  ...  -0.065317       0.397661\n",
              "humidity      -0.004567   -0.009282  ...  -0.320454      -0.313648\n",
              "windspeed      0.009161    0.014731  ...   1.000000       0.099736\n",
              "Total_booking -0.002029    0.003846  ...   0.099736       1.000000\n",
              "\n",
              "[7 rows x 7 columns]"
            ]
          },
          "metadata": {
            "tags": []
          },
          "execution_count": 19
        }
      ]
    },
    {
      "cell_type": "code",
      "metadata": {
        "id": "gSyOkbb5LQl_",
        "colab": {
          "base_uri": "https://localhost:8080/",
          "height": 295
        },
        "outputId": "d19a01ac-51ad-4526-cb21-fccdb3a94b31"
      },
      "source": [
        "df.plot.scatter(x='season', y='Total_booking', title= \"Scatter plot between two columns of a multi-column DataFrame\");"
      ],
      "execution_count": null,
      "outputs": [
        {
          "output_type": "display_data",
          "data": {
            "image/png": "[encoded data removed]",
            "text/plain": [
              "<Figure size 432x288 with 1 Axes>"
            ]
          },
          "metadata": {
            "tags": [],
            "needs_background": "light"
          }
        }
      ]
    },
    {
      "cell_type": "code",
      "metadata": {
        "id": "G1v8uu8NdbHu",
        "colab": {
          "base_uri": "https://localhost:8080/",
          "height": 345
        },
        "outputId": "d01cb505-183d-4503-c569-7d48566c01a1"
      },
      "source": [
        "sns.heatmap(df.corr(), annot=True)"
      ],
      "execution_count": null,
      "outputs": [
        {
          "output_type": "execute_result",
          "data": {
            "text/plain": [
              "<matplotlib.axes._subplots.AxesSubplot at 0x7f4dce2050b8>"
            ]
          },
          "metadata": {
            "tags": []
          },
          "execution_count": 21
        },
        {
          "output_type": "display_data",
          "data": {
            "image/png": "[encoded data removed]",
            "text/plain": [
              "<Figure size 432x288 with 2 Axes>"
            ]
          },
          "metadata": {
            "tags": [],
            "needs_background": "light"
          }
        }
      ]
    },
    {
      "cell_type": "markdown",
      "metadata": {
        "id": "SSEaQTtdJp9h"
      },
      "source": [
        "Plotting Histogram to visualise categorical values"
      ]
    },
    {
      "cell_type": "code",
      "metadata": {
        "colab": {
          "base_uri": "https://localhost:8080/",
          "height": 455
        },
        "id": "suFhKIPPa3Xp",
        "outputId": "0711b3dc-6474-4a3d-a19f-505fc9b5b5a0"
      },
      "source": [
        "df.hist()"
      ],
      "execution_count": null,
      "outputs": [
        {
          "output_type": "execute_result",
          "data": {
            "text/plain": [
              "array([[<matplotlib.axes._subplots.AxesSubplot object at 0x7f4dc57f49b0>,\n",
              "        <matplotlib.axes._subplots.AxesSubplot object at 0x7f4dc579df28>,\n",
              "        <matplotlib.axes._subplots.AxesSubplot object at 0x7f4dc575c1d0>],\n",
              "       [<matplotlib.axes._subplots.AxesSubplot object at 0x7f4dc570f438>,\n",
              "        <matplotlib.axes._subplots.AxesSubplot object at 0x7f4dc57426a0>,\n",
              "        <matplotlib.axes._subplots.AxesSubplot object at 0x7f4dc56f8908>],\n",
              "       [<matplotlib.axes._subplots.AxesSubplot object at 0x7f4dc56aab70>,\n",
              "        <matplotlib.axes._subplots.AxesSubplot object at 0x7f4dc565eda0>,\n",
              "        <matplotlib.axes._subplots.AxesSubplot object at 0x7f4dc565ee10>]],\n",
              "      dtype=object)"
            ]
          },
          "metadata": {
            "tags": []
          },
          "execution_count": 23
        },
        {
          "output_type": "display_data",
          "data": {
            "image/png": "[encoded data removed]",
            "text/plain": [
              "<Figure size 432x288 with 9 Axes>"
            ]
          },
          "metadata": {
            "tags": [],
            "needs_background": "light"
          }
        }
      ]
    },
    {
      "cell_type": "markdown",
      "metadata": {
        "id": "wc9Ebjo156OT"
      },
      "source": [
        "Visualizing Total_booking Vs other features to generate insights"
      ]
    },
    {
      "cell_type": "code",
      "metadata": {
        "colab": {
          "base_uri": "https://localhost:8080/"
        },
        "id": "vVhUiBH4wSTJ",
        "outputId": "46c471a8-2dbf-4d83-f298-fcf9938c0297"
      },
      "source": [
        "df.groupby('season')['Total_booking'].count().sort_values(ascending=False)"
      ],
      "execution_count": null,
      "outputs": [
        {
          "output_type": "execute_result",
          "data": {
            "text/plain": [
              "season\n",
              "Summer    2197\n",
              "Fall      2189\n",
              "Winter    2186\n",
              "Spring    2136\n",
              "Name: Total_booking, dtype: int64"
            ]
          },
          "metadata": {
            "tags": []
          },
          "execution_count": 24
        }
      ]
    },
    {
      "cell_type": "code",
      "metadata": {
        "colab": {
          "base_uri": "https://localhost:8080/"
        },
        "id": "MLE0f__x0nwY",
        "outputId": "1ff4c2b4-6480-4918-ef52-68b021c9fbfb"
      },
      "source": [
        "df.groupby('workingday')['Total_booking'].count().sort_values(ascending=False)"
      ],
      "execution_count": null,
      "outputs": [
        {
          "output_type": "execute_result",
          "data": {
            "text/plain": [
              "workingday\n",
              "1    5924\n",
              "0    2784\n",
              "Name: Total_booking, dtype: int64"
            ]
          },
          "metadata": {
            "tags": []
          },
          "execution_count": 25
        }
      ]
    },
    {
      "cell_type": "code",
      "metadata": {
        "colab": {
          "base_uri": "https://localhost:8080/"
        },
        "id": "MlZLxF3DLlH3",
        "outputId": "97fa3472-e578-43e6-ce35-f92b3a036dd6"
      },
      "source": [
        "df.groupby('month')['Total_booking'].count().sort_values(ascending=False)"
      ],
      "execution_count": null,
      "outputs": [
        {
          "output_type": "execute_result",
          "data": {
            "text/plain": [
              "month\n",
              "11    740\n",
              "4     736\n",
              "6     734\n",
              "7     733\n",
              "12    733\n",
              "8     731\n",
              "5     727\n",
              "9     725\n",
              "2     723\n",
              "3     720\n",
              "10    713\n",
              "1     693\n",
              "Name: Total_booking, dtype: int64"
            ]
          },
          "metadata": {
            "tags": []
          },
          "execution_count": 26
        }
      ]
    },
    {
      "cell_type": "code",
      "metadata": {
        "colab": {
          "base_uri": "https://localhost:8080/"
        },
        "id": "1JaVlQHqy25n",
        "outputId": "af338940-32b6-426c-bd64-5e8c227d3651"
      },
      "source": [
        "df.groupby('weather')['Total_booking'].count().sort_values(ascending=False)"
      ],
      "execution_count": null,
      "outputs": [
        {
          "output_type": "execute_result",
          "data": {
            "text/plain": [
              "weather\n",
              " Clear + Few clouds            5753\n",
              " Mist + Cloudy                 2276\n",
              " Light Snow, Light Rain         678\n",
              " Heavy Rain + Thunderstorm        1\n",
              "Name: Total_booking, dtype: int64"
            ]
          },
          "metadata": {
            "tags": []
          },
          "execution_count": 27
        }
      ]
    },
    {
      "cell_type": "code",
      "metadata": {
        "colab": {
          "base_uri": "https://localhost:8080/",
          "height": 301
        },
        "id": "SYXjix3c0cgl",
        "outputId": "191cb0b6-8a1a-47b3-a8a9-d973d6c1eb84"
      },
      "source": [
        "df.groupby('season')['Total_booking'].count().plot()"
      ],
      "execution_count": null,
      "outputs": [
        {
          "output_type": "execute_result",
          "data": {
            "text/plain": [
              "<matplotlib.axes._subplots.AxesSubplot at 0x7f4dc54f2be0>"
            ]
          },
          "metadata": {
            "tags": []
          },
          "execution_count": 28
        },
        {
          "output_type": "display_data",
          "data": {
            "image/png": "[encoded data removed]",
            "text/plain": [
              "<Figure size 432x288 with 1 Axes>"
            ]
          },
          "metadata": {
            "tags": [],
            "needs_background": "light"
          }
        }
      ]
    },
    {
      "cell_type": "code",
      "metadata": {
        "colab": {
          "base_uri": "https://localhost:8080/",
          "height": 329
        },
        "id": "eXpgGvzIfDPE",
        "outputId": "1099da89-18f2-4a2e-8243-e927354fd709"
      },
      "source": [
        "df.groupby('season')['Total_booking'].count().plot.bar()"
      ],
      "execution_count": null,
      "outputs": [
        {
          "output_type": "execute_result",
          "data": {
            "text/plain": [
              "<matplotlib.axes._subplots.AxesSubplot at 0x7f4dc5479d68>"
            ]
          },
          "metadata": {
            "tags": []
          },
          "execution_count": 29
        },
        {
          "output_type": "display_data",
          "data": {
            "image/png": "[encoded data removed]",
            "text/plain": [
              "<Figure size 432x288 with 1 Axes>"
            ]
          },
          "metadata": {
            "tags": [],
            "needs_background": "light"
          }
        }
      ]
    },
    {
      "cell_type": "code",
      "metadata": {
        "colab": {
          "base_uri": "https://localhost:8080/",
          "height": 297
        },
        "id": "M-9EONl-drl2",
        "outputId": "36c63911-2b8c-474c-abdb-41cac2a054ad"
      },
      "source": [
        "df.groupby('month')['Total_booking'].count().plot()"
      ],
      "execution_count": null,
      "outputs": [
        {
          "output_type": "execute_result",
          "data": {
            "text/plain": [
              "<matplotlib.axes._subplots.AxesSubplot at 0x7f4dc55166a0>"
            ]
          },
          "metadata": {
            "tags": []
          },
          "execution_count": 30
        },
        {
          "output_type": "display_data",
          "data": {
            "image/png": "[encoded data removed]",
            "text/plain": [
              "<Figure size 432x288 with 1 Axes>"
            ]
          },
          "metadata": {
            "tags": [],
            "needs_background": "light"
          }
        }
      ]
    },
    {
      "cell_type": "code",
      "metadata": {
        "colab": {
          "base_uri": "https://localhost:8080/",
          "height": 299
        },
        "id": "YXFuThnWfUHk",
        "outputId": "4f3c87c2-6e66-4fac-984a-3d4cbeb4f000"
      },
      "source": [
        "df.groupby('month')['Total_booking'].count().plot.bar()"
      ],
      "execution_count": null,
      "outputs": [
        {
          "output_type": "execute_result",
          "data": {
            "text/plain": [
              "<matplotlib.axes._subplots.AxesSubplot at 0x7f4dc53a1320>"
            ]
          },
          "metadata": {
            "tags": []
          },
          "execution_count": 31
        },
        {
          "output_type": "display_data",
          "data": {
            "image/png": "[encoded data removed]",
            "text/plain": [
              "<Figure size 432x288 with 1 Axes>"
            ]
          },
          "metadata": {
            "tags": [],
            "needs_background": "light"
          }
        }
      ]
    },
    {
      "cell_type": "code",
      "metadata": {
        "colab": {
          "base_uri": "https://localhost:8080/",
          "height": 299
        },
        "id": "kJEo9PGyfJp3",
        "outputId": "22f76f0f-4b70-4fcc-fb67-67168dcfc5a8"
      },
      "source": [
        "df.groupby('weather')['Total_booking'].count().plot()"
      ],
      "execution_count": null,
      "outputs": [
        {
          "output_type": "execute_result",
          "data": {
            "text/plain": [
              "<matplotlib.axes._subplots.AxesSubplot at 0x7f4dc5705860>"
            ]
          },
          "metadata": {
            "tags": []
          },
          "execution_count": 32
        },
        {
          "output_type": "display_data",
          "data": {
            "image/png": "[encoded data removed]",
            "text/plain": [
              "<Figure size 432x288 with 1 Axes>"
            ]
          },
          "metadata": {
            "tags": [],
            "needs_background": "light"
          }
        }
      ]
    },
    {
      "cell_type": "code",
      "metadata": {
        "colab": {
          "base_uri": "https://localhost:8080/",
          "height": 437
        },
        "id": "3pNqBxsDfaCQ",
        "outputId": "e1ac291d-3d9b-4435-b6ef-1840512601ab"
      },
      "source": [
        "df.groupby('weather')['Total_booking'].count().plot.bar()"
      ],
      "execution_count": null,
      "outputs": [
        {
          "output_type": "execute_result",
          "data": {
            "text/plain": [
              "<matplotlib.axes._subplots.AxesSubplot at 0x7f4dc55f0400>"
            ]
          },
          "metadata": {
            "tags": []
          },
          "execution_count": 33
        },
        {
          "output_type": "display_data",
          "data": {
            "image/png": "[encoded data removed]",
            "text/plain": [
              "<Figure size 432x288 with 1 Axes>"
            ]
          },
          "metadata": {
            "tags": [],
            "needs_background": "light"
          }
        }
      ]
    },
    {
      "cell_type": "code",
      "metadata": {
        "colab": {
          "base_uri": "https://localhost:8080/",
          "height": 297
        },
        "id": "S7iqFoUlgDqQ",
        "outputId": "880db61a-f636-446d-c0c2-3469a905bf60"
      },
      "source": [
        "df.groupby('temp')['Total_booking'].count().plot()"
      ],
      "execution_count": null,
      "outputs": [
        {
          "output_type": "execute_result",
          "data": {
            "text/plain": [
              "<matplotlib.axes._subplots.AxesSubplot at 0x7f4dc5291978>"
            ]
          },
          "metadata": {
            "tags": []
          },
          "execution_count": 34
        },
        {
          "output_type": "display_data",
          "data": {
            "image/png": "[encoded data removed]",
            "text/plain": [
              "<Figure size 432x288 with 1 Axes>"
            ]
          },
          "metadata": {
            "tags": [],
            "needs_background": "light"
          }
        }
      ]
    },
    {
      "cell_type": "code",
      "metadata": {
        "colab": {
          "base_uri": "https://localhost:8080/"
        },
        "id": "o-f1pL2cgq8B",
        "outputId": "8d58659f-71a1-4016-fe9b-e899b787fb6f"
      },
      "source": [
        "df.groupby('hour')['Total_booking'].count().sort_values(ascending=False)"
      ],
      "execution_count": null,
      "outputs": [
        {
          "output_type": "execute_result",
          "data": {
            "text/plain": [
              "hour\n",
              "10    384\n",
              "9     381\n",
              "13    377\n",
              "23    373\n",
              "15    371\n",
              "16    371\n",
              "12    370\n",
              "19    368\n",
              "18    366\n",
              "17    365\n",
              "6     365\n",
              "11    362\n",
              "22    361\n",
              "21    361\n",
              "2     360\n",
              "5     360\n",
              "7     359\n",
              "20    358\n",
              "3     353\n",
              "14    353\n",
              "1     353\n",
              "0     350\n",
              "8     346\n",
              "4     341\n",
              "Name: Total_booking, dtype: int64"
            ]
          },
          "metadata": {
            "tags": []
          },
          "execution_count": 35
        }
      ]
    },
    {
      "cell_type": "code",
      "metadata": {
        "colab": {
          "base_uri": "https://localhost:8080/",
          "height": 297
        },
        "id": "vBNHqDnhgh_u",
        "outputId": "808da9c6-88ea-467a-d5c1-6ec507f411b0"
      },
      "source": [
        "df.groupby('hour')['Total_booking'].count().plot()"
      ],
      "execution_count": null,
      "outputs": [
        {
          "output_type": "execute_result",
          "data": {
            "text/plain": [
              "<matplotlib.axes._subplots.AxesSubplot at 0x7f4dc52caac8>"
            ]
          },
          "metadata": {
            "tags": []
          },
          "execution_count": 36
        },
        {
          "output_type": "display_data",
          "data": {
            "image/png": "[encoded data removed]",
            "text/plain": [
              "<Figure size 432x288 with 1 Axes>"
            ]
          },
          "metadata": {
            "tags": [],
            "needs_background": "light"
          }
        }
      ]
    },
    {
      "cell_type": "code",
      "metadata": {
        "colab": {
          "base_uri": "https://localhost:8080/",
          "height": 301
        },
        "id": "9xiWefhFg4CK",
        "outputId": "2692a700-ce94-4f22-e87a-7fc29b023456"
      },
      "source": [
        "df.groupby('hour')['Total_booking'].count().plot.bar()"
      ],
      "execution_count": null,
      "outputs": [
        {
          "output_type": "execute_result",
          "data": {
            "text/plain": [
              "<matplotlib.axes._subplots.AxesSubplot at 0x7f4dc523fe48>"
            ]
          },
          "metadata": {
            "tags": []
          },
          "execution_count": 37
        },
        {
          "output_type": "display_data",
          "data": {
            "image/png": "[encoded data removed]",
            "text/plain": [
              "<Figure size 432x288 with 1 Axes>"
            ]
          },
          "metadata": {
            "tags": [],
            "needs_background": "light"
          }
        }
      ]
    },
    {
      "cell_type": "markdown",
      "metadata": {
        "id": "R9au9fokKdSs"
      },
      "source": [
        "Insights on features that pulled highest bookings"
      ]
    },
    {
      "cell_type": "code",
      "metadata": {
        "colab": {
          "base_uri": "https://localhost:8080/"
        },
        "id": "evcCPDFAeJ-0",
        "outputId": "7ebd219d-f232-4039-b68f-6f6eda193bd7"
      },
      "source": [
        "print('Hour of Time with Highest Bookings:',df['hour'].value_counts().index[0])\r\n",
        "print('Month with Highest Bookings:',df['month'].value_counts().index[0])\r\n",
        "print('Season with Highest Bookings:',df['season'].value_counts().index[0])\r\n",
        "print('Weather with Highest Bookings:',df['weather'].value_counts().index[0])"
      ],
      "execution_count": null,
      "outputs": [
        {
          "output_type": "stream",
          "text": [
            "Hour of Time with Highest Bookings: 10\n",
            "Month with Highest Bookings: 11\n",
            "Season with Highest Bookings: Summer\n",
            "Weather with Highest Bookings:  Clear + Few clouds\n"
          ],
          "name": "stdout"
        }
      ]
    },
    {
      "cell_type": "markdown",
      "metadata": {
        "id": "L5jZII5AK_1-"
      },
      "source": [
        "Feature Engineering"
      ]
    },
    {
      "cell_type": "code",
      "metadata": {
        "id": "RIaiMsVrf_ne"
      },
      "source": [
        "df= df.drop([\"date\", \"month\", \"hour\"], axis=1)"
      ],
      "execution_count": null,
      "outputs": []
    },
    {
      "cell_type": "code",
      "metadata": {
        "colab": {
          "base_uri": "https://localhost:8080/"
        },
        "id": "O99eyOgFjYY1",
        "outputId": "1a246d78-bf7a-4aa3-cdfa-1bafa17e1869"
      },
      "source": [
        "from sklearn.preprocessing import LabelEncoder\r\n",
        "le=LabelEncoder()\r\n",
        "df['season']=le.fit_transform(df['season'])\r\n",
        "print(df.head())\r\n",
        "print(df['season'].unique())"
      ],
      "execution_count": null,
      "outputs": [
        {
          "output_type": "stream",
          "text": [
            "           datetime  season  holiday  ...  humidity windspeed  Total_booking\n",
            "0    5/2/2012 19:00       2        0  ...        77   16.9979          504.0\n",
            "1     9/5/2012 4:00       0        0  ...        79   19.0012            5.0\n",
            "2    1/13/2011 9:00       1        0  ...        50   22.0028          139.0\n",
            "3  11/18/2011 16:00       3        0  ...        29    8.9981          209.0\n",
            "4   9/13/2011 13:00       0        0  ...        51   19.0012          184.0\n",
            "\n",
            "[5 rows x 10 columns]\n",
            "[2 0 1 3]\n"
          ],
          "name": "stdout"
        }
      ]
    },
    {
      "cell_type": "code",
      "metadata": {
        "colab": {
          "base_uri": "https://localhost:8080/"
        },
        "id": "AAgN_mayjtTj",
        "outputId": "82c7bc56-24e1-46be-f5bc-7fd3492f19f3"
      },
      "source": [
        "from sklearn.preprocessing import LabelEncoder\r\n",
        "le=LabelEncoder()\r\n",
        "df['weather']=le.fit_transform(df['weather'])\r\n",
        "print(df.head())\r\n",
        "print(df['weather'].unique())"
      ],
      "execution_count": null,
      "outputs": [
        {
          "output_type": "stream",
          "text": [
            "           datetime  season  holiday  ...  humidity  windspeed  Total_booking\n",
            "0    5/2/2012 19:00       2        0  ...        77    16.9979          504.0\n",
            "1     9/5/2012 4:00       0        0  ...        79    19.0012            5.0\n",
            "2    1/13/2011 9:00       1        0  ...        50    22.0028          139.0\n",
            "3  11/18/2011 16:00       3        0  ...        29     8.9981          209.0\n",
            "4   9/13/2011 13:00       0        0  ...        51    19.0012          184.0\n",
            "\n",
            "[5 rows x 10 columns]\n",
            "[0 2 3 1]\n"
          ],
          "name": "stdout"
        }
      ]
    },
    {
      "cell_type": "code",
      "metadata": {
        "id": "0AGDfm39j9DC",
        "colab": {
          "base_uri": "https://localhost:8080/"
        },
        "outputId": "4271a169-b0cf-4833-858a-7d35eb23d8dc"
      },
      "source": [
        "from sklearn.preprocessing import LabelEncoder\r\n",
        "le=LabelEncoder()\r\n",
        "df['datetime']=le.fit_transform(df['datetime'])\r\n",
        "print(df.head())\r\n",
        "print(df['datetime'].unique())"
      ],
      "execution_count": null,
      "outputs": [
        {
          "output_type": "stream",
          "text": [
            "   datetime  season  holiday  ...  humidity  windspeed  Total_booking\n",
            "0      5510       2        0  ...        77    16.9979          504.0\n",
            "1      8549       0        0  ...        79    19.0012            5.0\n",
            "2       153       1        0  ...        50    22.0028          139.0\n",
            "3      1763       3        0  ...        29     8.9981          209.0\n",
            "4      8134       0        0  ...        51    19.0012          184.0\n",
            "\n",
            "[5 rows x 10 columns]\n",
            "[5510 8549  153 ... 4443 2055   41]\n"
          ],
          "name": "stdout"
        }
      ]
    },
    {
      "cell_type": "code",
      "metadata": {
        "colab": {
          "base_uri": "https://localhost:8080/"
        },
        "id": "Wvq4uQz99Bps",
        "outputId": "30b067fc-ade6-49f2-d6be-bd5bca82696d"
      },
      "source": [
        "from sklearn.preprocessing import LabelEncoder\r\n",
        "le=LabelEncoder()\r\n",
        "X_test['datetime']=le.fit_transform(X_test['datetime'])\r\n",
        "print(X_test.head())\r\n",
        "print(X_test['datetime'].unique())"
      ],
      "execution_count": null,
      "outputs": [
        {
          "output_type": "stream",
          "text": [
            "   datetime  season  holiday  workingday  ...   temp   atemp  humidity  windspeed\n",
            "0      1286  Summer        0           1  ...  21.32  25.000        48    35.0008\n",
            "1      1633  Summer        0           0  ...  23.78  27.275        64     7.0015\n",
            "2      1055  Spring        0           0  ...  11.48  12.120       100    27.9993\n",
            "3       242  Winter        0           1  ...  25.42  28.790        83     0.0000\n",
            "4      1561  Summer        0           0  ...  25.42  31.060        43    23.9994\n",
            "\n",
            "[5 rows x 9 columns]\n",
            "[1286 1633 1055 ... 1073 1300 1727]\n"
          ],
          "name": "stdout"
        }
      ]
    },
    {
      "cell_type": "code",
      "metadata": {
        "colab": {
          "base_uri": "https://localhost:8080/"
        },
        "id": "NL07VfCK95WL",
        "outputId": "c836d43b-b94e-4228-8991-ab2e1bfa41fa"
      },
      "source": [
        "from sklearn.preprocessing import LabelEncoder\r\n",
        "le=LabelEncoder()\r\n",
        "X_test['season']=le.fit_transform(X_test['season'])\r\n",
        "print(X_test.head())\r\n",
        "print(X_test['season'].unique())"
      ],
      "execution_count": null,
      "outputs": [
        {
          "output_type": "stream",
          "text": [
            "   datetime  season  holiday  workingday  ...   temp   atemp  humidity  windspeed\n",
            "0      1286       2        0           1  ...  21.32  25.000        48    35.0008\n",
            "1      1633       2        0           0  ...  23.78  27.275        64     7.0015\n",
            "2      1055       1        0           0  ...  11.48  12.120       100    27.9993\n",
            "3       242       3        0           1  ...  25.42  28.790        83     0.0000\n",
            "4      1561       2        0           0  ...  25.42  31.060        43    23.9994\n",
            "\n",
            "[5 rows x 9 columns]\n",
            "[2 1 3 0]\n"
          ],
          "name": "stdout"
        }
      ]
    },
    {
      "cell_type": "code",
      "metadata": {
        "colab": {
          "base_uri": "https://localhost:8080/"
        },
        "id": "HYwBL7V295WM",
        "outputId": "14aae783-7b75-4a7a-bca5-e4a2cbae1dfe"
      },
      "source": [
        "from sklearn.preprocessing import LabelEncoder\r\n",
        "le=LabelEncoder()\r\n",
        "X_test['weather']=le.fit_transform(X_test['weather'])\r\n",
        "print(X_test.head())\r\n",
        "print(X_test['weather'].unique())"
      ],
      "execution_count": null,
      "outputs": [
        {
          "output_type": "stream",
          "text": [
            "   datetime  season  holiday  workingday  ...   temp   atemp  humidity  windspeed\n",
            "0      1286       2        0           1  ...  21.32  25.000        48    35.0008\n",
            "1      1633       2        0           0  ...  23.78  27.275        64     7.0015\n",
            "2      1055       1        0           0  ...  11.48  12.120       100    27.9993\n",
            "3       242       3        0           1  ...  25.42  28.790        83     0.0000\n",
            "4      1561       2        0           0  ...  25.42  31.060        43    23.9994\n",
            "\n",
            "[5 rows x 9 columns]\n",
            "[0 1 2]\n"
          ],
          "name": "stdout"
        }
      ]
    },
    {
      "cell_type": "code",
      "metadata": {
        "id": "pPKOCiWneKj0"
      },
      "source": [
        "X= df.drop(['Total_booking'], axis=1)\r\n",
        "y=df['Total_booking']"
      ],
      "execution_count": null,
      "outputs": []
    },
    {
      "cell_type": "markdown",
      "metadata": {
        "id": "GMdMnFcIhbFt"
      },
      "source": [
        "Remove atemp feature as both temp and atemp are mutually correlated."
      ]
    },
    {
      "cell_type": "code",
      "metadata": {
        "id": "1HwbeA0InrID"
      },
      "source": [
        "X= X.drop(['atemp'], axis=1)\r\n",
        "X_test= X_test.drop(['atemp'], axis=1)"
      ],
      "execution_count": null,
      "outputs": []
    },
    {
      "cell_type": "code",
      "metadata": {
        "id": "JjGQJXMxeKbf"
      },
      "source": [
        "from sklearn.preprocessing import StandardScaler\r\n",
        "scaler = StandardScaler()\r\n",
        "X = scaler.fit_transform(X)"
      ],
      "execution_count": null,
      "outputs": []
    },
    {
      "cell_type": "code",
      "metadata": {
        "id": "LAhHp_c5QDx5"
      },
      "source": [
        "X_test = scaler.fit_transform(X_test)"
      ],
      "execution_count": null,
      "outputs": []
    },
    {
      "cell_type": "code",
      "metadata": {
        "colab": {
          "base_uri": "https://localhost:8080/"
        },
        "id": "xSvGiI0qaXHQ",
        "outputId": "77f4c22e-199e-47b5-f617-84ef601f670e"
      },
      "source": [
        "print(y)"
      ],
      "execution_count": null,
      "outputs": [
        {
          "output_type": "stream",
          "text": [
            "0       504.0\n",
            "1         5.0\n",
            "2       139.0\n",
            "3       209.0\n",
            "4       184.0\n",
            "        ...  \n",
            "8703     13.0\n",
            "8704     11.0\n",
            "8705      1.0\n",
            "8706     92.0\n",
            "8707     31.0\n",
            "Name: Total_booking, Length: 8708, dtype: float64\n"
          ],
          "name": "stdout"
        }
      ]
    },
    {
      "cell_type": "markdown",
      "metadata": {
        "id": "ivzJ7AFdS9Jj"
      },
      "source": [
        "Task 2: Grid Search, Regression Analysis and Ensemble Modelling"
      ]
    },
    {
      "cell_type": "markdown",
      "metadata": {
        "id": "cXj7vwH2L4pY"
      },
      "source": [
        " A class that will define all the regression models as methods"
      ]
    },
    {
      "cell_type": "code",
      "metadata": {
        "id": "7ONEuuxEti3s"
      },
      "source": [
        "class Models(object):\r\n",
        "    \r\n",
        "    global seed \r\n",
        "    seed = 34234\r\n",
        "    \r\n",
        "    # Initialization \r\n",
        "    def __init__(self, X, X_test, y, y_test):\r\n",
        "        # changing input as dataframe to list\r\n",
        "        self.X = [X.iloc[i].tolist() for i in range(len(X))]\r\n",
        "        self.X_test = [X_test.iloc[i].tolist() for i in range(len(X_test))]\r\n",
        "        self.y = y.tolist()\r\n",
        "        self.y_test = y_test.tolist()\r\n",
        "    \r\n",
        "    \r\n",
        "    @staticmethod\r\n",
        "    def print_info(cross_val_scores, mse):\r\n",
        "        print(\"Cross Validation Scores: \", cross_val_scores)\r\n",
        "        print(\"Mean Squared Error: \", mse)\r\n",
        "        \r\n",
        "        \r\n",
        "    # Linear Regression \r\n",
        "    def linear_regression(self, X, X_test,  y, y_test):\r\n",
        "        reg = linear_model.LinearRegression()\r\n",
        "        # X = np.array(X).reshape([-1, 1])\r\n",
        "        reg.fit(self.X, self.y)\r\n",
        "        y_pred_list = reg.predict(self.X_test)\r\n",
        "        mse = mean_squared_error(self.y_test, y_pred_list)\r\n",
        "        kfold = model_selection.KFold()\r\n",
        "        cross_val_scores = cross_val_score(reg, self.X, self.y, cv=kfold)\r\n",
        "        print(\"\\nLinear Regression Model\")\r\n",
        "        self.print_info(cross_val_scores, mse)\r\n",
        "        return cross_val_scores, mse\r\n",
        "        \r\n",
        "    # Random Forest Regression model \r\n",
        "    def random_forest(self, X, X_test,  y, y_test):\r\n",
        "        rfr = RandomForestRegressor()\r\n",
        "        # X = np.array(X).reshape([-1, 1])\r\n",
        "        rfr.fit(self.X, self.y)\r\n",
        "        y_pred_list = rfr.predict(self.X_test)\r\n",
        "        mse = mean_squared_error(self.y_test, y_pred_list)\r\n",
        "        kfold = model_selection.KFold()\r\n",
        "        cross_val_scores = cross_val_score(rfr, self.X, self.y, cv=kfold)\r\n",
        "        print(\"\\nRandom Forest Regressor\")\r\n",
        "        self.print_info(cross_val_scores, mse)\r\n",
        "        return cross_val_scores, mse\r\n",
        "            \r\n",
        "    # Lasso method \r\n",
        "    def lasso(self, X, X_test,  y, y_test):\r\n",
        "        reg = linear_model.Lasso(alpha = 0.1)\r\n",
        "        # X = np.array(X).reshape([-1, 1])\r\n",
        "        reg.fit(self.X, self.y)\r\n",
        "        y_pred_list = reg.predict(self.X_test)\r\n",
        "        mse = mean_squared_error(self.y_test, y_pred_list)\r\n",
        "        kfold = model_selection.KFold()\r\n",
        "        cross_val_scores = cross_val_score(reg, self.X, self.y, cv=kfold)\r\n",
        "        print(\"\\nLasso Regression Model\")\r\n",
        "        self.print_info(cross_val_scores, mse)\r\n",
        "        return cross_val_scores, mse\r\n",
        "    \r\n",
        "    # Gradient Boosing Regressor\r\n",
        "    def GBR(self, X, X_test,  y, y_test):\r\n",
        "        gbr = GradientBoostingRegressor(n_estimators=180, learning_rate=0.1, max_depth=4, random_state=0, loss='ls')\r\n",
        "        gbr.fit(self.X, self.y)\r\n",
        "        kfold = model_selection.KFold()\r\n",
        "        cross_val_scores = cross_val_score(gbr, self.X, self.y, cv=kfold)\r\n",
        "        mse = mean_squared_error(self.y_test, gbr.predict(self.X_test))\r\n",
        "        print('\\nGradient Boosting Regressor')\r\n",
        "        self.print_info(cross_val_scores, mse)\r\n",
        "        return cross_val_scores, mse\r\n",
        "\r\n",
        "      # Decision Tree Regressor\r\n",
        "    def DT(self, X, X_test,  y, y_test):\r\n",
        "        dt = DecisionTreeRegressor()\r\n",
        "        dt.fit(self.X, self.y)\r\n",
        "        kfold = model_selection.KFold()\r\n",
        "        cross_val_scores = cross_val_score(dt, self.X, self.y, cv=kfold)\r\n",
        "        mse = mean_squared_error(self.y_test, dt.predict(self.X_test))\r\n",
        "        print('\\nDecision Tree Regressor')\r\n",
        "        self.print_info(cross_val_scores, mse)\r\n",
        "        return cross_val_scores, mse    "
      ],
      "execution_count": null,
      "outputs": []
    },
    {
      "cell_type": "markdown",
      "metadata": {
        "id": "DyFw-OtPMcVb"
      },
      "source": [
        "We use GridSearchCV to find out the best set of parameters for GBR and use it for the regression model analysis and prediction"
      ]
    },
    {
      "cell_type": "code",
      "metadata": {
        "colab": {
          "base_uri": "https://localhost:8080/"
        },
        "id": "LtM0V5Ef4EAK",
        "outputId": "e22b7b01-3129-40b3-fa28-e2e95334281f"
      },
      "source": [
        "parameters = {\r\n",
        "    'n_estimators' : [170, 175, 180],\r\n",
        "    'learning_rate' : [0.075, 0.08, 0.1],\r\n",
        "    'max_depth' : [2, 3, 4]\r\n",
        "}\r\n",
        "\r\n",
        "gbr = GradientBoostingRegressor(n_estimators=250, learning_rate=0.1, max_depth=5, random_state=232, loss='ls')\r\n",
        "gs_cv = GridSearchCV(gbr, parameters).fit(X, y)\r\n",
        "gs_cv.best_params_"
      ],
      "execution_count": null,
      "outputs": [
        {
          "output_type": "execute_result",
          "data": {
            "text/plain": [
              "{'learning_rate': 0.1, 'max_depth': 4, 'n_estimators': 180}"
            ]
          },
          "metadata": {
            "tags": []
          },
          "execution_count": 74
        }
      ]
    },
    {
      "cell_type": "code",
      "metadata": {
        "id": "c5itUtyxMtyl"
      },
      "source": [
        "y=y.squeeze()\r\n",
        "y_test=y_test.squeeze()"
      ],
      "execution_count": null,
      "outputs": []
    },
    {
      "cell_type": "code",
      "metadata": {
        "colab": {
          "base_uri": "https://localhost:8080/"
        },
        "id": "J2hGh-vIMxvF",
        "outputId": "223704b9-3762-44b9-fa48-aea813e70294"
      },
      "source": [
        "from types import FunctionType\r\n",
        "\r\n",
        "methods = [x for x, y in Models.__dict__.items() if type(y) == FunctionType]\r\n",
        "methods.remove('__init__')\r\n",
        "# Now calling the all regression methods\r\n",
        "cross_scores_list, mse_list = [], []\r\n",
        "for model in methods:\r\n",
        "    reg = Models(X, X_test, y, y_test)\r\n",
        "    cross_val_scores, mse = getattr(reg, model)(X, X_test, y, y_test)\r\n",
        "    cross_scores_list.append(cross_val_scores)\r\n",
        "    mse_list.append(mse)"
      ],
      "execution_count": null,
      "outputs": [
        {
          "output_type": "stream",
          "text": [
            "\n",
            "Linear Regression Model\n",
            "Cross Validation Scores:  [0.26556911 0.29343451 0.28791474 0.27440774 0.23992503]\n",
            "Mean Squared Error:  23105.73803259426\n",
            "\n",
            "Random Forest Regressor\n",
            "Cross Validation Scores:  [0.4818136  0.48593595 0.4966472  0.51356792 0.45929312]\n",
            "Mean Squared Error:  28020.29168080808\n",
            "\n",
            "Lasso Regression Model\n",
            "Cross Validation Scores:  [0.26588017 0.29330526 0.28790418 0.27439912 0.23975825]\n",
            "Mean Squared Error:  23105.97643721085\n",
            "\n",
            "Gradient Boosting Regressor\n",
            "Cross Validation Scores:  [0.41593954 0.43505375 0.41435649 0.42252129 0.38281214]\n",
            "Mean Squared Error:  25816.703323488626\n",
            "\n",
            "Decision Tree Regressor\n",
            "Cross Validation Scores:  [0.0681375  0.1451941  0.15161894 0.13139138 0.00703408]\n",
            "Mean Squared Error:  49941.1027318641\n"
          ],
          "name": "stdout"
        }
      ]
    },
    {
      "cell_type": "code",
      "metadata": {
        "colab": {
          "base_uri": "https://localhost:8080/",
          "height": 282
        },
        "id": "2e5vLzC4M6Ne",
        "outputId": "4d505615-68f2-4dc8-b76f-b1cc09662791"
      },
      "source": [
        "# Plot Mean Squared Error\r\n",
        "\r\n",
        "plt.plot(mse_list, c='b')\r\n",
        "plt.title('Comparision of Algorithms')\r\n",
        "plt.ylabel('Mean Squared Error')\r\n",
        "x = np.array([0,1,2,3,4])\r\n",
        "plt.scatter(x, mse_list, c='r', marker=\"s\")\r\n",
        "plt.xticks(x, methods)\r\n",
        "plt.show()"
      ],
      "execution_count": null,
      "outputs": [
        {
          "output_type": "display_data",
          "data": {
            "image/png": "[encoded data removed]",
            "text/plain": [
              "<Figure size 432x288 with 1 Axes>"
            ]
          },
          "metadata": {
            "tags": [],
            "needs_background": "light"
          }
        }
      ]
    },
    {
      "cell_type": "markdown",
      "metadata": {
        "id": "uO9PlBpPToIP"
      },
      "source": [
        "Looking at the Graph,Linear Regression and Lasso models have higher scores."
      ]
    }
  ]
}
