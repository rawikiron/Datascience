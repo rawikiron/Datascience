{
  "nbformat": 4,
  "nbformat_minor": 0,
  "metadata": {
    "colab": {
      "name": "DT RF CaseStudy.ipynb",
      "provenance": []
    },
    "kernelspec": {
      "name": "python3",
      "display_name": "Python 3"
    }
  },
  "cells": [
    {
      "cell_type": "code",
      "metadata": {
        "id": "2XEAVERaIEhe"
      },
      "source": [
        "import pandas as pd\n",
        "import numpy as np"
      ],
      "execution_count": null,
      "outputs": []
    },
    {
      "cell_type": "code",
      "metadata": {
        "id": "rg8GDCVHNOH_"
      },
      "source": [
        "df= pd.read_csv('/content/drive/My Drive/Social_Network_Ads_usyia.csv')"
      ],
      "execution_count": null,
      "outputs": []
    },
    {
      "cell_type": "code",
      "metadata": {
        "id": "Z1t3rv_FNVGY",
        "colab": {
          "base_uri": "https://localhost:8080/"
        },
        "outputId": "42bbec3f-b750-47fa-afbc-3104a7823206"
      },
      "source": [
        "df.info()"
      ],
      "execution_count": null,
      "outputs": [
        {
          "output_type": "stream",
          "text": [
            "<class 'pandas.core.frame.DataFrame'>\n",
            "RangeIndex: 400 entries, 0 to 399\n",
            "Data columns (total 5 columns):\n",
            " #   Column           Non-Null Count  Dtype \n",
            "---  ------           --------------  ----- \n",
            " 0   User ID          400 non-null    int64 \n",
            " 1   Gender           400 non-null    object\n",
            " 2   Age              400 non-null    int64 \n",
            " 3   EstimatedSalary  400 non-null    int64 \n",
            " 4   Purchased        400 non-null    int64 \n",
            "dtypes: int64(4), object(1)\n",
            "memory usage: 15.8+ KB\n"
          ],
          "name": "stdout"
        }
      ]
    },
    {
      "cell_type": "code",
      "metadata": {
        "id": "y1P_bHLDNVCU",
        "colab": {
          "base_uri": "https://localhost:8080/"
        },
        "outputId": "7412ea04-05be-47f8-9642-7e6442099d64"
      },
      "source": [
        "df.shape"
      ],
      "execution_count": null,
      "outputs": [
        {
          "output_type": "execute_result",
          "data": {
            "text/plain": [
              "(400, 5)"
            ]
          },
          "metadata": {
            "tags": []
          },
          "execution_count": 8
        }
      ]
    },
    {
      "cell_type": "code",
      "metadata": {
        "id": "mVySOvR-NU_Q",
        "colab": {
          "base_uri": "https://localhost:8080/",
          "height": 276
        },
        "outputId": "1072ca66-5c9d-43d9-a6fd-3c6e77b4cae8"
      },
      "source": [
        "import matplotlib.pyplot as plt\n",
        "df.boxplot(column=[df.columns[0]])\n",
        "plt.show()"
      ],
      "execution_count": null,
      "outputs": [
        {
          "output_type": "display_data",
          "data": {
            "image/png": "[encoded data removed]",
            "text/plain": [
              "<Figure size 432x288 with 1 Axes>"
            ]
          },
          "metadata": {
            "tags": [],
            "needs_background": "light"
          }
        }
      ]
    },
    {
      "cell_type": "code",
      "metadata": {
        "id": "fcWmT7AzTVeA"
      },
      "source": [
        "import matplotlib.pyplot as plt\n",
        "df.boxplot(figsize=(10,15))\n",
        "plt.show()"
      ],
      "execution_count": null,
      "outputs": []
    },
    {
      "cell_type": "code",
      "metadata": {
        "id": "VfJzU2LBUJvl"
      },
      "source": [
        "df[df.columns[0]].value_counts()\n",
        "#it is found user_ids are unique, so there is no info, so we can drop it"
      ],
      "execution_count": null,
      "outputs": []
    },
    {
      "cell_type": "code",
      "metadata": {
        "id": "OJ8m_1tJNU6m",
        "colab": {
          "base_uri": "https://localhost:8080/"
        },
        "outputId": "986ac5cf-c6f3-42a2-b541-63bb11e86f24"
      },
      "source": [
        "from sklearn.preprocessing import LabelEncoder\n",
        "le=LabelEncoder()\n",
        "df['Gender']=le.fit_transform(df['Gender'])\n",
        "print(df.head())\n",
        "print(df['Gender'].unique())"
      ],
      "execution_count": null,
      "outputs": [
        {
          "output_type": "stream",
          "text": [
            "    User ID  Gender  Age  EstimatedSalary  Purchased\n",
            "0  15624510       1   19            19000          0\n",
            "1  15810944       1   35            20000          0\n",
            "2  15668575       0   26            43000          0\n",
            "3  15603246       0   27            57000          0\n",
            "4  15804002       1   19            76000          0\n",
            "[1 0]\n"
          ],
          "name": "stdout"
        }
      ]
    },
    {
      "cell_type": "code",
      "metadata": {
        "id": "9zp_QtsCVNSO"
      },
      "source": [
        "#also can be done using getdummies\n",
        "df=pd.get_dummies(df)"
      ],
      "execution_count": null,
      "outputs": []
    },
    {
      "cell_type": "code",
      "metadata": {
        "id": "zeoLo4XgVc4c"
      },
      "source": [
        "df.head()"
      ],
      "execution_count": null,
      "outputs": []
    },
    {
      "cell_type": "code",
      "metadata": {
        "id": "u6uoMHmdNU20"
      },
      "source": [
        "df.head"
      ],
      "execution_count": null,
      "outputs": []
    },
    {
      "cell_type": "code",
      "metadata": {
        "id": "NRZd8wBGNUvc"
      },
      "source": [
        "X=df.drop([\"User ID\",\"Purchased\"],axis=1)\n",
        "Y=df['Purchased']"
      ],
      "execution_count": null,
      "outputs": []
    },
    {
      "cell_type": "code",
      "metadata": {
        "id": "YzO7y9k7Pxv1",
        "colab": {
          "base_uri": "https://localhost:8080/"
        },
        "outputId": "c833825d-0fc2-40ee-a011-60667e3912ad"
      },
      "source": [
        "print(\"Input for my ML model: \\n\",X.head())\n",
        "print(\"Output for my ML model : \\n\", Y.head())"
      ],
      "execution_count": null,
      "outputs": [
        {
          "output_type": "stream",
          "text": [
            "Input for my ML model: \n",
            "    Gender  Age  EstimatedSalary\n",
            "0       1   19            19000\n",
            "1       1   35            20000\n",
            "2       0   26            43000\n",
            "3       0   27            57000\n",
            "4       1   19            76000\n",
            "Output for my ML model : \n",
            " 0    0\n",
            "1    0\n",
            "2    0\n",
            "3    0\n",
            "4    0\n",
            "Name: Purchased, dtype: int64\n"
          ],
          "name": "stdout"
        }
      ]
    },
    {
      "cell_type": "code",
      "metadata": {
        "id": "nnpV8I3BPx6g"
      },
      "source": [
        "from sklearn.model_selection import train_test_split\n",
        "X_train, X_test, Y_train, Y_test= train_test_split(X,Y,test_size=0.2,random_state=8)"
      ],
      "execution_count": null,
      "outputs": []
    },
    {
      "cell_type": "code",
      "metadata": {
        "id": "kA7NysBzPWcH"
      },
      "source": [
        "from sklearn.preprocessing import StandardScaler\n",
        "scaler = StandardScaler()\n",
        "X_train = scaler.fit_transform(X_train)\n",
        "X_test = scaler.transform(X_test)"
      ],
      "execution_count": null,
      "outputs": []
    },
    {
      "cell_type": "markdown",
      "metadata": {
        "id": "DzgGwosQaM4I"
      },
      "source": [
        "Applyting Logistic regression"
      ]
    },
    {
      "cell_type": "code",
      "metadata": {
        "id": "7dBUfICuPyFb"
      },
      "source": [
        "#call the model\n",
        "from sklearn.linear_model import LogisticRegression\n",
        "lr_model= LogisticRegression()"
      ],
      "execution_count": null,
      "outputs": []
    },
    {
      "cell_type": "markdown",
      "metadata": {
        "id": "DJHglXjfaT9Z"
      },
      "source": [
        "Applying Decision Tree"
      ]
    },
    {
      "cell_type": "code",
      "metadata": {
        "id": "24UEfO1fXpQT"
      },
      "source": [
        "#call the model\n",
        "from sklearn.tree import DecisionTreeClassifier\n",
        "lr_model= DecisionTreeClassifier(random_state=0)"
      ],
      "execution_count": null,
      "outputs": []
    },
    {
      "cell_type": "markdown",
      "metadata": {
        "id": "xDx9Ue0eoFAK"
      },
      "source": [
        "playing with decision tree classifiers"
      ]
    },
    {
      "cell_type": "code",
      "metadata": {
        "id": "ISQsv5iummrs"
      },
      "source": [
        "clf = DecisionTreeClassifier(criterion=\"gini\", max_depth=3)\n",
        "clf=clf.fit(X_train, Y_train)"
      ],
      "execution_count": null,
      "outputs": []
    },
    {
      "cell_type": "markdown",
      "metadata": {
        "id": "XWEcQFKJfRjf"
      },
      "source": [
        "Applying Random Forest"
      ]
    },
    {
      "cell_type": "code",
      "metadata": {
        "id": "WwqsWvSifRFq"
      },
      "source": [
        "#call the model\n",
        "#from sklearn.ensemble import RandomForestClassifier\n",
        "#rf_model= RandomForestClassifier(random_state=0)"
      ],
      "execution_count": null,
      "outputs": []
    },
    {
      "cell_type": "code",
      "metadata": {
        "id": "JH6YNtOxpGtj"
      },
      "source": [
        "clf = RandomForestClassifier(criterion=\"gini\", max_depth=3)\n",
        "clf=clf.fit(X_train, Y_train)"
      ],
      "execution_count": null,
      "outputs": []
    },
    {
      "cell_type": "code",
      "metadata": {
        "id": "RuN90zb6PyCI"
      },
      "source": [
        "#Fit the model\n",
        "#clf = lr_model.fit(X_train, Y_train)"
      ],
      "execution_count": null,
      "outputs": []
    },
    {
      "cell_type": "code",
      "metadata": {
        "id": "-65ggnp-Px2z",
        "colab": {
          "base_uri": "https://localhost:8080/"
        },
        "outputId": "674813e3-1d8e-45e9-c598-fdbf7ea95830"
      },
      "source": [
        "X.info"
      ],
      "execution_count": null,
      "outputs": [
        {
          "output_type": "execute_result",
          "data": {
            "text/plain": [
              "<bound method DataFrame.info of       User ID  Gender  Age  EstimatedSalary\n",
              "0    15624510       1   19            19000\n",
              "1    15810944       1   35            20000\n",
              "2    15668575       0   26            43000\n",
              "3    15603246       0   27            57000\n",
              "4    15804002       1   19            76000\n",
              "..        ...     ...  ...              ...\n",
              "395  15691863       0   46            41000\n",
              "396  15706071       1   51            23000\n",
              "397  15654296       0   50            20000\n",
              "398  15755018       1   36            33000\n",
              "399  15594041       0   49            36000\n",
              "\n",
              "[400 rows x 4 columns]>"
            ]
          },
          "metadata": {
            "tags": []
          },
          "execution_count": 21
        }
      ]
    },
    {
      "cell_type": "code",
      "metadata": {
        "id": "KQsHMAgKQaau",
        "colab": {
          "base_uri": "https://localhost:8080/"
        },
        "outputId": "ce3b5466-2e37-478a-ca5a-7925915a3078"
      },
      "source": [
        "#Use the fitted model for prediction on test dataset\n",
        "y_predicted = clf.predict(X_test)\n",
        "print(y_predicted)"
      ],
      "execution_count": null,
      "outputs": [
        {
          "output_type": "stream",
          "text": [
            "[0 1 0 0 0 0 0 0 0 0 0 0 0 0 1 0 1 0 0 0 1 0 1 0 1 0 0 0 1 1 1 1 0 1 0 0 1\n",
            " 0 1 0 1 1 0 1 1 0 0 1 0 0 0 0 0 0 0 0 1 0 0 0 0 0 1 1 0 0 0 1 0 0 1 0 1 1\n",
            " 0 1 0 0 0 1]\n"
          ],
          "name": "stdout"
        }
      ]
    },
    {
      "cell_type": "code",
      "metadata": {
        "id": "1T5Z2mzfPxsZ",
        "colab": {
          "base_uri": "https://localhost:8080/"
        },
        "outputId": "e8462e11-31d6-4c9f-89f6-2e3dab43fef2"
      },
      "source": [
        "from sklearn.metrics import confusion_matrix,classification_report\n",
        "print(confusion_matrix(Y_test,y_predicted))\n",
        "print(classification_report(Y_test,y_predicted))"
      ],
      "execution_count": null,
      "outputs": [
        {
          "output_type": "stream",
          "text": [
            "[[50  4]\n",
            " [ 3 23]]\n",
            "              precision    recall  f1-score   support\n",
            "\n",
            "           0       0.94      0.93      0.93        54\n",
            "           1       0.85      0.88      0.87        26\n",
            "\n",
            "    accuracy                           0.91        80\n",
            "   macro avg       0.90      0.91      0.90        80\n",
            "weighted avg       0.91      0.91      0.91        80\n",
            "\n"
          ],
          "name": "stdout"
        }
      ]
    },
    {
      "cell_type": "code",
      "metadata": {
        "id": "GBK0VKJAgbFo"
      },
      "source": [
        "from sklearn.metrics import accuracy_score\n",
        "from sklearn.metrics import f1_score\n",
        "from sklearn.metrics import recall_score\n",
        "from sklearn.metrics import precision_score\n",
        "from sklearn.model_selection import cross_val_score"
      ],
      "execution_count": null,
      "outputs": []
    },
    {
      "cell_type": "code",
      "metadata": {
        "id": "D9Ndj-E8e8jo",
        "colab": {
          "base_uri": "https://localhost:8080/"
        },
        "outputId": "bc8844a1-0dcb-4802-8016-951eb99e2238"
      },
      "source": [
        "print('Accuracy:', accuracy_score(Y_test, y_predicted))\n",
        "print('f1_score:', f1_score(Y_test, y_predicted))\n",
        "print('recall_score:', recall_score(Y_test, y_predicted))\n",
        "print('precision_score:', precision_score(Y_test, y_predicted))\n",
        "print('f1_score: {}'.format(f1_score(Y_test, y_predicted)))\n",
        "#Accuracy: 0.9125\n",
        "#f1_score: 0.8679245283018868\n",
        "#recall_score: 0.8846153846153846\n",
        "#precision_score: 0.8518518518518519\n",
        "#f1_score: 0.8679245283018868"
      ],
      "execution_count": null,
      "outputs": [
        {
          "output_type": "stream",
          "text": [
            "Accuracy: 0.8\n",
            "f1_score: 0.6\n",
            "recall_score: 0.46153846153846156\n",
            "precision_score: 0.8571428571428571\n",
            "f1_score: 0.6\n"
          ],
          "name": "stdout"
        }
      ]
    },
    {
      "cell_type": "markdown",
      "metadata": {
        "id": "BoZlsnMDwgVD"
      },
      "source": [
        "Applying SVM"
      ]
    },
    {
      "cell_type": "code",
      "metadata": {
        "id": "fqOJY7-9vWbU",
        "colab": {
          "base_uri": "https://localhost:8080/"
        },
        "outputId": "3b35d20a-ba39-4251-ec03-94fad6b420d1"
      },
      "source": [
        "from sklearn import svm\n",
        "#calling the model\n",
        "clf= svm.SVC(kernel='rbf', degree=2)\n",
        "#fitting the model\n",
        "clf.fit(X_train,Y_train)\n",
        "#Predicct the model\n",
        "y_predicted= clf.predict(X_test)\n",
        "y_predicted_train= clf.predict(X_train)\n",
        "print(y_predicted)\n",
        "print(y_predicted_train)\n"
      ],
      "execution_count": null,
      "outputs": [
        {
          "output_type": "stream",
          "text": [
            "[0 1 0 0 0 0 0 0 0 0 0 0 0 0 1 0 0 0 0 0 0 0 1 0 1 0 0 0 0 0 1 0 0 0 0 0 1\n",
            " 0 1 0 0 1 0 1 0 0 0 1 0 0 0 0 0 0 0 0 0 0 0 0 0 0 0 1 0 0 0 0 0 0 1 0 0 0\n",
            " 0 1 0 0 0 1]\n",
            "[0 1 0 0 0 0 1 0 1 0 1 0 0 1 0 0 0 0 0 0 0 0 0 0 0 0 0 0 0 1 0 0 0 0 0 0 0\n",
            " 1 0 0 1 0 0 0 1 0 0 1 0 0 0 0 0 0 1 0 0 0 0 0 0 0 0 0 0 0 0 1 0 0 0 0 0 0\n",
            " 0 1 0 0 1 0 0 1 0 0 0 0 0 0 0 0 0 0 0 1 1 0 0 0 0 0 0 0 0 0 0 0 0 0 0 0 0\n",
            " 0 0 0 0 0 1 0 0 0 0 1 0 0 0 1 0 0 0 0 0 0 0 1 0 0 0 0 0 1 0 0 0 0 0 0 0 0\n",
            " 0 1 0 0 0 0 1 0 0 0 1 0 1 0 1 1 0 0 0 1 0 0 0 1 0 0 0 0 0 1 1 0 0 1 0 0 1\n",
            " 0 0 0 1 0 1 0 0 0 0 0 0 0 0 0 0 0 0 0 0 0 0 0 0 0 0 0 0 0 0 0 0 0 0 0 0 0\n",
            " 0 0 0 0 0 0 0 0 0 1 0 0 0 0 0 1 1 0 0 0 0 0 0 0 0 1 0 0 0 0 0 1 1 1 0 0 0\n",
            " 0 0 0 0 1 0 0 0 0 0 0 1 0 1 0 0 0 0 0 1 0 1 1 0 0 0 0 0 0 0 0 0 0 0 0 0 1\n",
            " 1 0 1 0 0 0 0 0 0 0 0 0 0 1 1 0 1 0 1 1 0 0 0 1]\n"
          ],
          "name": "stdout"
        }
      ]
    },
    {
      "cell_type": "code",
      "metadata": {
        "id": "FDhxSP9PxVjQ",
        "colab": {
          "base_uri": "https://localhost:8080/"
        },
        "outputId": "2100f1d0-2ef0-469c-9793-beeb2011082e"
      },
      "source": [
        "print('Accuracy:', accuracy_score(Y_test, y_predicted))\n",
        "print('f1_score:', f1_score(Y_test, y_predicted))\n",
        "print('recall_score:', recall_score(Y_test, y_predicted))\n",
        "print('precision_score:', precision_score(Y_test, y_predicted))\n",
        "print('f1_score: {}'.format(f1_score(Y_test, y_predicted)))"
      ],
      "execution_count": null,
      "outputs": [
        {
          "output_type": "stream",
          "text": [
            "Accuracy: 0.8\n",
            "f1_score: 0.6\n",
            "recall_score: 0.46153846153846156\n",
            "precision_score: 0.8571428571428571\n",
            "f1_score: 0.6\n"
          ],
          "name": "stdout"
        }
      ]
    },
    {
      "cell_type": "code",
      "metadata": {
        "id": "VuOd9Tr540kp",
        "colab": {
          "base_uri": "https://localhost:8080/"
        },
        "outputId": "ee314392-0375-45c9-c386-d15ba8394aa9"
      },
      "source": [
        "print('Accuracy:', accuracy_score(Y_train, y_predicted_train))\n",
        "print('f1_score:', f1_score(Y_train, y_predicted_train))\n",
        "print('recall_score:', recall_score(Y_train, y_predicted_train))\n",
        "print('precision_score:', precision_score(Y_train, y_predicted_train))"
      ],
      "execution_count": null,
      "outputs": [
        {
          "output_type": "stream",
          "text": [
            "Accuracy: 0.759375\n",
            "f1_score: 0.5599999999999999\n",
            "recall_score: 0.4188034188034188\n",
            "precision_score: 0.8448275862068966\n"
          ],
          "name": "stdout"
        }
      ]
    },
    {
      "cell_type": "code",
      "metadata": {
        "id": "n7yV1EcBdGV7"
      },
      "source": [
        "#importing necessary packages\n",
        "import pandas as pd\n",
        "import sklearn.datasets as datasets\n",
        "from sklearn.tree import DecisionTreeClassifier\n",
        "from sklearn.externals.six import StringIO  \n",
        "from IPython.display import Image  \n",
        "from sklearn.tree import export_graphviz\n",
        "import pydotplus\n",
        "import graphviz\n",
        "from sklearn import tree"
      ],
      "execution_count": null,
      "outputs": []
    },
    {
      "cell_type": "markdown",
      "metadata": {
        "id": "wjzvnR_G2TE3"
      },
      "source": [
        "Applying KNN"
      ]
    },
    {
      "cell_type": "code",
      "metadata": {
        "id": "MM9kvK82dTnv"
      },
      "source": [
        "from sklearn.neighbors import KNeighborsClassifier\n",
        "\n",
        "model=KNeighborsClassifier(n_neighbors=5,metric='euclidean')  # here k=3\n",
        "model.fit(X_train,Y_train)\n",
        "\n",
        "y_predicted = model.predict(X_test)\n",
        "y_predicted_train = model.predict(X_train)"
      ],
      "execution_count": null,
      "outputs": []
    },
    {
      "cell_type": "code",
      "metadata": {
        "id": "xqdfjwPJ2ivh",
        "colab": {
          "base_uri": "https://localhost:8080/"
        },
        "outputId": "18b2bb3b-8473-4c55-efac-325d2157abf0"
      },
      "source": [
        "print('Accuracy:', accuracy_score(Y_test, y_predicted))\n",
        "print('f1_score:', f1_score(Y_test, y_predicted))\n",
        "print('recall_score:', recall_score(Y_test, y_predicted))\n",
        "print('precision_score:', precision_score(Y_test, y_predicted))"
      ],
      "execution_count": null,
      "outputs": [
        {
          "output_type": "stream",
          "text": [
            "Accuracy: 0.825\n",
            "f1_score: 0.7083333333333333\n",
            "recall_score: 0.6538461538461539\n",
            "precision_score: 0.7727272727272727\n"
          ],
          "name": "stdout"
        }
      ]
    },
    {
      "cell_type": "code",
      "metadata": {
        "id": "17g9LsxL2nOB",
        "colab": {
          "base_uri": "https://localhost:8080/"
        },
        "outputId": "8d2408d7-fa6e-4cfd-82ae-0beb4e49b139"
      },
      "source": [
        "print('Accuracy:', accuracy_score(Y_train, y_predicted_train))\n",
        "print('f1_score:', f1_score(Y_train, y_predicted_train))\n",
        "print('recall_score:', recall_score(Y_train, y_predicted_train))\n",
        "print('precision_score:', precision_score(Y_train, y_predicted_train))"
      ],
      "execution_count": null,
      "outputs": [
        {
          "output_type": "stream",
          "text": [
            "Accuracy: 0.865625\n",
            "f1_score: 0.8071748878923767\n",
            "recall_score: 0.7692307692307693\n",
            "precision_score: 0.8490566037735849\n"
          ],
          "name": "stdout"
        }
      ]
    },
    {
      "cell_type": "markdown",
      "metadata": {
        "id": "U3sjoXnZ2dI5"
      },
      "source": [
        "Applying Naive Baye's"
      ]
    },
    {
      "cell_type": "code",
      "metadata": {
        "id": "YSetTlCj0SZj"
      },
      "source": [
        "from sklearn.naive_bayes import GaussianNB\n",
        "\n",
        "#Create a Gaussian Classifier\n",
        "gnb = GaussianNB()\n",
        "\n",
        "#Train the model using the training sets\n",
        "gnb.fit(X_train, Y_train)\n",
        "\n",
        "#Predict the response for test dataset\n",
        "y_predicted = gnb.predict(X_test)\n",
        "y_predicted_train = gnb.predict(X_train)"
      ],
      "execution_count": null,
      "outputs": []
    },
    {
      "cell_type": "code",
      "metadata": {
        "id": "nFm8HKgQ1Jty"
      },
      "source": [
        ""
      ],
      "execution_count": null,
      "outputs": []
    },
    {
      "cell_type": "code",
      "metadata": {
        "id": "uOZ4Xn5h1JL4",
        "colab": {
          "base_uri": "https://localhost:8080/"
        },
        "outputId": "d96fc7db-a4fc-4047-b0e1-634e0b1e212f"
      },
      "source": [
        "print('Accuracy:', accuracy_score(Y_test, y_predicted))\n",
        "print('f1_score:', f1_score(Y_test, y_predicted))\n",
        "print('recall_score:', recall_score(Y_test, y_predicted))\n",
        "print('precision_score:', precision_score(Y_test, y_predicted))"
      ],
      "execution_count": null,
      "outputs": [
        {
          "output_type": "stream",
          "text": [
            "Accuracy: 0.875\n",
            "f1_score: 0.8\n",
            "recall_score: 0.7692307692307693\n",
            "precision_score: 0.8333333333333334\n"
          ],
          "name": "stdout"
        }
      ]
    },
    {
      "cell_type": "code",
      "metadata": {
        "id": "E-Nco7Xt03gp",
        "colab": {
          "base_uri": "https://localhost:8080/"
        },
        "outputId": "e177ea63-336f-4f70-804c-b53776d22d15"
      },
      "source": [
        "print('Accuracy:', accuracy_score(Y_train, y_predicted_train))\n",
        "print('f1_score:', f1_score(Y_train, y_predicted_train))\n",
        "print('recall_score:', recall_score(Y_train, y_predicted_train))\n",
        "print('precision_score:', precision_score(Y_train, y_predicted_train))"
      ],
      "execution_count": null,
      "outputs": [
        {
          "output_type": "stream",
          "text": [
            "Accuracy: 0.9\n",
            "f1_score: 0.8596491228070176\n",
            "recall_score: 0.8376068376068376\n",
            "precision_score: 0.8828828828828829\n"
          ],
          "name": "stdout"
        }
      ]
    },
    {
      "cell_type": "markdown",
      "metadata": {
        "id": "1sBNjXVXkg-v"
      },
      "source": [
        "1. Scaling\n",
        "2. rf and dt model parameters on accuracy, precision and recall\n",
        "https://scikit-learn.org/stable/modules/generated/sklearn.tree.DecisionTreeClassifier.html\n",
        "https://www.datacamp.com/community/tutorials/decision-tree-classification-python"
      ]
    },
    {
      "cell_type": "code",
      "metadata": {
        "id": "Hc2CT5R9i8cu"
      },
      "source": [
        ""
      ],
      "execution_count": null,
      "outputs": []
    }
  ]
}