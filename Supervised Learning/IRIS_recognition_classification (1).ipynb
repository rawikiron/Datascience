{
  "nbformat": 4,
  "nbformat_minor": 0,
  "metadata": {
    "colab": {
      "name": "IRIS_recognition_classification.ipynb",
      "provenance": []
    },
    "kernelspec": {
      "name": "python3",
      "display_name": "Python 3"
    }
  },
  "cells": [
    {
      "cell_type": "code",
      "metadata": {
        "id": "ArJOkDI-ZHJ3",
        "colab": {
          "base_uri": "https://localhost:8080/"
        },
        "outputId": "61c57eb2-9de5-4a66-bdc8-7fad24315447"
      },
      "source": [
        "!wget https://www.dropbox.com/s/webw4cr5dsnm3jv/iris1.csv"
      ],
      "execution_count": 1,
      "outputs": [
        {
          "output_type": "stream",
          "text": [
            "--2021-02-07 10:13:40--  https://www.dropbox.com/s/webw4cr5dsnm3jv/iris1.csv\n",
            "Resolving www.dropbox.com (www.dropbox.com)... 162.125.1.18, 2620:100:6016:18::a27d:112\n",
            "Connecting to www.dropbox.com (www.dropbox.com)|162.125.1.18|:443... connected.\n",
            "HTTP request sent, awaiting response... 301 Moved Permanently\n",
            "Location: /s/raw/webw4cr5dsnm3jv/iris1.csv [following]\n",
            "--2021-02-07 10:13:41--  https://www.dropbox.com/s/raw/webw4cr5dsnm3jv/iris1.csv\n",
            "Reusing existing connection to www.dropbox.com:443.\n",
            "HTTP request sent, awaiting response... 302 Found\n",
            "Location: https://ucf3fc694edd18264f0912cdd41d.dl.dropboxusercontent.com/cd/0/inline/BIcdunYBWmaFzUeLK3plLP1zGBOZy8JSo9RxfQ8ab2dS01ToLPUVpnoPUdA1xyi3cAYf8AK6iuF8tGqgND-KjS_tMdFgSBKJK5G0X6H4xlZY7tjS1hbBygJyDVGreUT9ylE/file# [following]\n",
            "--2021-02-07 10:13:41--  https://ucf3fc694edd18264f0912cdd41d.dl.dropboxusercontent.com/cd/0/inline/BIcdunYBWmaFzUeLK3plLP1zGBOZy8JSo9RxfQ8ab2dS01ToLPUVpnoPUdA1xyi3cAYf8AK6iuF8tGqgND-KjS_tMdFgSBKJK5G0X6H4xlZY7tjS1hbBygJyDVGreUT9ylE/file\n",
            "Resolving ucf3fc694edd18264f0912cdd41d.dl.dropboxusercontent.com (ucf3fc694edd18264f0912cdd41d.dl.dropboxusercontent.com)... 162.125.1.15, 2620:100:6017:15::a27d:20f\n",
            "Connecting to ucf3fc694edd18264f0912cdd41d.dl.dropboxusercontent.com (ucf3fc694edd18264f0912cdd41d.dl.dropboxusercontent.com)|162.125.1.15|:443... connected.\n",
            "HTTP request sent, awaiting response... 200 OK\n",
            "Length: 4332 (4.2K) [text/plain]\n",
            "Saving to: ‘iris1.csv’\n",
            "\n",
            "iris1.csv           100%[===================>]   4.23K  --.-KB/s    in 0s      \n",
            "\n",
            "2021-02-07 10:13:41 (424 MB/s) - ‘iris1.csv’ saved [4332/4332]\n",
            "\n"
          ],
          "name": "stdout"
        }
      ]
    },
    {
      "cell_type": "code",
      "metadata": {
        "id": "zx9S1UW1aEbv"
      },
      "source": [
        "import pandas as pd\n",
        "import numpy as np"
      ],
      "execution_count": 2,
      "outputs": []
    },
    {
      "cell_type": "code",
      "metadata": {
        "id": "bzdXIMJeaFCz"
      },
      "source": [
        "iris = pd.read_csv('/content/drive/My Drive/iris1.csv')"
      ],
      "execution_count": 3,
      "outputs": []
    },
    {
      "cell_type": "code",
      "metadata": {
        "id": "ONb66PTTaExs",
        "colab": {
          "base_uri": "https://localhost:8080/"
        },
        "outputId": "5b809a2b-e13d-41f4-d240-e856a7d9838c"
      },
      "source": [
        "iris.count()"
      ],
      "execution_count": 4,
      "outputs": [
        {
          "output_type": "execute_result",
          "data": {
            "text/plain": [
              "sepal length (cm)    150\n",
              "sepal width (cm)     120\n",
              "petal length (cm)     82\n",
              "petal width (cm)     150\n",
              "Class                150\n",
              "dtype: int64"
            ]
          },
          "metadata": {
            "tags": []
          },
          "execution_count": 4
        }
      ]
    },
    {
      "cell_type": "code",
      "metadata": {
        "id": "mtCb7P0TaEGn",
        "colab": {
          "base_uri": "https://localhost:8080/"
        },
        "outputId": "290c4f25-97e4-4792-a36e-678d2207de74"
      },
      "source": [
        "iris.shape"
      ],
      "execution_count": 5,
      "outputs": [
        {
          "output_type": "execute_result",
          "data": {
            "text/plain": [
              "(150, 5)"
            ]
          },
          "metadata": {
            "tags": []
          },
          "execution_count": 5
        }
      ]
    },
    {
      "cell_type": "code",
      "metadata": {
        "id": "01O--35CbBlE",
        "colab": {
          "base_uri": "https://localhost:8080/"
        },
        "outputId": "a8c67ebb-da92-4131-9df2-c89b84819610"
      },
      "source": [
        "iris.info"
      ],
      "execution_count": 6,
      "outputs": [
        {
          "output_type": "execute_result",
          "data": {
            "text/plain": [
              "<bound method DataFrame.info of      sepal length (cm)  sepal width (cm)  ...  petal width (cm)           Class\n",
              "0                  5.1               3.5  ...               0.2     Iris-Setosa\n",
              "1                  4.9               3.0  ...               0.2     Iris-Setosa\n",
              "2                  4.7               3.2  ...               0.2     Iris-Setosa\n",
              "3                  4.6               3.1  ...               0.2     Iris-Setosa\n",
              "4                  5.0               NaN  ...               0.2     Iris-Setosa\n",
              "..                 ...               ...  ...               ...             ...\n",
              "145                6.7               3.0  ...               2.3  Iris-Virginica\n",
              "146                6.3               2.5  ...               1.9  Iris-Virginica\n",
              "147                6.5               3.0  ...               2.0  Iris-Virginica\n",
              "148                6.2               NaN  ...               2.3  Iris-Virginica\n",
              "149                5.9               3.0  ...               1.8  Iris-Virginica\n",
              "\n",
              "[150 rows x 5 columns]>"
            ]
          },
          "metadata": {
            "tags": []
          },
          "execution_count": 6
        }
      ]
    },
    {
      "cell_type": "code",
      "metadata": {
        "id": "AgD1yi_MbB7o",
        "colab": {
          "base_uri": "https://localhost:8080/"
        },
        "outputId": "3ed9f10f-aad4-436b-bb81-2724e09289f9"
      },
      "source": [
        "iris['sepal length (cm)'].loc[iris['sepal length (cm)']=='?']"
      ],
      "execution_count": 7,
      "outputs": [
        {
          "output_type": "execute_result",
          "data": {
            "text/plain": [
              "Series([], Name: sepal length (cm), dtype: float64)"
            ]
          },
          "metadata": {
            "tags": []
          },
          "execution_count": 7
        }
      ]
    },
    {
      "cell_type": "code",
      "metadata": {
        "id": "RFhxSD7NbCHr",
        "colab": {
          "base_uri": "https://localhost:8080/"
        },
        "outputId": "21f37a71-0b93-4cc0-ed74-aad082d01f6a"
      },
      "source": [
        "print('Total null values are:', iris.isnull().sum())"
      ],
      "execution_count": 8,
      "outputs": [
        {
          "output_type": "stream",
          "text": [
            "Total null values are: sepal length (cm)     0\n",
            "sepal width (cm)     30\n",
            "petal length (cm)    68\n",
            "petal width (cm)      0\n",
            "Class                 0\n",
            "dtype: int64\n"
          ],
          "name": "stdout"
        }
      ]
    },
    {
      "cell_type": "code",
      "metadata": {
        "id": "64yfal-fkr17",
        "colab": {
          "base_uri": "https://localhost:8080/"
        },
        "outputId": "c6019b61-5d65-4d72-b83d-db970ff44a1b"
      },
      "source": [
        "iris['sepal width (cm)'].replace(np.nan,iris['sepal width (cm)'].mean(),inplace=True)\n",
        "iris['sepal width (cm)']"
      ],
      "execution_count": 9,
      "outputs": [
        {
          "output_type": "execute_result",
          "data": {
            "text/plain": [
              "0      3.5000\n",
              "1      3.0000\n",
              "2      3.2000\n",
              "3      3.1000\n",
              "4      3.0575\n",
              "        ...  \n",
              "145    3.0000\n",
              "146    2.5000\n",
              "147    3.0000\n",
              "148    3.0575\n",
              "149    3.0000\n",
              "Name: sepal width (cm), Length: 150, dtype: float64"
            ]
          },
          "metadata": {
            "tags": []
          },
          "execution_count": 9
        }
      ]
    },
    {
      "cell_type": "code",
      "metadata": {
        "id": "V1R4tvgMd74O",
        "colab": {
          "base_uri": "https://localhost:8080/",
          "height": 415
        },
        "outputId": "26461370-f4d3-4c8a-d21c-7efab3ba709a"
      },
      "source": [
        "for column in list(iris.columns):\n",
        "  if iris[column].isnull().sum()>(0.40*150):\n",
        "    iris.drop(columns=column, axis=1,inplace=True)\n",
        "  elif iris[column].isnull().sum():\n",
        "    iris[column].replace(np.nan,iris[column].mean(),inplace=True)\n",
        "  else:\n",
        "    continue\n",
        "iris\n"
      ],
      "execution_count": 10,
      "outputs": [
        {
          "output_type": "execute_result",
          "data": {
            "text/html": [
              "<div>\n",
              "<style scoped>\n",
              "    .dataframe tbody tr th:only-of-type {\n",
              "        vertical-align: middle;\n",
              "    }\n",
              "\n",
              "    .dataframe tbody tr th {\n",
              "        vertical-align: top;\n",
              "    }\n",
              "\n",
              "    .dataframe thead th {\n",
              "        text-align: right;\n",
              "    }\n",
              "</style>\n",
              "<table border=\"1\" class=\"dataframe\">\n",
              "  <thead>\n",
              "    <tr style=\"text-align: right;\">\n",
              "      <th></th>\n",
              "      <th>sepal length (cm)</th>\n",
              "      <th>sepal width (cm)</th>\n",
              "      <th>petal width (cm)</th>\n",
              "      <th>Class</th>\n",
              "    </tr>\n",
              "  </thead>\n",
              "  <tbody>\n",
              "    <tr>\n",
              "      <th>0</th>\n",
              "      <td>5.1</td>\n",
              "      <td>3.5000</td>\n",
              "      <td>0.2</td>\n",
              "      <td>Iris-Setosa</td>\n",
              "    </tr>\n",
              "    <tr>\n",
              "      <th>1</th>\n",
              "      <td>4.9</td>\n",
              "      <td>3.0000</td>\n",
              "      <td>0.2</td>\n",
              "      <td>Iris-Setosa</td>\n",
              "    </tr>\n",
              "    <tr>\n",
              "      <th>2</th>\n",
              "      <td>4.7</td>\n",
              "      <td>3.2000</td>\n",
              "      <td>0.2</td>\n",
              "      <td>Iris-Setosa</td>\n",
              "    </tr>\n",
              "    <tr>\n",
              "      <th>3</th>\n",
              "      <td>4.6</td>\n",
              "      <td>3.1000</td>\n",
              "      <td>0.2</td>\n",
              "      <td>Iris-Setosa</td>\n",
              "    </tr>\n",
              "    <tr>\n",
              "      <th>4</th>\n",
              "      <td>5.0</td>\n",
              "      <td>3.0575</td>\n",
              "      <td>0.2</td>\n",
              "      <td>Iris-Setosa</td>\n",
              "    </tr>\n",
              "    <tr>\n",
              "      <th>...</th>\n",
              "      <td>...</td>\n",
              "      <td>...</td>\n",
              "      <td>...</td>\n",
              "      <td>...</td>\n",
              "    </tr>\n",
              "    <tr>\n",
              "      <th>145</th>\n",
              "      <td>6.7</td>\n",
              "      <td>3.0000</td>\n",
              "      <td>2.3</td>\n",
              "      <td>Iris-Virginica</td>\n",
              "    </tr>\n",
              "    <tr>\n",
              "      <th>146</th>\n",
              "      <td>6.3</td>\n",
              "      <td>2.5000</td>\n",
              "      <td>1.9</td>\n",
              "      <td>Iris-Virginica</td>\n",
              "    </tr>\n",
              "    <tr>\n",
              "      <th>147</th>\n",
              "      <td>6.5</td>\n",
              "      <td>3.0000</td>\n",
              "      <td>2.0</td>\n",
              "      <td>Iris-Virginica</td>\n",
              "    </tr>\n",
              "    <tr>\n",
              "      <th>148</th>\n",
              "      <td>6.2</td>\n",
              "      <td>3.0575</td>\n",
              "      <td>2.3</td>\n",
              "      <td>Iris-Virginica</td>\n",
              "    </tr>\n",
              "    <tr>\n",
              "      <th>149</th>\n",
              "      <td>5.9</td>\n",
              "      <td>3.0000</td>\n",
              "      <td>1.8</td>\n",
              "      <td>Iris-Virginica</td>\n",
              "    </tr>\n",
              "  </tbody>\n",
              "</table>\n",
              "<p>150 rows × 4 columns</p>\n",
              "</div>"
            ],
            "text/plain": [
              "     sepal length (cm)  sepal width (cm)  petal width (cm)           Class\n",
              "0                  5.1            3.5000               0.2     Iris-Setosa\n",
              "1                  4.9            3.0000               0.2     Iris-Setosa\n",
              "2                  4.7            3.2000               0.2     Iris-Setosa\n",
              "3                  4.6            3.1000               0.2     Iris-Setosa\n",
              "4                  5.0            3.0575               0.2     Iris-Setosa\n",
              "..                 ...               ...               ...             ...\n",
              "145                6.7            3.0000               2.3  Iris-Virginica\n",
              "146                6.3            2.5000               1.9  Iris-Virginica\n",
              "147                6.5            3.0000               2.0  Iris-Virginica\n",
              "148                6.2            3.0575               2.3  Iris-Virginica\n",
              "149                5.9            3.0000               1.8  Iris-Virginica\n",
              "\n",
              "[150 rows x 4 columns]"
            ]
          },
          "metadata": {
            "tags": []
          },
          "execution_count": 10
        }
      ]
    },
    {
      "cell_type": "code",
      "metadata": {
        "id": "bNMmNJUyd70r",
        "colab": {
          "base_uri": "https://localhost:8080/"
        },
        "outputId": "1297d227-61b7-4493-cd7b-58ea6c954a90"
      },
      "source": [
        "iris.info "
      ],
      "execution_count": 11,
      "outputs": [
        {
          "output_type": "execute_result",
          "data": {
            "text/plain": [
              "<bound method DataFrame.info of      sepal length (cm)  sepal width (cm)  petal width (cm)           Class\n",
              "0                  5.1            3.5000               0.2     Iris-Setosa\n",
              "1                  4.9            3.0000               0.2     Iris-Setosa\n",
              "2                  4.7            3.2000               0.2     Iris-Setosa\n",
              "3                  4.6            3.1000               0.2     Iris-Setosa\n",
              "4                  5.0            3.0575               0.2     Iris-Setosa\n",
              "..                 ...               ...               ...             ...\n",
              "145                6.7            3.0000               2.3  Iris-Virginica\n",
              "146                6.3            2.5000               1.9  Iris-Virginica\n",
              "147                6.5            3.0000               2.0  Iris-Virginica\n",
              "148                6.2            3.0575               2.3  Iris-Virginica\n",
              "149                5.9            3.0000               1.8  Iris-Virginica\n",
              "\n",
              "[150 rows x 4 columns]>"
            ]
          },
          "metadata": {
            "tags": []
          },
          "execution_count": 11
        }
      ]
    },
    {
      "cell_type": "code",
      "metadata": {
        "id": "5Usva3lUd7bZ",
        "colab": {
          "base_uri": "https://localhost:8080/"
        },
        "outputId": "aac1d46e-684d-4102-d092-92feafde95aa"
      },
      "source": [
        "from sklearn.preprocessing import LabelEncoder\n",
        "le=LabelEncoder()\n",
        "iris['Class']=le.fit_transform(iris['Class'])\n",
        "print(iris.head())\n",
        "print(iris['Class'].unique())"
      ],
      "execution_count": 12,
      "outputs": [
        {
          "output_type": "stream",
          "text": [
            "   sepal length (cm)  sepal width (cm)  petal width (cm)  Class\n",
            "0                5.1            3.5000               0.2      0\n",
            "1                4.9            3.0000               0.2      0\n",
            "2                4.7            3.2000               0.2      0\n",
            "3                4.6            3.1000               0.2      0\n",
            "4                5.0            3.0575               0.2      0\n",
            "[0 1 2]\n"
          ],
          "name": "stdout"
        }
      ]
    },
    {
      "cell_type": "code",
      "metadata": {
        "id": "yz6lQJq2d7Yk",
        "colab": {
          "base_uri": "https://localhost:8080/"
        },
        "outputId": "7593e257-1dcc-4331-c05c-53b94d4925c7"
      },
      "source": [
        "iris.count"
      ],
      "execution_count": 13,
      "outputs": [
        {
          "output_type": "execute_result",
          "data": {
            "text/plain": [
              "<bound method DataFrame.count of      sepal length (cm)  sepal width (cm)  petal width (cm)  Class\n",
              "0                  5.1            3.5000               0.2      0\n",
              "1                  4.9            3.0000               0.2      0\n",
              "2                  4.7            3.2000               0.2      0\n",
              "3                  4.6            3.1000               0.2      0\n",
              "4                  5.0            3.0575               0.2      0\n",
              "..                 ...               ...               ...    ...\n",
              "145                6.7            3.0000               2.3      2\n",
              "146                6.3            2.5000               1.9      2\n",
              "147                6.5            3.0000               2.0      2\n",
              "148                6.2            3.0575               2.3      2\n",
              "149                5.9            3.0000               1.8      2\n",
              "\n",
              "[150 rows x 4 columns]>"
            ]
          },
          "metadata": {
            "tags": []
          },
          "execution_count": 13
        }
      ]
    },
    {
      "cell_type": "code",
      "metadata": {
        "id": "r4qRBPxskbc4",
        "colab": {
          "base_uri": "https://localhost:8080/",
          "height": 863
        },
        "outputId": "bed151ee-539d-43b5-d680-31c246999268"
      },
      "source": [
        "import matplotlib.pyplot as plt\n",
        "iris.boxplot(figsize=(10,15))\n",
        "plt.show()"
      ],
      "execution_count": 14,
      "outputs": [
        {
          "output_type": "display_data",
          "data": {
            "image/png": "[encoded data removed]",
            "text/plain": [
              "<Figure size 720x1080 with 1 Axes>"
            ]
          },
          "metadata": {
            "tags": [],
            "needs_background": "light"
          }
        }
      ]
    },
    {
      "cell_type": "code",
      "metadata": {
        "id": "k5gFoxOmkb5x"
      },
      "source": [
        "q1 = iris['sepal width (cm)'].quantile(.25)\n",
        "q3 = iris['sepal width (cm)'].quantile(.75)\n",
        "IQR = q3-q1\n",
        "iris['sepal width (cm)'] = np.clip(iris['sepal width (cm)'],q1-1.5*IQR, q3+1.5*IQR)"
      ],
      "execution_count": 15,
      "outputs": []
    },
    {
      "cell_type": "code",
      "metadata": {
        "id": "HlnlOiyvkcFc",
        "colab": {
          "base_uri": "https://localhost:8080/",
          "height": 265
        },
        "outputId": "3219a841-0dd2-4304-a4ff-e633673b480f"
      },
      "source": [
        "iris.boxplot()\n",
        "plt.show()"
      ],
      "execution_count": 16,
      "outputs": [
        {
          "output_type": "display_data",
          "data": {
            "image/png": "[encoded data removed]",
            "text/plain": [
              "<Figure size 432x288 with 1 Axes>"
            ]
          },
          "metadata": {
            "tags": [],
            "needs_background": "light"
          }
        }
      ]
    },
    {
      "cell_type": "code",
      "metadata": {
        "id": "IaQM_GKgkcB7",
        "colab": {
          "base_uri": "https://localhost:8080/",
          "height": 365
        },
        "outputId": "b10afdd1-39b4-4965-e58c-e01b2d3b80f3"
      },
      "source": [
        "import seaborn as sns\n",
        "correlation = iris.corr()\n",
        "sns.heatmap(correlation, annot = True)"
      ],
      "execution_count": 18,
      "outputs": [
        {
          "output_type": "execute_result",
          "data": {
            "text/plain": [
              "<matplotlib.axes._subplots.AxesSubplot at 0x7f1a3c7cccf8>"
            ]
          },
          "metadata": {
            "tags": []
          },
          "execution_count": 18
        },
        {
          "output_type": "display_data",
          "data": {
            "image/png": "[encoded data removed]",
            "text/plain": [
              "<Figure size 432x288 with 2 Axes>"
            ]
          },
          "metadata": {
            "tags": [],
            "needs_background": "light"
          }
        }
      ]
    },
    {
      "cell_type": "code",
      "metadata": {
        "id": "furleUnfkb2A",
        "colab": {
          "base_uri": "https://localhost:8080/",
          "height": 171
        },
        "outputId": "492b8cbe-0187-4a8c-822d-9dfc77ff510e"
      },
      "source": [
        "import seaborn as sns\n",
        "correlation= iris.corr()\n",
        "correlation"
      ],
      "execution_count": 19,
      "outputs": [
        {
          "output_type": "execute_result",
          "data": {
            "text/html": [
              "<div>\n",
              "<style scoped>\n",
              "    .dataframe tbody tr th:only-of-type {\n",
              "        vertical-align: middle;\n",
              "    }\n",
              "\n",
              "    .dataframe tbody tr th {\n",
              "        vertical-align: top;\n",
              "    }\n",
              "\n",
              "    .dataframe thead th {\n",
              "        text-align: right;\n",
              "    }\n",
              "</style>\n",
              "<table border=\"1\" class=\"dataframe\">\n",
              "  <thead>\n",
              "    <tr style=\"text-align: right;\">\n",
              "      <th></th>\n",
              "      <th>sepal length (cm)</th>\n",
              "      <th>sepal width (cm)</th>\n",
              "      <th>petal width (cm)</th>\n",
              "      <th>Class</th>\n",
              "    </tr>\n",
              "  </thead>\n",
              "  <tbody>\n",
              "    <tr>\n",
              "      <th>sepal length (cm)</th>\n",
              "      <td>1.000000</td>\n",
              "      <td>-0.155890</td>\n",
              "      <td>0.817941</td>\n",
              "      <td>0.782561</td>\n",
              "    </tr>\n",
              "    <tr>\n",
              "      <th>sepal width (cm)</th>\n",
              "      <td>-0.155890</td>\n",
              "      <td>1.000000</td>\n",
              "      <td>-0.377261</td>\n",
              "      <td>-0.444903</td>\n",
              "    </tr>\n",
              "    <tr>\n",
              "      <th>petal width (cm)</th>\n",
              "      <td>0.817941</td>\n",
              "      <td>-0.377261</td>\n",
              "      <td>1.000000</td>\n",
              "      <td>0.956547</td>\n",
              "    </tr>\n",
              "    <tr>\n",
              "      <th>Class</th>\n",
              "      <td>0.782561</td>\n",
              "      <td>-0.444903</td>\n",
              "      <td>0.956547</td>\n",
              "      <td>1.000000</td>\n",
              "    </tr>\n",
              "  </tbody>\n",
              "</table>\n",
              "</div>"
            ],
            "text/plain": [
              "                   sepal length (cm)  ...     Class\n",
              "sepal length (cm)           1.000000  ...  0.782561\n",
              "sepal width (cm)           -0.155890  ... -0.444903\n",
              "petal width (cm)            0.817941  ...  0.956547\n",
              "Class                       0.782561  ...  1.000000\n",
              "\n",
              "[4 rows x 4 columns]"
            ]
          },
          "metadata": {
            "tags": []
          },
          "execution_count": 19
        }
      ]
    },
    {
      "cell_type": "code",
      "metadata": {
        "id": "r9RFtKEDkbj_",
        "colab": {
          "base_uri": "https://localhost:8080/",
          "height": 365
        },
        "outputId": "e624df0c-a6d8-44e9-b24b-c74af56c1e9d"
      },
      "source": [
        "sns.heatmap(correlation, annot=True)"
      ],
      "execution_count": 21,
      "outputs": [
        {
          "output_type": "execute_result",
          "data": {
            "text/plain": [
              "<matplotlib.axes._subplots.AxesSubplot at 0x7f1a33e95160>"
            ]
          },
          "metadata": {
            "tags": []
          },
          "execution_count": 21
        },
        {
          "output_type": "display_data",
          "data": {
            "image/png": "[encoded data removed]",
            "text/plain": [
              "<Figure size 432x288 with 2 Axes>"
            ]
          },
          "metadata": {
            "tags": [],
            "needs_background": "light"
          }
        }
      ]
    },
    {
      "cell_type": "code",
      "metadata": {
        "id": "cwohpqRFkbTH"
      },
      "source": [
        "X=iris.drop(['Class'],axis=1)\n",
        "Y=iris['Class']"
      ],
      "execution_count": 22,
      "outputs": []
    },
    {
      "cell_type": "code",
      "metadata": {
        "id": "JivX2Zz9sAZs",
        "colab": {
          "base_uri": "https://localhost:8080/"
        },
        "outputId": "493a0038-ae10-4334-a2fe-7a45f75b596d"
      },
      "source": [
        "print(\"Input for my ML model: \\n\",X.head())\n",
        "print(\"Output for my ML model : \\n\", Y.head())"
      ],
      "execution_count": 23,
      "outputs": [
        {
          "output_type": "stream",
          "text": [
            "Input for my ML model: \n",
            "    sepal length (cm)  sepal width (cm)  petal width (cm)\n",
            "0                5.1            3.5000               0.2\n",
            "1                4.9            3.0000               0.2\n",
            "2                4.7            3.2000               0.2\n",
            "3                4.6            3.1000               0.2\n",
            "4                5.0            3.0575               0.2\n",
            "Output for my ML model : \n",
            " 0    0\n",
            "1    0\n",
            "2    0\n",
            "3    0\n",
            "4    0\n",
            "Name: Class, dtype: int64\n"
          ],
          "name": "stdout"
        }
      ]
    },
    {
      "cell_type": "code",
      "metadata": {
        "id": "wIKm2oEXsAuh"
      },
      "source": [
        "from sklearn.model_selection import train_test_split\n",
        "X_train, X_test, Y_train, Y_test= train_test_split(X,Y,test_size=0.25,random_state=7)"
      ],
      "execution_count": 24,
      "outputs": []
    },
    {
      "cell_type": "code",
      "metadata": {
        "id": "-hYPTQv1scXx"
      },
      "source": [
        "#call the model\n",
        "from sklearn.linear_model import LogisticRegression\n",
        "lr_model= LogisticRegression()"
      ],
      "execution_count": 25,
      "outputs": []
    },
    {
      "cell_type": "code",
      "metadata": {
        "id": "bcjU--aHsAkK"
      },
      "source": [
        "#Fit the model\n",
        "clf = lr_model.fit(X_train, Y_train)"
      ],
      "execution_count": 26,
      "outputs": []
    },
    {
      "cell_type": "code",
      "metadata": {
        "id": "EunPCzjesAhc",
        "colab": {
          "base_uri": "https://localhost:8080/"
        },
        "outputId": "ca59abbd-667f-4f97-b3ed-7d6b5e1d946f"
      },
      "source": [
        "X.info"
      ],
      "execution_count": 27,
      "outputs": [
        {
          "output_type": "execute_result",
          "data": {
            "text/plain": [
              "<bound method DataFrame.info of      sepal length (cm)  sepal width (cm)  petal width (cm)\n",
              "0                  5.1            3.5000               0.2\n",
              "1                  4.9            3.0000               0.2\n",
              "2                  4.7            3.2000               0.2\n",
              "3                  4.6            3.1000               0.2\n",
              "4                  5.0            3.0575               0.2\n",
              "..                 ...               ...               ...\n",
              "145                6.7            3.0000               2.3\n",
              "146                6.3            2.5000               1.9\n",
              "147                6.5            3.0000               2.0\n",
              "148                6.2            3.0575               2.3\n",
              "149                5.9            3.0000               1.8\n",
              "\n",
              "[150 rows x 3 columns]>"
            ]
          },
          "metadata": {
            "tags": []
          },
          "execution_count": 27
        }
      ]
    },
    {
      "cell_type": "code",
      "metadata": {
        "id": "XuGVhuaBzmZu",
        "colab": {
          "base_uri": "https://localhost:8080/"
        },
        "outputId": "f28da754-cef3-44fd-ca10-0cd740d74c2d"
      },
      "source": [
        "X['sepal width (cm)']"
      ],
      "execution_count": 28,
      "outputs": [
        {
          "output_type": "execute_result",
          "data": {
            "text/plain": [
              "0      3.5000\n",
              "1      3.0000\n",
              "2      3.2000\n",
              "3      3.1000\n",
              "4      3.0575\n",
              "        ...  \n",
              "145    3.0000\n",
              "146    2.5000\n",
              "147    3.0000\n",
              "148    3.0575\n",
              "149    3.0000\n",
              "Name: sepal width (cm), Length: 150, dtype: float64"
            ]
          },
          "metadata": {
            "tags": []
          },
          "execution_count": 28
        }
      ]
    },
    {
      "cell_type": "code",
      "metadata": {
        "id": "ODgeDlv_sAV3",
        "colab": {
          "base_uri": "https://localhost:8080/"
        },
        "outputId": "7da7a3a7-1daa-4fca-99dc-87ba3c170068"
      },
      "source": [
        "#Use the fitted model for prediction on test dataset\n",
        "y_predicted = clf.predict(X_test)\n",
        "print(y_predicted)"
      ],
      "execution_count": 29,
      "outputs": [
        {
          "output_type": "stream",
          "text": [
            "[2 1 0 1 1 0 2 1 0 1 2 1 0 2 0 2 2 2 0 0 1 2 1 1 2 2 1 1 2 2 2 1 0 2 1 0 0\n",
            " 0]\n"
          ],
          "name": "stdout"
        }
      ]
    },
    {
      "cell_type": "code",
      "metadata": {
        "id": "e3HFIq6EIi64",
        "colab": {
          "base_uri": "https://localhost:8080/"
        },
        "outputId": "b65e9c9b-9f2f-4995-b3f5-4a3cbe9108f9"
      },
      "source": [
        "from sklearn.metrics import confusion_matrix,classification_report\n",
        "print(confusion_matrix(Y_test,y_predicted))\n",
        "print(classification_report(Y_test,y_predicted))"
      ],
      "execution_count": 30,
      "outputs": [
        {
          "output_type": "stream",
          "text": [
            "[[11  0  0]\n",
            " [ 0 11  3]\n",
            " [ 0  2 11]]\n",
            "              precision    recall  f1-score   support\n",
            "\n",
            "           0       1.00      1.00      1.00        11\n",
            "           1       0.85      0.79      0.81        14\n",
            "           2       0.79      0.85      0.81        13\n",
            "\n",
            "    accuracy                           0.87        38\n",
            "   macro avg       0.88      0.88      0.88        38\n",
            "weighted avg       0.87      0.87      0.87        38\n",
            "\n"
          ],
          "name": "stdout"
        }
      ]
    },
    {
      "cell_type": "code",
      "metadata": {
        "id": "qWIksJ4Oh0kK"
      },
      "source": [
        ""
      ],
      "execution_count": 30,
      "outputs": []
    },
    {
      "cell_type": "code",
      "metadata": {
        "id": "OQYR1y3zfobU"
      },
      "source": [
        "#call the model\n",
        "from sklearn.tree import DecisionTreeClassifier\n",
        "dt_model= DecisionTreeClassifier(criterion=\"gini\", max_depth=3, random_state=0)"
      ],
      "execution_count": 31,
      "outputs": []
    },
    {
      "cell_type": "code",
      "metadata": {
        "id": "ZCdQXhnLpOGP"
      },
      "source": [
        "#fit the model\n",
        "clf = dt_model.fit(X, Y)"
      ],
      "execution_count": 32,
      "outputs": []
    },
    {
      "cell_type": "code",
      "metadata": {
        "id": "3Nwk4z5ZpOR8",
        "colab": {
          "base_uri": "https://localhost:8080/"
        },
        "outputId": "6ec0be01-55eb-4a30-f804-43c737c0d1be"
      },
      "source": [
        "#Use the fitted model for prediction on test dataset\n",
        "y_predicted = clf.predict(X)\n",
        "print(y_predicted)"
      ],
      "execution_count": 33,
      "outputs": [
        {
          "output_type": "stream",
          "text": [
            "[0 0 0 0 0 0 0 0 0 0 0 0 0 0 0 0 0 0 0 0 0 0 0 0 0 0 0 0 0 0 0 0 0 0 0 0 0\n",
            " 0 0 0 0 0 0 0 0 0 0 0 0 0 1 1 1 1 1 1 1 1 1 1 1 1 1 1 1 1 1 1 1 1 2 1 1 1\n",
            " 1 1 1 1 1 1 1 1 1 1 1 1 1 1 1 1 1 1 1 1 1 1 1 1 1 1 2 2 2 2 2 2 1 2 2 2 2\n",
            " 2 2 2 2 2 2 2 2 1 2 2 2 2 2 2 2 2 2 2 2 2 2 1 1 2 2 2 2 2 2 2 2 2 2 2 2 2\n",
            " 2 2]\n"
          ],
          "name": "stdout"
        }
      ]
    },
    {
      "cell_type": "code",
      "metadata": {
        "id": "deg9SBhBpOOe",
        "colab": {
          "base_uri": "https://localhost:8080/"
        },
        "outputId": "5f87e1a8-ed18-49a3-fbbe-6a584b4302b6"
      },
      "source": [
        "from sklearn.metrics import confusion_matrix,classification_report\n",
        "print(confusion_matrix(Y,y_predicted))\n",
        "print(classification_report(Y,y_predicted))"
      ],
      "execution_count": 34,
      "outputs": [
        {
          "output_type": "stream",
          "text": [
            "[[50  0  0]\n",
            " [ 0 49  1]\n",
            " [ 0  4 46]]\n",
            "              precision    recall  f1-score   support\n",
            "\n",
            "           0       1.00      1.00      1.00        50\n",
            "           1       0.92      0.98      0.95        50\n",
            "           2       0.98      0.92      0.95        50\n",
            "\n",
            "    accuracy                           0.97       150\n",
            "   macro avg       0.97      0.97      0.97       150\n",
            "weighted avg       0.97      0.97      0.97       150\n",
            "\n"
          ],
          "name": "stdout"
        }
      ]
    },
    {
      "cell_type": "code",
      "metadata": {
        "id": "GBK0VKJAgbFo"
      },
      "source": [
        "from sklearn.metrics import accuracy_score\n",
        "from sklearn.metrics import f1_score\n",
        "from sklearn.metrics import recall_score\n",
        "from sklearn.metrics import precision_score\n",
        "from sklearn.model_selection import cross_val_score"
      ],
      "execution_count": 35,
      "outputs": []
    },
    {
      "cell_type": "code",
      "metadata": {
        "id": "D9Ndj-E8e8jo",
        "colab": {
          "base_uri": "https://localhost:8080/"
        },
        "outputId": "4dfde6bb-cbb4-4180-b331-ca8641f2c6bc"
      },
      "source": [
        "print('Accuracy:', accuracy_score(Y, y_predicted))\n",
        "print('f1_score:', f1_score(Y, y_predicted,pos_label='positive',average='micro'))\n",
        "print('recall_score:', recall_score(Y, y_predicted,pos_label='positive',average='micro'))\n",
        "print('precision_score:', precision_score(Y, y_predicted,pos_label='positive',average='micro'))"
      ],
      "execution_count": 36,
      "outputs": [
        {
          "output_type": "stream",
          "text": [
            "Accuracy: 0.9666666666666667\n",
            "f1_score: 0.9666666666666667\n",
            "recall_score: 0.9666666666666667\n",
            "precision_score: 0.9666666666666667\n"
          ],
          "name": "stdout"
        },
        {
          "output_type": "stream",
          "text": [
            "/usr/local/lib/python3.6/dist-packages/sklearn/metrics/_classification.py:1321: UserWarning: Note that pos_label (set to 'positive') is ignored when average != 'binary' (got 'micro'). You may use labels=[pos_label] to specify a single positive class.\n",
            "  % (pos_label, average), UserWarning)\n"
          ],
          "name": "stderr"
        }
      ]
    },
    {
      "cell_type": "code",
      "metadata": {
        "id": "X2S7VfnJAHfM"
      },
      "source": [
        "from sklearn.ensemble import AdaBoostClassifier"
      ],
      "execution_count": 40,
      "outputs": []
    },
    {
      "cell_type": "code",
      "metadata": {
        "id": "nAMKZPEF_Q5v"
      },
      "source": [
        "#Create Ada boost Classifier\r\n",
        "abc = AdaBoostClassifier(n_estimators = 50, learning_rate =1)\r\n",
        "\r\n",
        "#Train Adaboost Classifier\r\n",
        "\r\n",
        "model = abc.fit(X_train, Y_train)\r\n",
        "\r\n",
        "#Predict the response for test dataset\r\n",
        "\r\n",
        "y_pred = model.predict(X_test)"
      ],
      "execution_count": 56,
      "outputs": []
    },
    {
      "cell_type": "code",
      "metadata": {
        "colab": {
          "base_uri": "https://localhost:8080/"
        },
        "id": "wKZLdOiyAUC-",
        "outputId": "1198c0bf-6594-466c-a183-5c23cea581cc"
      },
      "source": [
        "print('Accuracy of Ada Boost Classifier:', accuracy_score(Y_test, y_pred))"
      ],
      "execution_count": 57,
      "outputs": [
        {
          "output_type": "stream",
          "text": [
            "Accuracy of Ada Boost Classifier: 0.8947368421052632\n"
          ],
          "name": "stdout"
        }
      ]
    },
    {
      "cell_type": "markdown",
      "metadata": {
        "id": "GFy3PkJTB6Mp"
      },
      "source": [
        "Applying Adaboost with Decision Tree as Base estimator"
      ]
    },
    {
      "cell_type": "code",
      "metadata": {
        "id": "1xr6ZMqiA9i1"
      },
      "source": [
        "from sklearn.svm import SVC\r\n",
        "from sklearn import metrics\r\n",
        "\r\n",
        "svc= SVC(probability=True, kernel = 'linear')\r\n",
        "\r\n",
        "#Create Ada boost Classifier\r\n",
        "abc = AdaBoostClassifier(n_estimators = 50, base_estimator= dt_model, learning_rate =1)\r\n",
        "\r\n",
        "#Train Adaboost Classifier\r\n",
        "\r\n",
        "model = abc.fit(X_train, Y_train)\r\n",
        "\r\n",
        "#Predict the response for test dataset\r\n",
        "\r\n",
        "y_pred = model.predict(X_test)"
      ],
      "execution_count": 52,
      "outputs": []
    },
    {
      "cell_type": "code",
      "metadata": {
        "colab": {
          "base_uri": "https://localhost:8080/"
        },
        "id": "fLmFQkWfB0EO",
        "outputId": "47b1e227-ba54-49a2-e654-230ae92b6386"
      },
      "source": [
        "print('Accuracy of Ada Boost Classifier with Decision Tree model as base estimator:', accuracy_score(Y_test, y_pred))"
      ],
      "execution_count": 53,
      "outputs": [
        {
          "output_type": "stream",
          "text": [
            "Accuracy of Ada Boost Classifier with svc as base estimator: 0.8947368421052632\n"
          ],
          "name": "stdout"
        }
      ]
    },
    {
      "cell_type": "code",
      "metadata": {
        "id": "XGwOVzNxIivV",
        "colab": {
          "base_uri": "https://localhost:8080/"
        },
        "outputId": "7199689b-dffc-4a98-8980-b225c7aa2121"
      },
      "source": [
        "#importing necessary packages\n",
        "import pandas as pd\n",
        "import sklearn.datasets as datasets\n",
        "from sklearn.tree import DecisionTreeClassifier\n",
        "from sklearn.externals.six import StringIO  \n",
        "from IPython.display import Image  \n",
        "from sklearn.tree import export_graphviz\n",
        "import pydotplus\n",
        "import graphviz\n",
        "from sklearn import tree"
      ],
      "execution_count": 37,
      "outputs": [
        {
          "output_type": "stream",
          "text": [
            "/usr/local/lib/python3.6/dist-packages/sklearn/externals/six.py:31: FutureWarning: The module is deprecated in version 0.21 and will be removed in version 0.23 since we've dropped support for Python 2.7. Please rely on the official version of six (https://pypi.org/project/six/).\n",
            "  \"(https://pypi.org/project/six/).\", FutureWarning)\n"
          ],
          "name": "stderr"
        }
      ]
    },
    {
      "cell_type": "code",
      "metadata": {
        "id": "Viqr-pGuhia5",
        "colab": {
          "base_uri": "https://localhost:8080/",
          "height": 498
        },
        "outputId": "5bee655a-92fb-4641-ad5e-4f3e8f66573d"
      },
      "source": [
        "from IPython.display import Image  \n",
        "dot_data = tree.export_graphviz(clf, out_file=None, \n",
        "                         feature_names=None,  \n",
        "                         class_names=None,  \n",
        "                         filled=True, rounded=True,  \n",
        "                         special_characters=True)  \n",
        "graph = pydotplus.graph_from_dot_data(dot_data)  \n",
        "Image(graph.create_png())"
      ],
      "execution_count": 39,
      "outputs": [
        {
          "output_type": "execute_result",
          "data": {
            "image/png": "[encoded data removed]",
            "text/plain": [
              "<IPython.core.display.Image object>"
            ]
          },
          "metadata": {
            "tags": []
          },
          "execution_count": 39
        }
      ]
    },
    {
      "cell_type": "code",
      "metadata": {
        "id": "xsxArqfmhiil"
      },
      "source": [
        ""
      ],
      "execution_count": 38,
      "outputs": []
    },
    {
      "cell_type": "code",
      "metadata": {
        "id": "ue1RJylRhiSM"
      },
      "source": [
        ""
      ],
      "execution_count": 38,
      "outputs": []
    }
  ]
}