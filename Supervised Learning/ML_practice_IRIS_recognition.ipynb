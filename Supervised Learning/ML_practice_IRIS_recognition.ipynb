{
  "nbformat": 4,
  "nbformat_minor": 0,
  "metadata": {
    "colab": {
      "name": "ML_practice_IRIS_recognition.ipynb",
      "provenance": []
    },
    "kernelspec": {
      "name": "python3",
      "display_name": "Python 3"
    }
  },
  "cells": [
    {
      "cell_type": "code",
      "metadata": {
        "id": "ArJOkDI-ZHJ3"
      },
      "source": [
        "!wget https://www.dropbox.com/s/webw4cr5dsnm3jv/iris1.csv"
      ],
      "execution_count": null,
      "outputs": []
    },
    {
      "cell_type": "code",
      "metadata": {
        "id": "zx9S1UW1aEbv"
      },
      "source": [
        "import pandas as pd\n",
        "import numpy as np"
      ],
      "execution_count": null,
      "outputs": []
    },
    {
      "cell_type": "code",
      "metadata": {
        "id": "bzdXIMJeaFCz"
      },
      "source": [
        "iris = pd.read_csv('/content/drive/My Drive/iris1.csv')"
      ],
      "execution_count": null,
      "outputs": []
    },
    {
      "cell_type": "code",
      "metadata": {
        "id": "ONb66PTTaExs",
        "colab": {
          "base_uri": "https://localhost:8080/",
          "height": 121
        },
        "outputId": "75902a7d-47b1-40d4-8907-8e3d8c800e1c"
      },
      "source": [
        "iris.count()"
      ],
      "execution_count": null,
      "outputs": [
        {
          "output_type": "execute_result",
          "data": {
            "text/plain": [
              "sepal length (cm)    150\n",
              "sepal width (cm)     120\n",
              "petal length (cm)     82\n",
              "petal width (cm)     150\n",
              "Class                150\n",
              "dtype: int64"
            ]
          },
          "metadata": {
            "tags": []
          },
          "execution_count": 6
        }
      ]
    },
    {
      "cell_type": "code",
      "metadata": {
        "id": "mtCb7P0TaEGn",
        "colab": {
          "base_uri": "https://localhost:8080/",
          "height": 35
        },
        "outputId": "97f21a93-eb1e-4c6a-ddf5-658883e7b9bb"
      },
      "source": [
        "iris.shape"
      ],
      "execution_count": null,
      "outputs": [
        {
          "output_type": "execute_result",
          "data": {
            "text/plain": [
              "(150, 5)"
            ]
          },
          "metadata": {
            "tags": []
          },
          "execution_count": 7
        }
      ]
    },
    {
      "cell_type": "code",
      "metadata": {
        "id": "01O--35CbBlE",
        "colab": {
          "base_uri": "https://localhost:8080/",
          "height": 260
        },
        "outputId": "6338e527-5019-41f2-ea21-b6412b599cf7"
      },
      "source": [
        "iris.info"
      ],
      "execution_count": null,
      "outputs": [
        {
          "output_type": "execute_result",
          "data": {
            "text/plain": [
              "<bound method DataFrame.info of      sepal length (cm)  sepal width (cm)  ...  petal width (cm)           Class\n",
              "0                  5.1               3.5  ...               0.2     Iris-Setosa\n",
              "1                  4.9               3.0  ...               0.2     Iris-Setosa\n",
              "2                  4.7               3.2  ...               0.2     Iris-Setosa\n",
              "3                  4.6               3.1  ...               0.2     Iris-Setosa\n",
              "4                  5.0               NaN  ...               0.2     Iris-Setosa\n",
              "..                 ...               ...  ...               ...             ...\n",
              "145                6.7               3.0  ...               2.3  Iris-Virginica\n",
              "146                6.3               2.5  ...               1.9  Iris-Virginica\n",
              "147                6.5               3.0  ...               2.0  Iris-Virginica\n",
              "148                6.2               NaN  ...               2.3  Iris-Virginica\n",
              "149                5.9               3.0  ...               1.8  Iris-Virginica\n",
              "\n",
              "[150 rows x 5 columns]>"
            ]
          },
          "metadata": {
            "tags": []
          },
          "execution_count": 35
        }
      ]
    },
    {
      "cell_type": "code",
      "metadata": {
        "id": "AgD1yi_MbB7o",
        "colab": {
          "base_uri": "https://localhost:8080/"
        },
        "outputId": "7c67da33-0f35-434c-cbbb-186f29ec701c"
      },
      "source": [
        "iris['sepal length (cm)'].loc[iris['sepal length (cm)']=='?']"
      ],
      "execution_count": null,
      "outputs": [
        {
          "output_type": "execute_result",
          "data": {
            "text/plain": [
              "Series([], Name: sepal length (cm), dtype: float64)"
            ]
          },
          "metadata": {
            "tags": []
          },
          "execution_count": 3
        }
      ]
    },
    {
      "cell_type": "code",
      "metadata": {
        "id": "RFhxSD7NbCHr",
        "colab": {
          "base_uri": "https://localhost:8080/"
        },
        "outputId": "ce7a096c-3320-44fb-c510-f0433902050b"
      },
      "source": [
        "print('Total null values are:', iris.isnull().sum())"
      ],
      "execution_count": null,
      "outputs": [
        {
          "output_type": "stream",
          "text": [
            "Total null values are: sepal length (cm)     0\n",
            "sepal width (cm)     30\n",
            "petal length (cm)    68\n",
            "petal width (cm)      0\n",
            "Class                 0\n",
            "dtype: int64\n"
          ],
          "name": "stdout"
        }
      ]
    },
    {
      "cell_type": "code",
      "metadata": {
        "id": "64yfal-fkr17",
        "colab": {
          "base_uri": "https://localhost:8080/"
        },
        "outputId": "669ea78c-fc9a-4b08-8868-e6fb6af16a77"
      },
      "source": [
        "iris['sepal width (cm)'].replace(np.nan,iris['sepal width (cm)'].mean(),inplace=True)\n",
        "iris['sepal width (cm)']"
      ],
      "execution_count": null,
      "outputs": [
        {
          "output_type": "execute_result",
          "data": {
            "text/plain": [
              "0      3.5000\n",
              "1      3.0000\n",
              "2      3.2000\n",
              "3      3.1000\n",
              "4      3.0575\n",
              "        ...  \n",
              "145    3.0000\n",
              "146    2.5000\n",
              "147    3.0000\n",
              "148    3.0575\n",
              "149    3.0000\n",
              "Name: sepal width (cm), Length: 150, dtype: float64"
            ]
          },
          "metadata": {
            "tags": []
          },
          "execution_count": 5
        }
      ]
    },
    {
      "cell_type": "code",
      "metadata": {
        "id": "V1R4tvgMd74O",
        "colab": {
          "base_uri": "https://localhost:8080/",
          "height": 415
        },
        "outputId": "720e56ac-04df-436f-9404-3677d1d248ef"
      },
      "source": [
        "for column in list(iris.columns):\n",
        "  if iris[column].isnull().sum()>(0.40*150):\n",
        "    iris.drop(columns=column, axis=1,inplace=True)\n",
        "  elif iris[column].isnull().sum():\n",
        "    iris[column].replace(np.nan,iris[column].mean(),inplace=True)\n",
        "  else:\n",
        "    continue\n",
        "iris\n"
      ],
      "execution_count": null,
      "outputs": [
        {
          "output_type": "execute_result",
          "data": {
            "text/html": [
              "<div>\n",
              "<style scoped>\n",
              "    .dataframe tbody tr th:only-of-type {\n",
              "        vertical-align: middle;\n",
              "    }\n",
              "\n",
              "    .dataframe tbody tr th {\n",
              "        vertical-align: top;\n",
              "    }\n",
              "\n",
              "    .dataframe thead th {\n",
              "        text-align: right;\n",
              "    }\n",
              "</style>\n",
              "<table border=\"1\" class=\"dataframe\">\n",
              "  <thead>\n",
              "    <tr style=\"text-align: right;\">\n",
              "      <th></th>\n",
              "      <th>sepal length (cm)</th>\n",
              "      <th>sepal width (cm)</th>\n",
              "      <th>petal width (cm)</th>\n",
              "      <th>Class</th>\n",
              "    </tr>\n",
              "  </thead>\n",
              "  <tbody>\n",
              "    <tr>\n",
              "      <th>0</th>\n",
              "      <td>5.1</td>\n",
              "      <td>3.5000</td>\n",
              "      <td>0.2</td>\n",
              "      <td>Iris-Setosa</td>\n",
              "    </tr>\n",
              "    <tr>\n",
              "      <th>1</th>\n",
              "      <td>4.9</td>\n",
              "      <td>3.0000</td>\n",
              "      <td>0.2</td>\n",
              "      <td>Iris-Setosa</td>\n",
              "    </tr>\n",
              "    <tr>\n",
              "      <th>2</th>\n",
              "      <td>4.7</td>\n",
              "      <td>3.2000</td>\n",
              "      <td>0.2</td>\n",
              "      <td>Iris-Setosa</td>\n",
              "    </tr>\n",
              "    <tr>\n",
              "      <th>3</th>\n",
              "      <td>4.6</td>\n",
              "      <td>3.1000</td>\n",
              "      <td>0.2</td>\n",
              "      <td>Iris-Setosa</td>\n",
              "    </tr>\n",
              "    <tr>\n",
              "      <th>4</th>\n",
              "      <td>5.0</td>\n",
              "      <td>3.0575</td>\n",
              "      <td>0.2</td>\n",
              "      <td>Iris-Setosa</td>\n",
              "    </tr>\n",
              "    <tr>\n",
              "      <th>...</th>\n",
              "      <td>...</td>\n",
              "      <td>...</td>\n",
              "      <td>...</td>\n",
              "      <td>...</td>\n",
              "    </tr>\n",
              "    <tr>\n",
              "      <th>145</th>\n",
              "      <td>6.7</td>\n",
              "      <td>3.0000</td>\n",
              "      <td>2.3</td>\n",
              "      <td>Iris-Virginica</td>\n",
              "    </tr>\n",
              "    <tr>\n",
              "      <th>146</th>\n",
              "      <td>6.3</td>\n",
              "      <td>2.5000</td>\n",
              "      <td>1.9</td>\n",
              "      <td>Iris-Virginica</td>\n",
              "    </tr>\n",
              "    <tr>\n",
              "      <th>147</th>\n",
              "      <td>6.5</td>\n",
              "      <td>3.0000</td>\n",
              "      <td>2.0</td>\n",
              "      <td>Iris-Virginica</td>\n",
              "    </tr>\n",
              "    <tr>\n",
              "      <th>148</th>\n",
              "      <td>6.2</td>\n",
              "      <td>3.0575</td>\n",
              "      <td>2.3</td>\n",
              "      <td>Iris-Virginica</td>\n",
              "    </tr>\n",
              "    <tr>\n",
              "      <th>149</th>\n",
              "      <td>5.9</td>\n",
              "      <td>3.0000</td>\n",
              "      <td>1.8</td>\n",
              "      <td>Iris-Virginica</td>\n",
              "    </tr>\n",
              "  </tbody>\n",
              "</table>\n",
              "<p>150 rows × 4 columns</p>\n",
              "</div>"
            ],
            "text/plain": [
              "     sepal length (cm)  sepal width (cm)  petal width (cm)           Class\n",
              "0                  5.1            3.5000               0.2     Iris-Setosa\n",
              "1                  4.9            3.0000               0.2     Iris-Setosa\n",
              "2                  4.7            3.2000               0.2     Iris-Setosa\n",
              "3                  4.6            3.1000               0.2     Iris-Setosa\n",
              "4                  5.0            3.0575               0.2     Iris-Setosa\n",
              "..                 ...               ...               ...             ...\n",
              "145                6.7            3.0000               2.3  Iris-Virginica\n",
              "146                6.3            2.5000               1.9  Iris-Virginica\n",
              "147                6.5            3.0000               2.0  Iris-Virginica\n",
              "148                6.2            3.0575               2.3  Iris-Virginica\n",
              "149                5.9            3.0000               1.8  Iris-Virginica\n",
              "\n",
              "[150 rows x 4 columns]"
            ]
          },
          "metadata": {
            "tags": []
          },
          "execution_count": 6
        }
      ]
    },
    {
      "cell_type": "code",
      "metadata": {
        "id": "bNMmNJUyd70r",
        "colab": {
          "base_uri": "https://localhost:8080/",
          "height": 260
        },
        "outputId": "aae2b3a4-8e1c-4ded-8fe3-f5a0b99d3dbe"
      },
      "source": [
        "iris.info "
      ],
      "execution_count": null,
      "outputs": [
        {
          "output_type": "execute_result",
          "data": {
            "text/plain": [
              "<bound method DataFrame.info of      sepal length (cm)  sepal width (cm)  ...  petal width (cm)           Class\n",
              "0                  5.1            3.5000  ...               0.2     Iris-Setosa\n",
              "1                  4.9            3.0000  ...               0.2     Iris-Setosa\n",
              "2                  4.7            3.2000  ...               0.2     Iris-Setosa\n",
              "3                  4.6            3.1000  ...               0.2     Iris-Setosa\n",
              "4                  5.0            3.0575  ...               0.2     Iris-Setosa\n",
              "..                 ...               ...  ...               ...             ...\n",
              "145                6.7            3.0000  ...               2.3  Iris-Virginica\n",
              "146                6.3            2.5000  ...               1.9  Iris-Virginica\n",
              "147                6.5            3.0000  ...               2.0  Iris-Virginica\n",
              "148                6.2            3.0575  ...               2.3  Iris-Virginica\n",
              "149                5.9            3.0000  ...               1.8  Iris-Virginica\n",
              "\n",
              "[150 rows x 5 columns]>"
            ]
          },
          "metadata": {
            "tags": []
          },
          "execution_count": 16
        }
      ]
    },
    {
      "cell_type": "code",
      "metadata": {
        "id": "5Usva3lUd7bZ",
        "colab": {
          "base_uri": "https://localhost:8080/"
        },
        "outputId": "1a99bf2d-8bbf-47fb-ab92-c8f2d4b89d9f"
      },
      "source": [
        "from sklearn.preprocessing import LabelEncoder\n",
        "le=LabelEncoder()\n",
        "iris['Class']=le.fit_transform(iris['Class'])\n",
        "print(iris.head())\n",
        "print(iris['Class'].unique())"
      ],
      "execution_count": null,
      "outputs": [
        {
          "output_type": "stream",
          "text": [
            "   sepal length (cm)  sepal width (cm)  petal width (cm)  Class\n",
            "0                5.1            3.5000               0.2      0\n",
            "1                4.9            3.0000               0.2      0\n",
            "2                4.7            3.2000               0.2      0\n",
            "3                4.6            3.1000               0.2      0\n",
            "4                5.0            3.0575               0.2      0\n",
            "[0 1 2]\n"
          ],
          "name": "stdout"
        }
      ]
    },
    {
      "cell_type": "code",
      "metadata": {
        "id": "yz6lQJq2d7Yk"
      },
      "source": [
        "iris.count"
      ],
      "execution_count": null,
      "outputs": []
    },
    {
      "cell_type": "code",
      "metadata": {
        "id": "r4qRBPxskbc4",
        "colab": {
          "base_uri": "https://localhost:8080/",
          "height": 863
        },
        "outputId": "53231557-31a4-4dd6-ebb2-8e3328e1ee73"
      },
      "source": [
        "import matplotlib.pyplot as plt\n",
        "iris.boxplot(figsize=(10,15))\n",
        "plt.show()"
      ],
      "execution_count": null,
      "outputs": [
        {
          "output_type": "display_data",
          "data": {
            "image/png": "[encoded data removed]",
            "text/plain": [
              "<Figure size 720x1080 with 1 Axes>"
            ]
          },
          "metadata": {
            "tags": [],
            "needs_background": "light"
          }
        }
      ]
    },
    {
      "cell_type": "code",
      "metadata": {
        "id": "k5gFoxOmkb5x"
      },
      "source": [
        "q1 = iris['sepal width (cm)'].quantile(.25)\n",
        "q3 = iris['sepal width (cm)'].quantile(.75)\n",
        "IQR = q3-q1\n",
        "iris['sepal width (cm)'] = np.clip(iris['sepal width (cm)'],q1-1.5*IQR, q3+1.5*IQR)"
      ],
      "execution_count": null,
      "outputs": []
    },
    {
      "cell_type": "code",
      "metadata": {
        "id": "HlnlOiyvkcFc",
        "colab": {
          "base_uri": "https://localhost:8080/",
          "height": 265
        },
        "outputId": "97598ae2-af03-49c9-bb27-faf95266554e"
      },
      "source": [
        "iris.boxplot()\n",
        "plt.show()"
      ],
      "execution_count": null,
      "outputs": [
        {
          "output_type": "display_data",
          "data": {
            "image/png": "[encoded data removed]",
            "text/plain": [
              "<Figure size 432x288 with 1 Axes>"
            ]
          },
          "metadata": {
            "tags": [],
            "needs_background": "light"
          }
        }
      ]
    },
    {
      "cell_type": "code",
      "metadata": {
        "id": "IaQM_GKgkcB7"
      },
      "source": [
        "import seaborn as sns\n",
        "correlation = df.corr()\n",
        "sns.heatmap(correlation, annot = True)"
      ],
      "execution_count": null,
      "outputs": []
    },
    {
      "cell_type": "code",
      "metadata": {
        "id": "furleUnfkb2A"
      },
      "source": [
        "import seaborn as sns\n",
        "correlation= iris.corr()\n",
        "correlation"
      ],
      "execution_count": null,
      "outputs": []
    },
    {
      "cell_type": "code",
      "metadata": {
        "id": "r9RFtKEDkbj_"
      },
      "source": [
        "sns.heatmap(correlation, annot=True)"
      ],
      "execution_count": null,
      "outputs": []
    },
    {
      "cell_type": "code",
      "metadata": {
        "id": "cwohpqRFkbTH"
      },
      "source": [
        "X=iris.drop(['Class'],axis=1)\n",
        "Y=iris['Class']"
      ],
      "execution_count": null,
      "outputs": []
    },
    {
      "cell_type": "code",
      "metadata": {
        "id": "JivX2Zz9sAZs",
        "colab": {
          "base_uri": "https://localhost:8080/"
        },
        "outputId": "44293376-5fdf-4f77-f614-d0df3521ecde"
      },
      "source": [
        "print(\"Input for my ML model: \\n\",X.head())\n",
        "print(\"Output for my ML model : \\n\", Y.head())"
      ],
      "execution_count": null,
      "outputs": [
        {
          "output_type": "stream",
          "text": [
            "Input for my ML model: \n",
            "    sepal length (cm)  sepal width (cm)  petal width (cm)\n",
            "0                5.1            3.5000               0.2\n",
            "1                4.9            3.0000               0.2\n",
            "2                4.7            3.2000               0.2\n",
            "3                4.6            3.1000               0.2\n",
            "4                5.0            3.0575               0.2\n",
            "Output for my ML model : \n",
            " 0    0\n",
            "1    0\n",
            "2    0\n",
            "3    0\n",
            "4    0\n",
            "Name: Class, dtype: int64\n"
          ],
          "name": "stdout"
        }
      ]
    },
    {
      "cell_type": "code",
      "metadata": {
        "id": "wIKm2oEXsAuh"
      },
      "source": [
        "from sklearn.model_selection import train_test_split\n",
        "X_train, X_test, Y_train, Y_test= train_test_split(X,Y,test_size=0.25,random_state=7)"
      ],
      "execution_count": null,
      "outputs": []
    },
    {
      "cell_type": "code",
      "metadata": {
        "id": "-hYPTQv1scXx"
      },
      "source": [
        "#call the model\n",
        "from sklearn.linear_model import LogisticRegression\n",
        "lr_model= LogisticRegression()"
      ],
      "execution_count": null,
      "outputs": []
    },
    {
      "cell_type": "code",
      "metadata": {
        "id": "bcjU--aHsAkK"
      },
      "source": [
        "#Fit the model\n",
        "clf = lr_model.fit(X_train, Y_train)"
      ],
      "execution_count": null,
      "outputs": []
    },
    {
      "cell_type": "code",
      "metadata": {
        "id": "EunPCzjesAhc",
        "colab": {
          "base_uri": "https://localhost:8080/",
          "height": 260
        },
        "outputId": "6f979676-5ae8-49b5-947f-966e113d8129"
      },
      "source": [
        "X.info"
      ],
      "execution_count": null,
      "outputs": [
        {
          "output_type": "execute_result",
          "data": {
            "text/plain": [
              "<bound method DataFrame.info of      sepal length (cm)  sepal width (cm)  petal length (cm)  petal width (cm)\n",
              "0                  5.1            3.5000                1.4               0.2\n",
              "1                  4.9            3.0000                1.4               0.2\n",
              "2                  4.7            3.2000                1.3               0.2\n",
              "3                  4.6            3.1000                1.5               0.2\n",
              "4                  5.0            3.0575                1.4               0.2\n",
              "..                 ...               ...                ...               ...\n",
              "145                6.7            3.0000                NaN               2.3\n",
              "146                6.3            2.5000                5.0               1.9\n",
              "147                6.5            3.0000                5.2               2.0\n",
              "148                6.2            3.0575                5.4               2.3\n",
              "149                5.9            3.0000                NaN               1.8\n",
              "\n",
              "[150 rows x 4 columns]>"
            ]
          },
          "metadata": {
            "tags": []
          },
          "execution_count": 33
        }
      ]
    },
    {
      "cell_type": "code",
      "metadata": {
        "id": "XuGVhuaBzmZu",
        "colab": {
          "base_uri": "https://localhost:8080/",
          "height": 225
        },
        "outputId": "5ae9ab19-d221-45cd-ef6f-1b4c516da8f0"
      },
      "source": [
        "X['sepal width (cm)']"
      ],
      "execution_count": null,
      "outputs": [
        {
          "output_type": "execute_result",
          "data": {
            "text/plain": [
              "0      3.5000\n",
              "1      3.0000\n",
              "2      3.2000\n",
              "3      3.1000\n",
              "4      3.0575\n",
              "        ...  \n",
              "145    3.0000\n",
              "146    2.5000\n",
              "147    3.0000\n",
              "148    3.0575\n",
              "149    3.0000\n",
              "Name: sepal width (cm), Length: 150, dtype: float64"
            ]
          },
          "metadata": {
            "tags": []
          },
          "execution_count": 49
        }
      ]
    },
    {
      "cell_type": "code",
      "metadata": {
        "id": "ODgeDlv_sAV3",
        "colab": {
          "base_uri": "https://localhost:8080/"
        },
        "outputId": "6d8f816e-d4dc-4ef2-ee90-4862eee6e384"
      },
      "source": [
        "#Use the fitted model for prediction on test dataset\n",
        "y_predicted = clf.predict(X_test)\n",
        "print(y_predicted)"
      ],
      "execution_count": null,
      "outputs": [
        {
          "output_type": "stream",
          "text": [
            "[2 1 0 1 1 0 2 1 0 1 2 1 0 2 0 2 2 2 0 0 1 2 1 1 2 2 1 1 2 2 2 1 0 2 1 0 0\n",
            " 0]\n"
          ],
          "name": "stdout"
        }
      ]
    },
    {
      "cell_type": "code",
      "metadata": {
        "id": "e3HFIq6EIi64",
        "colab": {
          "base_uri": "https://localhost:8080/"
        },
        "outputId": "051ad89b-8578-46ef-9043-8752e2113092"
      },
      "source": [
        "from sklearn.metrics import confusion_matrix,classification_report\n",
        "print(confusion_matrix(Y_test,y_predicted))\n",
        "print(classification_report(Y_test,y_predicted))"
      ],
      "execution_count": null,
      "outputs": [
        {
          "output_type": "stream",
          "text": [
            "[[11  0  0]\n",
            " [ 0 11  3]\n",
            " [ 0  2 11]]\n",
            "              precision    recall  f1-score   support\n",
            "\n",
            "           0       1.00      1.00      1.00        11\n",
            "           1       0.85      0.79      0.81        14\n",
            "           2       0.79      0.85      0.81        13\n",
            "\n",
            "    accuracy                           0.87        38\n",
            "   macro avg       0.88      0.88      0.88        38\n",
            "weighted avg       0.87      0.87      0.87        38\n",
            "\n"
          ],
          "name": "stdout"
        }
      ]
    },
    {
      "cell_type": "code",
      "metadata": {
        "id": "qWIksJ4Oh0kK"
      },
      "source": [
        ""
      ],
      "execution_count": null,
      "outputs": []
    },
    {
      "cell_type": "code",
      "metadata": {
        "id": "OQYR1y3zfobU"
      },
      "source": [
        "#call the model\n",
        "from sklearn.tree import DecisionTreeClassifier\n",
        "dt_model= DecisionTreeClassifier(criterion=\"gini\", max_depth=3, random_state=0)"
      ],
      "execution_count": null,
      "outputs": []
    },
    {
      "cell_type": "code",
      "metadata": {
        "id": "ZCdQXhnLpOGP"
      },
      "source": [
        "#fit the model\n",
        "clf = dt_model.fit(X, Y)"
      ],
      "execution_count": null,
      "outputs": []
    },
    {
      "cell_type": "code",
      "metadata": {
        "id": "3Nwk4z5ZpOR8",
        "colab": {
          "base_uri": "https://localhost:8080/"
        },
        "outputId": "fd7eee6b-3582-4c49-8c42-16bcc6db3c1c"
      },
      "source": [
        "#Use the fitted model for prediction on test dataset\n",
        "y_predicted = clf.predict(X)\n",
        "print(y_predicted)"
      ],
      "execution_count": null,
      "outputs": [
        {
          "output_type": "stream",
          "text": [
            "[0 0 0 0 0 0 0 0 0 0 0 0 0 0 0 0 0 0 0 0 0 0 0 0 0 0 0 0 0 0 0 0 0 0 0 0 0\n",
            " 0 0 0 0 0 0 0 0 0 0 0 0 0 1 1 1 1 1 1 1 1 1 1 1 1 1 1 1 1 1 1 1 1 2 1 1 1\n",
            " 1 1 1 1 1 1 1 1 1 1 1 1 1 1 1 1 1 1 1 1 1 1 1 1 1 1 2 2 2 2 2 2 1 2 2 2 2\n",
            " 2 2 2 2 2 2 2 2 1 2 2 2 2 2 2 2 2 2 2 2 2 2 1 1 2 2 2 2 2 2 2 2 2 2 2 2 2\n",
            " 2 2]\n"
          ],
          "name": "stdout"
        }
      ]
    },
    {
      "cell_type": "code",
      "metadata": {
        "id": "deg9SBhBpOOe",
        "colab": {
          "base_uri": "https://localhost:8080/"
        },
        "outputId": "49ec915b-1210-4c1b-9fdb-0874b610b527"
      },
      "source": [
        "from sklearn.metrics import confusion_matrix,classification_report\n",
        "print(confusion_matrix(Y,y_predicted))\n",
        "print(classification_report(Y,y_predicted))"
      ],
      "execution_count": null,
      "outputs": [
        {
          "output_type": "stream",
          "text": [
            "[[50  0  0]\n",
            " [ 0 49  1]\n",
            " [ 0  4 46]]\n",
            "              precision    recall  f1-score   support\n",
            "\n",
            "           0       1.00      1.00      1.00        50\n",
            "           1       0.92      0.98      0.95        50\n",
            "           2       0.98      0.92      0.95        50\n",
            "\n",
            "    accuracy                           0.97       150\n",
            "   macro avg       0.97      0.97      0.97       150\n",
            "weighted avg       0.97      0.97      0.97       150\n",
            "\n"
          ],
          "name": "stdout"
        }
      ]
    },
    {
      "cell_type": "code",
      "metadata": {
        "id": "GBK0VKJAgbFo"
      },
      "source": [
        "from sklearn.metrics import accuracy_score\n",
        "from sklearn.metrics import f1_score\n",
        "from sklearn.metrics import recall_score\n",
        "from sklearn.metrics import precision_score\n",
        "from sklearn.model_selection import cross_val_score"
      ],
      "execution_count": null,
      "outputs": []
    },
    {
      "cell_type": "code",
      "metadata": {
        "id": "D9Ndj-E8e8jo",
        "colab": {
          "base_uri": "https://localhost:8080/"
        },
        "outputId": "60e54d59-0144-4cdc-94dc-3450d96f0593"
      },
      "source": [
        "print('Accuracy:', accuracy_score(Y, y_predicted))\n",
        "print('f1_score:', f1_score(Y, y_predicted,pos_label='positive',average='micro'))\n",
        "print('recall_score:', recall_score(Y, y_predicted,pos_label='positive',average='micro'))\n",
        "print('precision_score:', precision_score(Y, y_predicted,pos_label='positive',average='micro'))"
      ],
      "execution_count": null,
      "outputs": [
        {
          "output_type": "stream",
          "text": [
            "Accuracy: 0.9666666666666667\n",
            "f1_score: 0.9666666666666667\n",
            "recall_score: 0.9666666666666667\n",
            "precision_score: 0.9666666666666667\n"
          ],
          "name": "stdout"
        },
        {
          "output_type": "stream",
          "text": [
            "/usr/local/lib/python3.6/dist-packages/sklearn/metrics/_classification.py:1321: UserWarning: Note that pos_label (set to 'positive') is ignored when average != 'binary' (got 'micro'). You may use labels=[pos_label] to specify a single positive class.\n",
            "  % (pos_label, average), UserWarning)\n"
          ],
          "name": "stderr"
        }
      ]
    },
    {
      "cell_type": "code",
      "metadata": {
        "id": "XGwOVzNxIivV"
      },
      "source": [
        "#importing necessary packages\n",
        "import pandas as pd\n",
        "import sklearn.datasets as datasets\n",
        "from sklearn.tree import DecisionTreeClassifier\n",
        "from sklearn.externals.six import StringIO  \n",
        "from IPython.display import Image  \n",
        "from sklearn.tree import export_graphviz\n",
        "import pydotplus\n",
        "import graphviz\n",
        "from sklearn import tree"
      ],
      "execution_count": null,
      "outputs": []
    },
    {
      "cell_type": "code",
      "metadata": {
        "id": "Viqr-pGuhia5",
        "colab": {
          "base_uri": "https://localhost:8080/",
          "height": 498
        },
        "outputId": "a0599f27-6442-44ed-e9fa-c34371e640ab"
      },
      "source": [
        "from IPython.display import Image  \n",
        "dot_data = tree.export_graphviz(clf, out_file=None, \n",
        "                         feature_names=None,  \n",
        "                         class_names=None,  \n",
        "                         filled=True, rounded=True,  \n",
        "                         special_characters=True)  \n",
        "graph = pydotplus.graph_from_dot_data(dot_data)  \n",
        "Image(graph.create_png())"
      ],
      "execution_count": null,
      "outputs": [
        {
          "output_type": "execute_result",
          "data": {
            "image/png": "[encoded data removed]",
            "text/plain": [
              "<IPython.core.display.Image object>"
            ]
          },
          "metadata": {
            "tags": []
          },
          "execution_count": 33
        }
      ]
    },
    {
      "cell_type": "code",
      "metadata": {
        "id": "xsxArqfmhiil"
      },
      "source": [
        ""
      ],
      "execution_count": null,
      "outputs": []
    },
    {
      "cell_type": "code",
      "metadata": {
        "id": "ue1RJylRhiSM"
      },
      "source": [
        ""
      ],
      "execution_count": null,
      "outputs": []
    }
  ]
}