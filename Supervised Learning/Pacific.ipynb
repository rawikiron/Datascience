{
  "nbformat": 4,
  "nbformat_minor": 0,
  "metadata": {
    "colab": {
      "name": "Pacific.ipynb",
      "provenance": []
    },
    "kernelspec": {
      "name": "python3",
      "display_name": "Python 3"
    }
  },
  "cells": [
    {
      "cell_type": "code",
      "metadata": {
        "id": "fBAbzjK3TF78"
      },
      "source": [
        "import pandas as pd\n",
        "import numpy as np\n",
        "import matplotlib.pyplot as plt\n",
        "from sklearn.metrics import accuracy_score\n",
        "from sklearn.metrics import f1_score\n",
        "from sklearn.metrics import recall_score\n",
        "from sklearn.metrics import precision_score\n",
        "from sklearn.model_selection import cross_val_score"
      ],
      "execution_count": null,
      "outputs": []
    },
    {
      "cell_type": "code",
      "metadata": {
        "id": "lNNbImMgTtTr"
      },
      "source": [
        "pacific= pd.read_csv('/content/drive/My Drive/pacific.csv')"
      ],
      "execution_count": null,
      "outputs": []
    },
    {
      "cell_type": "code",
      "metadata": {
        "id": "2k0dj2ZLT9FN",
        "colab": {
          "base_uri": "https://localhost:8080/"
        },
        "outputId": "0e75f1fe-efa0-44d7-9b12-01f7555e08c5"
      },
      "source": [
        "pacific.shape"
      ],
      "execution_count": null,
      "outputs": [
        {
          "output_type": "execute_result",
          "data": {
            "text/plain": [
              "(26137, 22)"
            ]
          },
          "metadata": {
            "tags": []
          },
          "execution_count": 5
        }
      ]
    },
    {
      "cell_type": "code",
      "metadata": {
        "id": "W5K4VDwQT9CA"
      },
      "source": [
        "pacific.describe()"
      ],
      "execution_count": null,
      "outputs": []
    },
    {
      "cell_type": "code",
      "metadata": {
        "id": "NJI_FzSoT8-Y",
        "colab": {
          "base_uri": "https://localhost:8080/",
          "height": 257
        },
        "outputId": "202fdb48-d061-4f21-c71d-f860c557e2dd"
      },
      "source": [
        "pacific.head()"
      ],
      "execution_count": null,
      "outputs": [
        {
          "output_type": "execute_result",
          "data": {
            "text/html": [
              "<div>\n",
              "<style scoped>\n",
              "    .dataframe tbody tr th:only-of-type {\n",
              "        vertical-align: middle;\n",
              "    }\n",
              "\n",
              "    .dataframe tbody tr th {\n",
              "        vertical-align: top;\n",
              "    }\n",
              "\n",
              "    .dataframe thead th {\n",
              "        text-align: right;\n",
              "    }\n",
              "</style>\n",
              "<table border=\"1\" class=\"dataframe\">\n",
              "  <thead>\n",
              "    <tr style=\"text-align: right;\">\n",
              "      <th></th>\n",
              "      <th>ID</th>\n",
              "      <th>Name</th>\n",
              "      <th>Date</th>\n",
              "      <th>Time</th>\n",
              "      <th>Event</th>\n",
              "      <th>Status</th>\n",
              "      <th>Latitude</th>\n",
              "      <th>Longitude</th>\n",
              "      <th>Maximum Wind</th>\n",
              "      <th>Minimum Pressure</th>\n",
              "      <th>Low Wind NE</th>\n",
              "      <th>Low Wind SE</th>\n",
              "      <th>Low Wind SW</th>\n",
              "      <th>Low Wind NW</th>\n",
              "      <th>Moderate Wind NE</th>\n",
              "      <th>Moderate Wind SE</th>\n",
              "      <th>Moderate Wind SW</th>\n",
              "      <th>Moderate Wind NW</th>\n",
              "      <th>High Wind NE</th>\n",
              "      <th>High Wind SE</th>\n",
              "      <th>High Wind SW</th>\n",
              "      <th>High Wind NW</th>\n",
              "    </tr>\n",
              "  </thead>\n",
              "  <tbody>\n",
              "    <tr>\n",
              "      <th>0</th>\n",
              "      <td>EP011949</td>\n",
              "      <td>UNNAMED</td>\n",
              "      <td>19490611</td>\n",
              "      <td>0</td>\n",
              "      <td></td>\n",
              "      <td>TS</td>\n",
              "      <td>20.2N</td>\n",
              "      <td>106.3W</td>\n",
              "      <td>45</td>\n",
              "      <td>-999</td>\n",
              "      <td>-999</td>\n",
              "      <td>-999</td>\n",
              "      <td>-999</td>\n",
              "      <td>-999</td>\n",
              "      <td>-999</td>\n",
              "      <td>-999</td>\n",
              "      <td>-999</td>\n",
              "      <td>-999</td>\n",
              "      <td>-999</td>\n",
              "      <td>-999</td>\n",
              "      <td>-999</td>\n",
              "      <td>-999</td>\n",
              "    </tr>\n",
              "    <tr>\n",
              "      <th>1</th>\n",
              "      <td>EP011949</td>\n",
              "      <td>UNNAMED</td>\n",
              "      <td>19490611</td>\n",
              "      <td>600</td>\n",
              "      <td></td>\n",
              "      <td>TS</td>\n",
              "      <td>20.2N</td>\n",
              "      <td>106.4W</td>\n",
              "      <td>45</td>\n",
              "      <td>-999</td>\n",
              "      <td>-999</td>\n",
              "      <td>-999</td>\n",
              "      <td>-999</td>\n",
              "      <td>-999</td>\n",
              "      <td>-999</td>\n",
              "      <td>-999</td>\n",
              "      <td>-999</td>\n",
              "      <td>-999</td>\n",
              "      <td>-999</td>\n",
              "      <td>-999</td>\n",
              "      <td>-999</td>\n",
              "      <td>-999</td>\n",
              "    </tr>\n",
              "    <tr>\n",
              "      <th>2</th>\n",
              "      <td>EP011949</td>\n",
              "      <td>UNNAMED</td>\n",
              "      <td>19490611</td>\n",
              "      <td>1200</td>\n",
              "      <td></td>\n",
              "      <td>TS</td>\n",
              "      <td>20.2N</td>\n",
              "      <td>106.7W</td>\n",
              "      <td>45</td>\n",
              "      <td>-999</td>\n",
              "      <td>-999</td>\n",
              "      <td>-999</td>\n",
              "      <td>-999</td>\n",
              "      <td>-999</td>\n",
              "      <td>-999</td>\n",
              "      <td>-999</td>\n",
              "      <td>-999</td>\n",
              "      <td>-999</td>\n",
              "      <td>-999</td>\n",
              "      <td>-999</td>\n",
              "      <td>-999</td>\n",
              "      <td>-999</td>\n",
              "    </tr>\n",
              "    <tr>\n",
              "      <th>3</th>\n",
              "      <td>EP011949</td>\n",
              "      <td>UNNAMED</td>\n",
              "      <td>19490611</td>\n",
              "      <td>1800</td>\n",
              "      <td></td>\n",
              "      <td>TS</td>\n",
              "      <td>20.3N</td>\n",
              "      <td>107.7W</td>\n",
              "      <td>45</td>\n",
              "      <td>-999</td>\n",
              "      <td>-999</td>\n",
              "      <td>-999</td>\n",
              "      <td>-999</td>\n",
              "      <td>-999</td>\n",
              "      <td>-999</td>\n",
              "      <td>-999</td>\n",
              "      <td>-999</td>\n",
              "      <td>-999</td>\n",
              "      <td>-999</td>\n",
              "      <td>-999</td>\n",
              "      <td>-999</td>\n",
              "      <td>-999</td>\n",
              "    </tr>\n",
              "    <tr>\n",
              "      <th>4</th>\n",
              "      <td>EP011949</td>\n",
              "      <td>UNNAMED</td>\n",
              "      <td>19490612</td>\n",
              "      <td>0</td>\n",
              "      <td></td>\n",
              "      <td>TS</td>\n",
              "      <td>20.4N</td>\n",
              "      <td>108.6W</td>\n",
              "      <td>45</td>\n",
              "      <td>-999</td>\n",
              "      <td>-999</td>\n",
              "      <td>-999</td>\n",
              "      <td>-999</td>\n",
              "      <td>-999</td>\n",
              "      <td>-999</td>\n",
              "      <td>-999</td>\n",
              "      <td>-999</td>\n",
              "      <td>-999</td>\n",
              "      <td>-999</td>\n",
              "      <td>-999</td>\n",
              "      <td>-999</td>\n",
              "      <td>-999</td>\n",
              "    </tr>\n",
              "  </tbody>\n",
              "</table>\n",
              "</div>"
            ],
            "text/plain": [
              "         ID                 Name  ...  High Wind SW  High Wind NW\n",
              "0  EP011949              UNNAMED  ...          -999          -999\n",
              "1  EP011949              UNNAMED  ...          -999          -999\n",
              "2  EP011949              UNNAMED  ...          -999          -999\n",
              "3  EP011949              UNNAMED  ...          -999          -999\n",
              "4  EP011949              UNNAMED  ...          -999          -999\n",
              "\n",
              "[5 rows x 22 columns]"
            ]
          },
          "metadata": {
            "tags": []
          },
          "execution_count": 8
        }
      ]
    },
    {
      "cell_type": "code",
      "metadata": {
        "id": "iY192okwT866",
        "colab": {
          "base_uri": "https://localhost:8080/"
        },
        "outputId": "4096e73f-2ad9-4746-8941-d9abdc7bdb86"
      },
      "source": [
        "pacific.info()"
      ],
      "execution_count": null,
      "outputs": [
        {
          "output_type": "stream",
          "text": [
            "<class 'pandas.core.frame.DataFrame'>\n",
            "RangeIndex: 26137 entries, 0 to 26136\n",
            "Data columns (total 22 columns):\n",
            " #   Column            Non-Null Count  Dtype \n",
            "---  ------            --------------  ----- \n",
            " 0   ID                26137 non-null  object\n",
            " 1   Name              26137 non-null  object\n",
            " 2   Date              26137 non-null  int64 \n",
            " 3   Time              26137 non-null  int64 \n",
            " 4   Event             26137 non-null  object\n",
            " 5   Status            26137 non-null  object\n",
            " 6   Latitude          26137 non-null  object\n",
            " 7   Longitude         26137 non-null  object\n",
            " 8   Maximum Wind      26137 non-null  int64 \n",
            " 9   Minimum Pressure  26137 non-null  int64 \n",
            " 10  Low Wind NE       26137 non-null  int64 \n",
            " 11  Low Wind SE       26137 non-null  int64 \n",
            " 12  Low Wind SW       26137 non-null  int64 \n",
            " 13  Low Wind NW       26137 non-null  int64 \n",
            " 14  Moderate Wind NE  26137 non-null  int64 \n",
            " 15  Moderate Wind SE  26137 non-null  int64 \n",
            " 16  Moderate Wind SW  26137 non-null  int64 \n",
            " 17  Moderate Wind NW  26137 non-null  int64 \n",
            " 18  High Wind NE      26137 non-null  int64 \n",
            " 19  High Wind SE      26137 non-null  int64 \n",
            " 20  High Wind SW      26137 non-null  int64 \n",
            " 21  High Wind NW      26137 non-null  int64 \n",
            "dtypes: int64(16), object(6)\n",
            "memory usage: 4.4+ MB\n"
          ],
          "name": "stdout"
        }
      ]
    },
    {
      "cell_type": "code",
      "metadata": {
        "id": "D2AbtU1AT83i",
        "colab": {
          "base_uri": "https://localhost:8080/"
        },
        "outputId": "1191e108-008e-4a21-da7d-18a6cf384ba8"
      },
      "source": [
        "pacific.value_counts(['Name'])"
      ],
      "execution_count": null,
      "outputs": [
        {
          "output_type": "execute_result",
          "data": {
            "text/plain": [
              "Name               \n",
              "            UNNAMED    2180\n",
              "           FERNANDA     318\n",
              "               JOHN     295\n",
              "            ESTELLE     293\n",
              "             DANIEL     292\n",
              "                       ... \n",
              "               WENE       6\n",
              "              PILAR       5\n",
              "IONE 1                    5\n",
              "               MOKE       4\n",
              "             TWENTY       3\n",
              "Length: 267, dtype: int64"
            ]
          },
          "metadata": {
            "tags": []
          },
          "execution_count": 11
        }
      ]
    },
    {
      "cell_type": "code",
      "metadata": {
        "id": "u7NWQLdHT8uX"
      },
      "source": [
        "pacific.isnull().sum()"
      ],
      "execution_count": null,
      "outputs": []
    },
    {
      "cell_type": "code",
      "metadata": {
        "id": "hw4Z_Qp6VPOB"
      },
      "source": [
        "pacific.boxplot(figsize=(10,15))\n",
        "plt.show()"
      ],
      "execution_count": null,
      "outputs": []
    },
    {
      "cell_type": "code",
      "metadata": {
        "id": "61yLLTgbVPHo"
      },
      "source": [
        "q1 = pacific['Low Wind NE'].quantile(.25)\n",
        "q3 = pacific['Low Wind NE'].quantile(.75)\n",
        "IQR = q3-q1\n",
        "pacific['Low Wind NE'] = np.clip(pacific['Low Wind NE'],q1-1.5*IQR, q3+1.5*IQR)\n",
        "\n",
        "q1 = pacific['Maximum Wind'].quantile(.25)\n",
        "q3 = pacific['Maximum Wind'].quantile(.75)\n",
        "IQR = q3-q1\n",
        "pacific['Maximum Wind'] = np.clip(pacific['Maximum Wind'],q1-1.5*IQR, q3+1.5*IQR)\n",
        "\n",
        "q1 = pacific['Low Wind NE'].quantile(.25)\n",
        "q3 = pacific['Low Wind NE'].quantile(.75)\n",
        "IQR = q3-q1\n",
        "pacific['Low Wind NE'] = np.clip(pacific['Low Wind NE'],q1-1.5*IQR, q3+1.5*IQR)\n",
        "\n",
        "q1 = pacific['Maximum Wind'].quantile(.25)\n",
        "q3 = pacific['Maximum Wind'].quantile(.75)\n",
        "IQR = q3-q1\n",
        "pacific['Maximum Wind'] = np.clip(pacific['Maximum Wind'],q1-1.5*IQR, q3+1.5*IQR)\n",
        "\n",
        "q1 = pacific['Low Wind NE'].quantile(.25)\n",
        "q3 = pacific['Low Wind NE'].quantile(.75)\n",
        "IQR = q3-q1\n",
        "pacific['Low Wind NE'] = np.clip(pacific['Low Wind NE'],q1-1.5*IQR, q3+1.5*IQR)\n",
        "\n",
        "q1 = pacific['Low Wind SE'].quantile(.25)\n",
        "q3 = pacific['Low Wind SE'].quantile(.75)\n",
        "IQR = q3-q1\n",
        "pacific['Low Wind SE'] = np.clip(pacific['Low Wind SE'],q1-1.5*IQR, q3+1.5*IQR)\n",
        "\n",
        "q1 = pacific['Low Wind SW'].quantile(.25)\n",
        "q3 = pacific['Low Wind SW'].quantile(.75)\n",
        "IQR = q3-q1\n",
        "pacific['Low Wind SW'] = np.clip(pacific['Low Wind SW'],q1-1.5*IQR, q3+1.5*IQR)\n",
        "\n",
        "\n",
        "q1 = pacific['Low Wind NW'].quantile(.25)\n",
        "q3 = pacific['Low Wind NW'].quantile(.75)\n",
        "IQR = q3-q1\n",
        "pacific['Low Wind NW'] = np.clip(pacific['Low Wind NW'],q1-1.5*IQR, q3+1.5*IQR)\n",
        "\n",
        "q1 = pacific['Moderate Wind NE'].quantile(.25)\n",
        "q3 = pacific['Moderate Wind NE'].quantile(.75)\n",
        "IQR = q3-q1\n",
        "pacific['Moderate Wind NE'] = np.clip(pacific['Moderate Wind NE'],q1-1.5*IQR, q3+1.5*IQR)\n",
        "\n",
        "q1 = pacific['Moderate Wind SE'].quantile(.25)\n",
        "q3 = pacific['Moderate Wind SE'].quantile(.75)\n",
        "IQR = q3-q1\n",
        "pacific['Moderate Wind SE'] = np.clip(pacific['Moderate Wind SE'],q1-1.5*IQR, q3+1.5*IQR)\n",
        "\n",
        "q1 = pacific['Moderate Wind SW'].quantile(.25)\n",
        "q3 = pacific['Moderate Wind SW'].quantile(.75)\n",
        "IQR = q3-q1\n",
        "pacific['Moderate Wind SW'] = np.clip(pacific['Moderate Wind SW'],q1-1.5*IQR, q3+1.5*IQR)\n",
        "\n",
        "q1 = pacific['Moderate Wind NW'].quantile(.25)\n",
        "q3 = pacific['Moderate Wind NW'].quantile(.75)\n",
        "IQR = q3-q1\n",
        "pacific['Moderate Wind NW'] = np.clip(pacific['Moderate Wind NW'],q1-1.5*IQR, q3+1.5*IQR)\n",
        "\n",
        "q1 = pacific['High Wind NE'].quantile(.25)\n",
        "q3 = pacific['High Wind NE'].quantile(.75)\n",
        "IQR = q3-q1\n",
        "pacific['High Wind NE'] = np.clip(pacific['High Wind NE'],q1-1.5*IQR, q3+1.5*IQR)\n",
        "\n",
        "q1 = pacific['High Wind SE'].quantile(.25)\n",
        "q3 = pacific['High Wind SE'].quantile(.75)\n",
        "IQR = q3-q1\n",
        "pacific['High Wind SE'] = np.clip(pacific['High Wind SE'],q1-1.5*IQR, q3+1.5*IQR)\n",
        "\n",
        "q1 = pacific['High Wind SW'].quantile(.25)\n",
        "q3 = pacific['High Wind SW'].quantile(.75)\n",
        "IQR = q3-q1\n",
        "pacific['High Wind SW'] = np.clip(pacific['High Wind SW'],q1-1.5*IQR, q3+1.5*IQR)\n",
        "\n",
        "q1 = pacific['High Wind NW'].quantile(.25)\n",
        "q3 = pacific['High Wind NW'].quantile(.75)\n",
        "IQR = q3-q1\n",
        "pacific['High Wind NW'] = np.clip(pacific['High Wind NW'],q1-1.5*IQR, q3+1.5*IQR)\n"
      ],
      "execution_count": null,
      "outputs": []
    },
    {
      "cell_type": "code",
      "metadata": {
        "id": "h9D9XmqSVO96",
        "colab": {
          "base_uri": "https://localhost:8080/"
        },
        "outputId": "17428eda-c119-4c57-b2f2-5ee21dcdc659"
      },
      "source": [
        "pacific['Moderate Wind SW']"
      ],
      "execution_count": null,
      "outputs": [
        {
          "output_type": "execute_result",
          "data": {
            "text/plain": [
              "0       -999\n",
              "1       -999\n",
              "2       -999\n",
              "3       -999\n",
              "4       -999\n",
              "        ... \n",
              "26132   -999\n",
              "26133   -999\n",
              "26134   -999\n",
              "26135   -999\n",
              "26136   -999\n",
              "Name: Moderate Wind SW, Length: 26137, dtype: int64"
            ]
          },
          "metadata": {
            "tags": []
          },
          "execution_count": 44
        }
      ]
    },
    {
      "cell_type": "code",
      "metadata": {
        "id": "YuqZiAiTezQt",
        "colab": {
          "base_uri": "https://localhost:8080/"
        },
        "outputId": "a8b49732-7043-47af-d8de-08511dfb9a46"
      },
      "source": [
        "from sklearn.preprocessing import LabelEncoder\n",
        "le=LabelEncoder()\n",
        "pacific['Status']=le.fit_transform(pacific['Status'])\n",
        "print(pacific.head())\n",
        "print(pacific['Status'].unique())"
      ],
      "execution_count": null,
      "outputs": [
        {
          "output_type": "stream",
          "text": [
            "         ID                 Name  ...  High Wind SW  High Wind NW\n",
            "0  EP011949              UNNAMED  ...          -999          -999\n",
            "1  EP011949              UNNAMED  ...          -999          -999\n",
            "2  EP011949              UNNAMED  ...          -999          -999\n",
            "3  EP011949              UNNAMED  ...          -999          -999\n",
            "4  EP011949              UNNAMED  ...          -999          -999\n",
            "\n",
            "[5 rows x 22 columns]\n",
            "[11  3 10  2  5  1  0  7  8  6  9  4]\n"
          ],
          "name": "stdout"
        }
      ]
    },
    {
      "cell_type": "code",
      "metadata": {
        "id": "jT7dtVlUVO7G"
      },
      "source": [
        "X= pacific[['Maximum Wind', 'Minimum Pressure', 'Low Wind NE']]\n",
        "Y= pacific['Status']"
      ],
      "execution_count": null,
      "outputs": []
    },
    {
      "cell_type": "code",
      "metadata": {
        "id": "uJLLMv_OVO3q"
      },
      "source": [
        "from sklearn.model_selection import train_test_split\n",
        "X_train, X_test, Y_train, Y_test= train_test_split(X,Y,test_size=0.2,random_state=8)"
      ],
      "execution_count": null,
      "outputs": []
    },
    {
      "cell_type": "code",
      "metadata": {
        "id": "0BfiZ3R6i0UB"
      },
      "source": [
        "from sklearn.preprocessing import StandardScaler\n",
        "scaler = StandardScaler()\n",
        "X_train = scaler.fit_transform(X_train)\n",
        "X_test = scaler.transform(X_test)"
      ],
      "execution_count": null,
      "outputs": []
    },
    {
      "cell_type": "markdown",
      "metadata": {
        "id": "LBw8UQ8xd8M5"
      },
      "source": [
        "Applying Decision Tree"
      ]
    },
    {
      "cell_type": "code",
      "metadata": {
        "id": "tzoxkIZMdzmP",
        "colab": {
          "base_uri": "https://localhost:8080/"
        },
        "outputId": "485359da-4bd6-49e5-c5dc-e268c777850e"
      },
      "source": [
        "#call the model\n",
        "from sklearn.tree import DecisionTreeClassifier\n",
        "dt_model= DecisionTreeClassifier(criterion=\"gini\", max_depth=3)\n",
        "#fit the model\n",
        "clf=dt_model.fit(X_train, Y_train)\n",
        "#Use the fitted model for prediction on test dataset\n",
        "y_predicted = clf.predict(X_test)\n",
        "y_predicted_train= clf.predict(X_train)\n",
        "print(y_predicted)\n",
        "from sklearn.metrics import confusion_matrix,classification_report\n",
        "print(confusion_matrix(Y_train,y_predicted_train))\n",
        "print(classification_report(Y_train,y_predicted_train))"
      ],
      "execution_count": null,
      "outputs": [
        {
          "output_type": "stream",
          "text": [
            "[10 10  3 ... 11  3  3]\n",
            "[[   0    0    0    0    0   74    0    0    0    0  100    0]\n",
            " [   0    0    0    5    0    9    0    0    0    0   94   21]\n",
            " [   0    0    4    9    0    4    0    0    0    0   45   17]\n",
            " [   0    0    0 5362    0    0    0    0    0    0    0    0]\n",
            " [   0    0    0    1    0    0    0    0    0    0    0    0]\n",
            " [   0    0    0    0    0  587    0    0    0    0  844   27]\n",
            " [   0    0    0    0    0    0    0    0    0    0    4    0]\n",
            " [   0    0    0    0    0    0    0    0    0    0    2    0]\n",
            " [   0    0    0    0    0    0    0    0    0    0    0    5]\n",
            " [   0    0    0    3    0    0    0    0    0    0    0    0]\n",
            " [   0    0    0    0    0  191    0    0    0    0 5409    1]\n",
            " [   0    0    1    1    0    0    0    0    0    0    0 8089]]\n",
            "              precision    recall  f1-score   support\n",
            "\n",
            "           0       0.00      0.00      0.00       174\n",
            "           1       0.00      0.00      0.00       129\n",
            "           2       0.80      0.05      0.10        79\n",
            "           3       1.00      1.00      1.00      5362\n",
            "           4       0.00      0.00      0.00         1\n",
            "           5       0.68      0.40      0.51      1458\n",
            "           6       0.00      0.00      0.00         4\n",
            "           7       0.00      0.00      0.00         2\n",
            "           8       0.00      0.00      0.00         5\n",
            "           9       0.00      0.00      0.00         3\n",
            "          10       0.83      0.97      0.89      5601\n",
            "          11       0.99      1.00      1.00      8091\n",
            "\n",
            "    accuracy                           0.93     20909\n",
            "   macro avg       0.36      0.28      0.29     20909\n",
            "weighted avg       0.91      0.93      0.92     20909\n",
            "\n"
          ],
          "name": "stdout"
        },
        {
          "output_type": "stream",
          "text": [
            "/usr/local/lib/python3.6/dist-packages/sklearn/metrics/_classification.py:1272: UndefinedMetricWarning: Precision and F-score are ill-defined and being set to 0.0 in labels with no predicted samples. Use `zero_division` parameter to control this behavior.\n",
            "  _warn_prf(average, modifier, msg_start, len(result))\n"
          ],
          "name": "stderr"
        }
      ]
    },
    {
      "cell_type": "code",
      "metadata": {
        "id": "lXymP5c0dzzT"
      },
      "source": [
        "from sklearn.metrics import accuracy_score\n",
        "from sklearn.metrics import f1_score\n",
        "from sklearn.metrics import recall_score\n",
        "from sklearn.metrics import precision_score\n",
        "from sklearn.model_selection import cross_val_score"
      ],
      "execution_count": null,
      "outputs": []
    },
    {
      "cell_type": "code",
      "metadata": {
        "id": "grt8w0ajdz94",
        "colab": {
          "base_uri": "https://localhost:8080/"
        },
        "outputId": "764b6677-0cc5-43c4-b44b-734fcd82230b"
      },
      "source": [
        "print('Accuracy for Decision Tree:', accuracy_score(Y_train, y_predicted_train))\n",
        "print('f1_score for Decision Tree:', f1_score(Y_train, y_predicted_train, average='macro'))\n",
        "print('recall_score for Decision Tree:', recall_score(Y_train, y_predicted_train,pos_label='positive',average='macro'))\n",
        "print('precision_score for Decision Tree:', precision_score(Y_train, y_predicted_train,pos_label='positive',average='macro'))"
      ],
      "execution_count": null,
      "outputs": [
        {
          "output_type": "stream",
          "text": [
            "Accuracy for Decision Tree: 0.9302692620402697\n",
            "f1_score for Decision Tree: 0.290706827052923\n",
            "recall_score for Decision Tree: 0.2848927033535374\n",
            "precision_score for Decision Tree: 0.3582325638721639\n"
          ],
          "name": "stdout"
        },
        {
          "output_type": "stream",
          "text": [
            "/usr/local/lib/python3.6/dist-packages/sklearn/metrics/_classification.py:1321: UserWarning: Note that pos_label (set to 'positive') is ignored when average != 'binary' (got 'macro'). You may use labels=[pos_label] to specify a single positive class.\n",
            "  % (pos_label, average), UserWarning)\n",
            "/usr/local/lib/python3.6/dist-packages/sklearn/metrics/_classification.py:1272: UndefinedMetricWarning: Precision is ill-defined and being set to 0.0 in labels with no predicted samples. Use `zero_division` parameter to control this behavior.\n",
            "  _warn_prf(average, modifier, msg_start, len(result))\n"
          ],
          "name": "stderr"
        }
      ]
    },
    {
      "cell_type": "code",
      "metadata": {
        "id": "5w6lPHIQbC5B",
        "colab": {
          "base_uri": "https://localhost:8080/"
        },
        "outputId": "34d23acf-0658-4c12-ae43-7668ddb884e2"
      },
      "source": [
        "print('Accuracy of Test dataset for Decision Tree:', accuracy_score(Y_test, y_predicted))\n",
        "print('f1_score of Test dataset for Decision Tree:', f1_score(Y_test, y_predicted, average='macro'))\n",
        "print('recall_score of Test dataset for Decision Tree:', recall_score(Y_test, y_predicted,pos_label='positive',average='macro'))\n",
        "print('precision_score of Test dataset for Decision Tree:', precision_score(Y_test, y_predicted,pos_label='positive',average='macro'))"
      ],
      "execution_count": null,
      "outputs": [
        {
          "output_type": "stream",
          "text": [
            "Accuracy of Test dataset for Decision Tree: 0.9250191277735271\n",
            "f1_score of Test dataset for Decision Tree: 0.3030240121841304\n",
            "recall_score of Test dataset for Decision Tree: 0.30126520372019977\n",
            "precision_score of Test dataset for Decision Tree: 0.3153796455124753\n"
          ],
          "name": "stdout"
        },
        {
          "output_type": "stream",
          "text": [
            "/usr/local/lib/python3.6/dist-packages/sklearn/metrics/_classification.py:1321: UserWarning: Note that pos_label (set to 'positive') is ignored when average != 'binary' (got 'macro'). You may use labels=[pos_label] to specify a single positive class.\n",
            "  % (pos_label, average), UserWarning)\n",
            "/usr/local/lib/python3.6/dist-packages/sklearn/metrics/_classification.py:1272: UndefinedMetricWarning: Precision is ill-defined and being set to 0.0 in labels with no predicted samples. Use `zero_division` parameter to control this behavior.\n",
            "  _warn_prf(average, modifier, msg_start, len(result))\n"
          ],
          "name": "stderr"
        }
      ]
    },
    {
      "cell_type": "code",
      "metadata": {
        "id": "nnXiHge9--jX",
        "colab": {
          "base_uri": "https://localhost:8080/"
        },
        "outputId": "b82307ae-ea81-49a7-dde4-5fa8a755e857"
      },
      "source": [
        "accuracy= accuracy_score(Y_test, y_predicted)\n",
        "accuracy"
      ],
      "execution_count": null,
      "outputs": [
        {
          "output_type": "execute_result",
          "data": {
            "text/plain": [
              "0.9250191277735271"
            ]
          },
          "metadata": {
            "tags": []
          },
          "execution_count": 10
        }
      ]
    },
    {
      "cell_type": "code",
      "metadata": {
        "id": "YT6eHzYj2wRp"
      },
      "source": [
        "import csv\n",
        "with open('innovators.csv', 'w', newline='') as file:\n",
        "    writer = csv.writer(file)\n",
        "    writer.writerow([\"SN\", \"Decision Tree\", accuracy_score(Y_test, y_predicted)])"
      ],
      "execution_count": null,
      "outputs": []
    },
    {
      "cell_type": "code",
      "metadata": {
        "id": "5SqArmFGyfsX"
      },
      "source": [
        "import csv\n",
        "with open('accuracy_score.csv', 'w', newline='') as file:\n",
        "    writer = csv.writer(file)\n",
        "    writer.writerow([\"SN\", \"Model\", \"Score\"])\n",
        "    writer.writerow([1, \"Decision Tree\", accuracy_score(Y_test, y_predicted)])\n",
        "    #writer.writerow([2, \"Tim Berners-Lee\", \"World Wide Web\"])\n",
        "    #writer.writerow([3, \"Guido van Rossum\", \"Python Programming\"])"
      ],
      "execution_count": null,
      "outputs": []
    },
    {
      "cell_type": "markdown",
      "metadata": {
        "id": "TY9wkhdrVC70"
      },
      "source": [
        "Applying Random Forest"
      ]
    },
    {
      "cell_type": "code",
      "metadata": {
        "id": "2VGrY_Rpdz6q",
        "colab": {
          "base_uri": "https://localhost:8080/"
        },
        "outputId": "4e7efd3a-603d-4aef-ff30-2aa6ae55ac08"
      },
      "source": [
        "#call the model\n",
        "from sklearn.ensemble import RandomForestClassifier\n",
        "rf_model= RandomForestClassifier(criterion=\"gini\", max_depth=3, random_state=0)\n",
        "#fit the model\n",
        "clf=rf_model.fit(X_train, Y_train)\n",
        "#Use the fitted model for prediction on test dataset\n",
        "y_predicted = clf.predict(X_test)\n",
        "y_predicted_train= clf.predict(X_train)\n",
        "print(y_predicted)\n",
        "from sklearn.metrics import confusion_matrix,classification_report\n",
        "print(confusion_matrix(Y_train,y_predicted_train))\n",
        "print(classification_report(Y_train,y_predicted_train))"
      ],
      "execution_count": null,
      "outputs": [
        {
          "output_type": "stream",
          "text": [
            "[10 10  3 ... 11  3  3]\n",
            "[[   0    0    0    0    0   73    0    0    0    0  101    0]\n",
            " [   0    0    0    5    0    0    0    0    0    0  104   20]\n",
            " [   0    0    0    9    0    4    0    0    0    0   49   17]\n",
            " [   0    0    0 5362    0    0    0    0    0    0    0    0]\n",
            " [   0    0    0    1    0    0    0    0    0    0    0    0]\n",
            " [   0    0    0    0    0  567    0    0    0    0  865   26]\n",
            " [   0    0    0    0    0    0    0    0    0    0    4    0]\n",
            " [   0    0    0    0    0    0    0    0    0    0    2    0]\n",
            " [   0    0    0    0    0    0    0    0    0    0    0    5]\n",
            " [   0    0    0    3    0    0    0    0    0    0    0    0]\n",
            " [   0    0    0    0    0   98    0    0    0    0 5502    1]\n",
            " [   0    0    0    1    0    0    0    0    0    0   69 8021]]\n",
            "              precision    recall  f1-score   support\n",
            "\n",
            "           0       0.00      0.00      0.00       174\n",
            "           1       0.00      0.00      0.00       129\n",
            "           2       0.00      0.00      0.00        79\n",
            "           3       1.00      1.00      1.00      5362\n",
            "           4       0.00      0.00      0.00         1\n",
            "           5       0.76      0.39      0.52      1458\n",
            "           6       0.00      0.00      0.00         4\n",
            "           7       0.00      0.00      0.00         2\n",
            "           8       0.00      0.00      0.00         5\n",
            "           9       0.00      0.00      0.00         3\n",
            "          10       0.82      0.98      0.89      5601\n",
            "          11       0.99      0.99      0.99      8091\n",
            "\n",
            "    accuracy                           0.93     20909\n",
            "   macro avg       0.30      0.28      0.28     20909\n",
            "weighted avg       0.91      0.93      0.92     20909\n",
            "\n"
          ],
          "name": "stdout"
        },
        {
          "output_type": "stream",
          "text": [
            "/usr/local/lib/python3.6/dist-packages/sklearn/metrics/_classification.py:1272: UndefinedMetricWarning: Precision and F-score are ill-defined and being set to 0.0 in labels with no predicted samples. Use `zero_division` parameter to control this behavior.\n",
            "  _warn_prf(average, modifier, msg_start, len(result))\n"
          ],
          "name": "stderr"
        }
      ]
    },
    {
      "cell_type": "code",
      "metadata": {
        "id": "yE7XeLbKdzuB",
        "colab": {
          "base_uri": "https://localhost:8080/"
        },
        "outputId": "6e30b514-be87-4631-a655-23480c6e44bc"
      },
      "source": [
        "print('Accuracy for Random Forest:', accuracy_score(Y_train, y_predicted_train))\n",
        "print('f1_score for Random Forest:', f1_score(Y_train, y_predicted_train, average='macro'))\n",
        "print('recall_score for Random Forest:', recall_score(Y_train, y_predicted_train,pos_label='positive',average='macro'))\n",
        "print('precision_score for Random Forest:', precision_score(Y_train, y_predicted_train,pos_label='positive',average='macro'))"
      ],
      "execution_count": null,
      "outputs": [
        {
          "output_type": "stream",
          "text": [
            "Accuracy for Random Forest: 0.9303170883351667\n",
            "f1_score for Random Forest: 0.28332900274952966\n",
            "recall_score for Random Forest: 0.28021349046667005\n",
            "precision_score for Random Forest: 0.29781462839984424\n"
          ],
          "name": "stdout"
        },
        {
          "output_type": "stream",
          "text": [
            "/usr/local/lib/python3.6/dist-packages/sklearn/metrics/_classification.py:1321: UserWarning: Note that pos_label (set to 'positive') is ignored when average != 'binary' (got 'macro'). You may use labels=[pos_label] to specify a single positive class.\n",
            "  % (pos_label, average), UserWarning)\n",
            "/usr/local/lib/python3.6/dist-packages/sklearn/metrics/_classification.py:1272: UndefinedMetricWarning: Precision is ill-defined and being set to 0.0 in labels with no predicted samples. Use `zero_division` parameter to control this behavior.\n",
            "  _warn_prf(average, modifier, msg_start, len(result))\n"
          ],
          "name": "stderr"
        }
      ]
    },
    {
      "cell_type": "code",
      "metadata": {
        "id": "nzZ56sNqZT_A",
        "colab": {
          "base_uri": "https://localhost:8080/"
        },
        "outputId": "860b3efa-c371-4045-fea9-8f5f38690975"
      },
      "source": [
        "print('Accuracy of Test dataset for Random Forest:', accuracy_score(Y_test, y_predicted))\n",
        "print('f1_score of Test dataset for Random Forest:', f1_score(Y_test, y_predicted, average='macro'))\n",
        "print('recall_score of Test dataset for Random Forest:', recall_score(Y_test, y_predicted,pos_label='positive',average='macro'))\n",
        "print('precision_score of Test dataset for Random Forest:', precision_score(Y_test, y_predicted,pos_label='positive',average='macro'))"
      ],
      "execution_count": null,
      "outputs": [
        {
          "output_type": "stream",
          "text": [
            "Accuracy of Test dataset for Random Forest: 0.9240627390971691\n",
            "f1_score of Test dataset for Random Forest: 0.30278392651091274\n",
            "recall_score of Test dataset for Random Forest: 0.29999996914613136\n",
            "precision_score of Test dataset for Random Forest: 0.32532648698708644\n"
          ],
          "name": "stdout"
        },
        {
          "output_type": "stream",
          "text": [
            "/usr/local/lib/python3.6/dist-packages/sklearn/metrics/_classification.py:1321: UserWarning: Note that pos_label (set to 'positive') is ignored when average != 'binary' (got 'macro'). You may use labels=[pos_label] to specify a single positive class.\n",
            "  % (pos_label, average), UserWarning)\n",
            "/usr/local/lib/python3.6/dist-packages/sklearn/metrics/_classification.py:1272: UndefinedMetricWarning: Precision is ill-defined and being set to 0.0 in labels with no predicted samples. Use `zero_division` parameter to control this behavior.\n",
            "  _warn_prf(average, modifier, msg_start, len(result))\n"
          ],
          "name": "stderr"
        }
      ]
    },
    {
      "cell_type": "markdown",
      "metadata": {
        "id": "2--5PWxQWz4o"
      },
      "source": [
        "Applying Naive Baye's"
      ]
    },
    {
      "cell_type": "code",
      "metadata": {
        "id": "mvQz1zPOdziW"
      },
      "source": [
        "from sklearn.naive_bayes import GaussianNB\n",
        "\n",
        "#Create a Gaussian Classifier\n",
        "gnb = GaussianNB()\n",
        "\n",
        "#Train the model using the training sets\n",
        "gnb.fit(X_train, Y_train)\n",
        "\n",
        "#Predict the response for test dataset\n",
        "y_predicted = gnb.predict(X_test)\n",
        "y_predicted_train = gnb.predict(X_train)"
      ],
      "execution_count": null,
      "outputs": []
    },
    {
      "cell_type": "code",
      "metadata": {
        "id": "NYrGqpr3XAXw",
        "colab": {
          "base_uri": "https://localhost:8080/"
        },
        "outputId": "ff46020b-13e8-4f52-80fd-1d6a8e0b3358"
      },
      "source": [
        "print('Accuracy for Naive Bayes:', accuracy_score(Y_train, y_predicted_train))\n",
        "print('f1_score for Naive Bayes:', f1_score(Y_train, y_predicted_train, average='macro'))\n",
        "print('recall_score for Naive Bayes:', recall_score(Y_train, y_predicted_train,pos_label='positive',average='macro'))\n",
        "print('precision_score for Naive Bayes:', precision_score(Y_train, y_predicted_train,pos_label='positive',average='macro'))"
      ],
      "execution_count": null,
      "outputs": [
        {
          "output_type": "stream",
          "text": [
            "Accuracy for Naive Bayes: 0.8349036300157827\n",
            "f1_score for Naive Bayes: 0.34216273461317104\n",
            "recall_score for Naive Bayes: 0.4771432242652158\n",
            "precision_score for Naive Bayes: 0.3782073956418555\n"
          ],
          "name": "stdout"
        },
        {
          "output_type": "stream",
          "text": [
            "/usr/local/lib/python3.6/dist-packages/sklearn/metrics/_classification.py:1321: UserWarning: Note that pos_label (set to 'positive') is ignored when average != 'binary' (got 'macro'). You may use labels=[pos_label] to specify a single positive class.\n",
            "  % (pos_label, average), UserWarning)\n",
            "/usr/local/lib/python3.6/dist-packages/sklearn/metrics/_classification.py:1272: UndefinedMetricWarning: Precision is ill-defined and being set to 0.0 in labels with no predicted samples. Use `zero_division` parameter to control this behavior.\n",
            "  _warn_prf(average, modifier, msg_start, len(result))\n"
          ],
          "name": "stderr"
        }
      ]
    },
    {
      "cell_type": "code",
      "metadata": {
        "id": "r3Tn9oKWbRbo",
        "colab": {
          "base_uri": "https://localhost:8080/"
        },
        "outputId": "0604b510-78b3-41eb-98c9-16247806fe05"
      },
      "source": [
        "print('Accuracy of Test dataset for Naive Bayes:', accuracy_score(Y_test, y_predicted))\n",
        "print('f1_score of Test dataset for Naive Bayes:', f1_score(Y_test, y_predicted, average='macro'))\n",
        "print('recall_score of Test dataset for Naive Bayes:', recall_score(Y_test, y_predicted,pos_label='positive',average='macro'))\n",
        "print('precision_score of Test dataset for Naive Bayes:', precision_score(Y_test, y_predicted,pos_label='positive',average='macro'))"
      ],
      "execution_count": null,
      "outputs": [
        {
          "output_type": "stream",
          "text": [
            "Accuracy of Test dataset for Naive Bayes: 0.8333970925784239\n",
            "f1_score of Test dataset for Naive Bayes: 0.2958095056701854\n",
            "recall_score of Test dataset for Naive Bayes: 0.42496324633125604\n",
            "precision_score of Test dataset for Naive Bayes: 0.31966726264222256\n"
          ],
          "name": "stdout"
        },
        {
          "output_type": "stream",
          "text": [
            "/usr/local/lib/python3.6/dist-packages/sklearn/metrics/_classification.py:1321: UserWarning: Note that pos_label (set to 'positive') is ignored when average != 'binary' (got 'macro'). You may use labels=[pos_label] to specify a single positive class.\n",
            "  % (pos_label, average), UserWarning)\n",
            "/usr/local/lib/python3.6/dist-packages/sklearn/metrics/_classification.py:1272: UndefinedMetricWarning: Precision is ill-defined and being set to 0.0 in labels with no predicted samples. Use `zero_division` parameter to control this behavior.\n",
            "  _warn_prf(average, modifier, msg_start, len(result))\n"
          ],
          "name": "stderr"
        }
      ]
    },
    {
      "cell_type": "markdown",
      "metadata": {
        "id": "456I2BH1XXRo"
      },
      "source": [
        "Applying Support Vector Classification"
      ]
    },
    {
      "cell_type": "code",
      "metadata": {
        "id": "yJJkjuh8Xbi2",
        "colab": {
          "base_uri": "https://localhost:8080/"
        },
        "outputId": "3534e4b0-7523-42d5-d4e3-4fe7a422bbb4"
      },
      "source": [
        "from sklearn import svm\n",
        "#calling the model\n",
        "clf= svm.SVC(kernel='rbf', degree=2)\n",
        "#fitting the model\n",
        "clf.fit(X_train,Y_train)\n",
        "#Predicct the model\n",
        "y_predicted= clf.predict(X_test)\n",
        "y_predicted_train= clf.predict(X_train)\n",
        "print(y_predicted)\n",
        "print(y_predicted_train)"
      ],
      "execution_count": null,
      "outputs": [
        {
          "output_type": "stream",
          "text": [
            "[10 10  3 ... 11 11  3]\n",
            "[10 10 10 ... 11 10  3]\n"
          ],
          "name": "stdout"
        }
      ]
    },
    {
      "cell_type": "code",
      "metadata": {
        "id": "e2YUGVxFXbrQ",
        "colab": {
          "base_uri": "https://localhost:8080/"
        },
        "outputId": "e1b74e4c-9e17-43cf-cc6f-9ef6e1065ed4"
      },
      "source": [
        "print('Accuracy for SVC:', accuracy_score(Y_train, y_predicted_train))\n",
        "print('f1_score for SVC:', f1_score(Y_train, y_predicted_train, average='macro'))\n",
        "print('recall_score for SVC:', recall_score(Y_train, y_predicted_train, average='macro'))\n",
        "print('precision_score for SVC:', precision_score(Y_train, y_predicted_train, average='macro'))"
      ],
      "execution_count": null,
      "outputs": [
        {
          "output_type": "stream",
          "text": [
            "Accuracy for SVC: 0.8255296762159835\n",
            "f1_score for SVC: 0.21534786037140227\n",
            "recall_score for SVC: 0.22303931632611732\n",
            "precision_score for SVC: 0.20970568668245257\n"
          ],
          "name": "stdout"
        },
        {
          "output_type": "stream",
          "text": [
            "/usr/local/lib/python3.6/dist-packages/sklearn/metrics/_classification.py:1272: UndefinedMetricWarning: Precision is ill-defined and being set to 0.0 in labels with no predicted samples. Use `zero_division` parameter to control this behavior.\n",
            "  _warn_prf(average, modifier, msg_start, len(result))\n"
          ],
          "name": "stderr"
        }
      ]
    },
    {
      "cell_type": "code",
      "metadata": {
        "id": "icWcNZVWbeMJ"
      },
      "source": [
        "print('Accuracy of Test dataset for SVC:', accuracy_score(Y_test, y_predicted))\n",
        "print('f1_score of Test dataset for SVC:', f1_score(Y_test, y_predicted, average='macro'))\n",
        "print('recall_score of Test dataset for SVC:', recall_score(Y_test, y_predicted,pos_label='positive',average='macro'))\n",
        "print('precision_score of Test dataset for SVC:', precision_score(Y_test, y_predicted,pos_label='positive',average='macro'))"
      ],
      "execution_count": null,
      "outputs": []
    },
    {
      "cell_type": "code",
      "metadata": {
        "id": "_3rtdzYfg7Rd",
        "colab": {
          "base_uri": "https://localhost:8080/"
        },
        "outputId": "2a6a7902-0790-4f30-b5c7-8e0dd97288d0"
      },
      "source": [
        "cv_svc= cross_validate(clf,X, Y)"
      ],
      "execution_count": null,
      "outputs": [
        {
          "output_type": "stream",
          "text": [
            "/usr/local/lib/python3.6/dist-packages/sklearn/model_selection/_split.py:667: UserWarning: The least populated class in y has only 1 members, which is less than n_splits=5.\n",
            "  % (min_groups, self.n_splits)), UserWarning)\n"
          ],
          "name": "stderr"
        }
      ]
    },
    {
      "cell_type": "code",
      "metadata": {
        "id": "T-Rodo_iju1S",
        "colab": {
          "base_uri": "https://localhost:8080/"
        },
        "outputId": "c531106e-37fb-4572-979d-2bf525d83504"
      },
      "source": [
        "cv_svc"
      ],
      "execution_count": null,
      "outputs": [
        {
          "output_type": "execute_result",
          "data": {
            "text/plain": [
              "{'fit_time': array([14.63001966, 13.7687366 , 13.5911119 , 15.41769838, 13.05331969]),\n",
              " 'score_time': array([4.02816272, 3.72825456, 3.90384555, 4.21962309, 3.86597681]),\n",
              " 'test_score': array([0.63733741, 0.65589135, 0.68815764, 0.75186531, 0.6916013 ])}"
            ]
          },
          "metadata": {
            "tags": []
          },
          "execution_count": 56
        }
      ]
    },
    {
      "cell_type": "code",
      "metadata": {
        "id": "jXug1VIXvLaY",
        "colab": {
          "base_uri": "https://localhost:8080/"
        },
        "outputId": "c09f10ce-73b6-4ae6-ba41-c5665afc29d5"
      },
      "source": [
        "from sklearn.model_selection import cross_val_score,StratifiedKFold\n",
        "cv = StratifiedKFold(10)\n",
        "score=cross_val_score(dt_model, X_train, Y_train, cv=cv)\n",
        "print(f'score of random forest classifier:{score.mean()}')\n",
        "score=cross_val_score(rf_model, X_train, Y_train, cv=cv)\n",
        "print(f'score of decision tree classifier:{score.mean()}')\n",
        "score=cross_val_score(clf, X_train, Y_train, cv=cv)\n",
        "print(f'score of Support Vector classifier:{score.mean()}')\n",
        "score=cross_val_score(gnb, X_train, Y_train, cv=cv)\n",
        "print(f'score of Naive Bayes:{score.mean()}')"
      ],
      "execution_count": null,
      "outputs": [
        {
          "output_type": "stream",
          "text": [
            "/usr/local/lib/python3.6/dist-packages/sklearn/model_selection/_split.py:667: UserWarning: The least populated class in y has only 1 members, which is less than n_splits=10.\n",
            "  % (min_groups, self.n_splits)), UserWarning)\n",
            "/usr/local/lib/python3.6/dist-packages/sklearn/model_selection/_split.py:667: UserWarning: The least populated class in y has only 1 members, which is less than n_splits=10.\n",
            "  % (min_groups, self.n_splits)), UserWarning)\n"
          ],
          "name": "stderr"
        },
        {
          "output_type": "stream",
          "text": [
            "score of random forest classifier:0.9302215235493193\n",
            "score of decision tree classifier:0.930412842462227\n"
          ],
          "name": "stdout"
        },
        {
          "output_type": "stream",
          "text": [
            "/usr/local/lib/python3.6/dist-packages/sklearn/model_selection/_split.py:667: UserWarning: The least populated class in y has only 1 members, which is less than n_splits=10.\n",
            "  % (min_groups, self.n_splits)), UserWarning)\n"
          ],
          "name": "stderr"
        },
        {
          "output_type": "stream",
          "text": [
            "score of Support Vector classifier:0.6875510218091204\n",
            "score of Naive Bayes:0.8309341241456322\n"
          ],
          "name": "stdout"
        },
        {
          "output_type": "stream",
          "text": [
            "/usr/local/lib/python3.6/dist-packages/sklearn/model_selection/_split.py:667: UserWarning: The least populated class in y has only 1 members, which is less than n_splits=10.\n",
            "  % (min_groups, self.n_splits)), UserWarning)\n"
          ],
          "name": "stderr"
        }
      ]
    }
  ]
}