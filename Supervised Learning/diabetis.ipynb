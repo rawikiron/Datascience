{
  "nbformat": 4,
  "nbformat_minor": 0,
  "metadata": {
    "colab": {
      "name": "diabetis.ipynb",
      "provenance": []
    },
    "kernelspec": {
      "name": "python3",
      "display_name": "Python 3"
    }
  },
  "cells": [
    {
      "cell_type": "code",
      "metadata": {
        "id": "cLq0q07sWEbB"
      },
      "source": [
        "import numpy as np\r\n",
        "import pandas as pd\r\n",
        "import matplotlib.pyplot as plt\r\n",
        "import seaborn as sns"
      ],
      "execution_count": null,
      "outputs": []
    },
    {
      "cell_type": "code",
      "metadata": {
        "id": "pP7AekTyWnwf"
      },
      "source": [
        "df= pd.read_csv('/content/drive/MyDrive/diabetis_train.csv')"
      ],
      "execution_count": null,
      "outputs": []
    },
    {
      "cell_type": "code",
      "metadata": {
        "colab": {
          "base_uri": "https://localhost:8080/"
        },
        "id": "DyVzgokC2bmg",
        "outputId": "0f6c86a5-9569-4097-828c-56e5f3058075"
      },
      "source": [
        "df.info()"
      ],
      "execution_count": null,
      "outputs": [
        {
          "output_type": "stream",
          "text": [
            "<class 'pandas.core.frame.DataFrame'>\n",
            "RangeIndex: 537 entries, 0 to 536\n",
            "Data columns (total 9 columns):\n",
            " #   Column                    Non-Null Count  Dtype  \n",
            "---  ------                    --------------  -----  \n",
            " 0   Pregnancies               537 non-null    int64  \n",
            " 1   Glucose                   537 non-null    int64  \n",
            " 2   BloodPressure             537 non-null    int64  \n",
            " 3   SkinThickness             537 non-null    int64  \n",
            " 4   Insulin                   537 non-null    int64  \n",
            " 5   BMI                       537 non-null    float64\n",
            " 6   DiabetesPedigreeFunction  537 non-null    float64\n",
            " 7   Age                       537 non-null    int64  \n",
            " 8   Outcome                   537 non-null    int64  \n",
            "dtypes: float64(2), int64(7)\n",
            "memory usage: 37.9 KB\n"
          ],
          "name": "stdout"
        }
      ]
    },
    {
      "cell_type": "code",
      "metadata": {
        "colab": {
          "base_uri": "https://localhost:8080/",
          "height": 455
        },
        "id": "moEVRwbE2bjk",
        "outputId": "75e567da-0939-4e79-9967-ce0db55b55d9"
      },
      "source": [
        "df.hist()"
      ],
      "execution_count": null,
      "outputs": [
        {
          "output_type": "execute_result",
          "data": {
            "text/plain": [
              "array([[<matplotlib.axes._subplots.AxesSubplot object at 0x7f86f9730710>,\n",
              "        <matplotlib.axes._subplots.AxesSubplot object at 0x7f86f8ef7b38>,\n",
              "        <matplotlib.axes._subplots.AxesSubplot object at 0x7f86f8eacda0>],\n",
              "       [<matplotlib.axes._subplots.AxesSubplot object at 0x7f86f8e61fd0>,\n",
              "        <matplotlib.axes._subplots.AxesSubplot object at 0x7f86f8e202b0>,\n",
              "        <matplotlib.axes._subplots.AxesSubplot object at 0x7f86f8dd4518>],\n",
              "       [<matplotlib.axes._subplots.AxesSubplot object at 0x7f86f8ebf668>,\n",
              "        <matplotlib.axes._subplots.AxesSubplot object at 0x7f86f8db42b0>,\n",
              "        <matplotlib.axes._subplots.AxesSubplot object at 0x7f86f8db4320>]],\n",
              "      dtype=object)"
            ]
          },
          "metadata": {
            "tags": []
          },
          "execution_count": 8
        },
        {
          "output_type": "display_data",
          "data": {
            "image/png": "[encoded data removed]",
            "text/plain": [
              "<Figure size 432x288 with 9 Axes>"
            ]
          },
          "metadata": {
            "tags": [],
            "needs_background": "light"
          }
        }
      ]
    },
    {
      "cell_type": "code",
      "metadata": {
        "id": "8CGo_KUk2bg3"
      },
      "source": [
        "df.plot(figsize=(15,20))"
      ],
      "execution_count": null,
      "outputs": []
    },
    {
      "cell_type": "code",
      "metadata": {
        "colab": {
          "base_uri": "https://localhost:8080/",
          "height": 283
        },
        "id": "94xaK4No2bdB",
        "outputId": "21da4764-563f-4e54-c82e-3e43e961238e"
      },
      "source": [
        "df.boxplot()"
      ],
      "execution_count": null,
      "outputs": [
        {
          "output_type": "execute_result",
          "data": {
            "text/plain": [
              "<matplotlib.axes._subplots.AxesSubplot at 0x7f7e956698d0>"
            ]
          },
          "metadata": {
            "tags": []
          },
          "execution_count": 7
        },
        {
          "output_type": "display_data",
          "data": {
            "image/png": "[encoded data removed]",
            "text/plain": [
              "<Figure size 432x288 with 1 Axes>"
            ]
          },
          "metadata": {
            "tags": [],
            "needs_background": "light"
          }
        }
      ]
    },
    {
      "cell_type": "code",
      "metadata": {
        "id": "nCyEHmLH2bZ4"
      },
      "source": [
        "q1 = df['Pregnancies'].quantile(.25)\r\n",
        "q3 = df['Pregnancies'].quantile(.75)\r\n",
        "IQR = q3-q1\r\n",
        "df['Pregnancies'] = np.clip(df['Pregnancies'],q1-1.5*IQR, q3+1.5*IQR)\r\n",
        "\r\n",
        "q1 = df['Glucose'].quantile(.25)\r\n",
        "q3 = df['Glucose'].quantile(.75)\r\n",
        "IQR = q3-q1\r\n",
        "df['Glucose'] = np.clip(df['Glucose'],q1-1.5*IQR, q3+1.5*IQR)\r\n",
        "\r\n",
        "q1 = df['BloodPressure'].quantile(.25)\r\n",
        "q3 = df['BloodPressure'].quantile(.75)\r\n",
        "IQR = q3-q1\r\n",
        "df['BloodPressure'] = np.clip(df['BloodPressure'],q1-1.5*IQR, q3+1.5*IQR)\r\n",
        "\r\n",
        "q1 = df['SkinThickness'].quantile(.25)\r\n",
        "q3 = df['SkinThickness'].quantile(.75)\r\n",
        "IQR = q3-q1\r\n",
        "df['SkinThickness'] = np.clip(df['SkinThickness'],q1-1.5*IQR, q3+1.5*IQR)\r\n",
        "\r\n",
        "q1 = df['Insulin'].quantile(.25)\r\n",
        "q3 = df['Insulin'].quantile(.75)\r\n",
        "IQR = q3-q1\r\n",
        "df['Insulin'] = np.clip(df['Insulin'],q1-1.5*IQR, q3+1.5*IQR)\r\n",
        "\r\n",
        "q1 = df['DiabetesPedigreeFunction'].quantile(.25)\r\n",
        "q3 = df['DiabetesPedigreeFunction'].quantile(.75)\r\n",
        "IQR = q3-q1\r\n",
        "df['DiabetesPedigreeFunction'] = np.clip(df['DiabetesPedigreeFunction'],q1-1.5*IQR, q3+1.5*IQR)\r\n",
        "\r\n",
        "q1 = df['Age'].quantile(.25)\r\n",
        "q3 = df['Age'].quantile(.75)\r\n",
        "IQR = q3-q1\r\n",
        "df['Age'] = np.clip(df['Age'],q1-1.5*IQR, q3+1.5*IQR)"
      ],
      "execution_count": null,
      "outputs": []
    },
    {
      "cell_type": "code",
      "metadata": {
        "id": "o6Fy7M202bXn"
      },
      "source": [
        "q1 = df['BMI'].quantile(.25)\r\n",
        "q3 = df['BMI'].quantile(.75)\r\n",
        "IQR = q3-q1\r\n",
        "df['BMI'] = np.clip(df['BMI'],q1-1.5*IQR, q3+1.5*IQR)"
      ],
      "execution_count": null,
      "outputs": []
    },
    {
      "cell_type": "code",
      "metadata": {
        "colab": {
          "base_uri": "https://localhost:8080/",
          "height": 345
        },
        "id": "_QlCqWH22bSP",
        "outputId": "680d0607-a99b-48f5-f366-2f9c785c9e43"
      },
      "source": [
        "df.corr()"
      ],
      "execution_count": null,
      "outputs": [
        {
          "output_type": "execute_result",
          "data": {
            "text/html": [
              "<div>\n",
              "<style scoped>\n",
              "    .dataframe tbody tr th:only-of-type {\n",
              "        vertical-align: middle;\n",
              "    }\n",
              "\n",
              "    .dataframe tbody tr th {\n",
              "        vertical-align: top;\n",
              "    }\n",
              "\n",
              "    .dataframe thead th {\n",
              "        text-align: right;\n",
              "    }\n",
              "</style>\n",
              "<table border=\"1\" class=\"dataframe\">\n",
              "  <thead>\n",
              "    <tr style=\"text-align: right;\">\n",
              "      <th></th>\n",
              "      <th>Pregnancies</th>\n",
              "      <th>Glucose</th>\n",
              "      <th>BloodPressure</th>\n",
              "      <th>SkinThickness</th>\n",
              "      <th>Insulin</th>\n",
              "      <th>BMI</th>\n",
              "      <th>DiabetesPedigreeFunction</th>\n",
              "      <th>Age</th>\n",
              "      <th>Outcome</th>\n",
              "    </tr>\n",
              "  </thead>\n",
              "  <tbody>\n",
              "    <tr>\n",
              "      <th>Pregnancies</th>\n",
              "      <td>1.000000</td>\n",
              "      <td>0.124830</td>\n",
              "      <td>0.180499</td>\n",
              "      <td>-0.079819</td>\n",
              "      <td>-0.076786</td>\n",
              "      <td>0.018209</td>\n",
              "      <td>-0.049143</td>\n",
              "      <td>0.537133</td>\n",
              "      <td>0.212701</td>\n",
              "    </tr>\n",
              "    <tr>\n",
              "      <th>Glucose</th>\n",
              "      <td>0.124830</td>\n",
              "      <td>1.000000</td>\n",
              "      <td>0.220048</td>\n",
              "      <td>0.051623</td>\n",
              "      <td>0.297680</td>\n",
              "      <td>0.234641</td>\n",
              "      <td>0.117208</td>\n",
              "      <td>0.282203</td>\n",
              "      <td>0.460989</td>\n",
              "    </tr>\n",
              "    <tr>\n",
              "      <th>BloodPressure</th>\n",
              "      <td>0.180499</td>\n",
              "      <td>0.220048</td>\n",
              "      <td>1.000000</td>\n",
              "      <td>0.124942</td>\n",
              "      <td>0.035046</td>\n",
              "      <td>0.253046</td>\n",
              "      <td>0.039265</td>\n",
              "      <td>0.326439</td>\n",
              "      <td>0.137608</td>\n",
              "    </tr>\n",
              "    <tr>\n",
              "      <th>SkinThickness</th>\n",
              "      <td>-0.079819</td>\n",
              "      <td>0.051623</td>\n",
              "      <td>0.124942</td>\n",
              "      <td>1.000000</td>\n",
              "      <td>0.466460</td>\n",
              "      <td>0.376175</td>\n",
              "      <td>0.206556</td>\n",
              "      <td>-0.090168</td>\n",
              "      <td>0.062810</td>\n",
              "    </tr>\n",
              "    <tr>\n",
              "      <th>Insulin</th>\n",
              "      <td>-0.076786</td>\n",
              "      <td>0.297680</td>\n",
              "      <td>0.035046</td>\n",
              "      <td>0.466460</td>\n",
              "      <td>1.000000</td>\n",
              "      <td>0.159584</td>\n",
              "      <td>0.212555</td>\n",
              "      <td>-0.043763</td>\n",
              "      <td>0.110514</td>\n",
              "    </tr>\n",
              "    <tr>\n",
              "      <th>BMI</th>\n",
              "      <td>0.018209</td>\n",
              "      <td>0.234641</td>\n",
              "      <td>0.253046</td>\n",
              "      <td>0.376175</td>\n",
              "      <td>0.159584</td>\n",
              "      <td>1.000000</td>\n",
              "      <td>0.170167</td>\n",
              "      <td>0.079464</td>\n",
              "      <td>0.325968</td>\n",
              "    </tr>\n",
              "    <tr>\n",
              "      <th>DiabetesPedigreeFunction</th>\n",
              "      <td>-0.049143</td>\n",
              "      <td>0.117208</td>\n",
              "      <td>0.039265</td>\n",
              "      <td>0.206556</td>\n",
              "      <td>0.212555</td>\n",
              "      <td>0.170167</td>\n",
              "      <td>1.000000</td>\n",
              "      <td>0.066472</td>\n",
              "      <td>0.183922</td>\n",
              "    </tr>\n",
              "    <tr>\n",
              "      <th>Age</th>\n",
              "      <td>0.537133</td>\n",
              "      <td>0.282203</td>\n",
              "      <td>0.326439</td>\n",
              "      <td>-0.090168</td>\n",
              "      <td>-0.043763</td>\n",
              "      <td>0.079464</td>\n",
              "      <td>0.066472</td>\n",
              "      <td>1.000000</td>\n",
              "      <td>0.246592</td>\n",
              "    </tr>\n",
              "    <tr>\n",
              "      <th>Outcome</th>\n",
              "      <td>0.212701</td>\n",
              "      <td>0.460989</td>\n",
              "      <td>0.137608</td>\n",
              "      <td>0.062810</td>\n",
              "      <td>0.110514</td>\n",
              "      <td>0.325968</td>\n",
              "      <td>0.183922</td>\n",
              "      <td>0.246592</td>\n",
              "      <td>1.000000</td>\n",
              "    </tr>\n",
              "  </tbody>\n",
              "</table>\n",
              "</div>"
            ],
            "text/plain": [
              "                          Pregnancies   Glucose  ...       Age   Outcome\n",
              "Pregnancies                  1.000000  0.124830  ...  0.537133  0.212701\n",
              "Glucose                      0.124830  1.000000  ...  0.282203  0.460989\n",
              "BloodPressure                0.180499  0.220048  ...  0.326439  0.137608\n",
              "SkinThickness               -0.079819  0.051623  ... -0.090168  0.062810\n",
              "Insulin                     -0.076786  0.297680  ... -0.043763  0.110514\n",
              "BMI                          0.018209  0.234641  ...  0.079464  0.325968\n",
              "DiabetesPedigreeFunction    -0.049143  0.117208  ...  0.066472  0.183922\n",
              "Age                          0.537133  0.282203  ...  1.000000  0.246592\n",
              "Outcome                      0.212701  0.460989  ...  0.246592  1.000000\n",
              "\n",
              "[9 rows x 9 columns]"
            ]
          },
          "metadata": {
            "tags": []
          },
          "execution_count": 8
        }
      ]
    },
    {
      "cell_type": "code",
      "metadata": {
        "id": "N45CHxu8oJTG"
      },
      "source": [
        "sns.heatmap(df.corr(), annot=True)"
      ],
      "execution_count": null,
      "outputs": []
    },
    {
      "cell_type": "code",
      "metadata": {
        "colab": {
          "base_uri": "https://localhost:8080/",
          "height": 202
        },
        "id": "5Q0QXT0yoJP7",
        "outputId": "9cae4967-1d68-4bbf-e504-a100be95873e"
      },
      "source": [
        "df.head()"
      ],
      "execution_count": null,
      "outputs": [
        {
          "output_type": "execute_result",
          "data": {
            "text/html": [
              "<div>\n",
              "<style scoped>\n",
              "    .dataframe tbody tr th:only-of-type {\n",
              "        vertical-align: middle;\n",
              "    }\n",
              "\n",
              "    .dataframe tbody tr th {\n",
              "        vertical-align: top;\n",
              "    }\n",
              "\n",
              "    .dataframe thead th {\n",
              "        text-align: right;\n",
              "    }\n",
              "</style>\n",
              "<table border=\"1\" class=\"dataframe\">\n",
              "  <thead>\n",
              "    <tr style=\"text-align: right;\">\n",
              "      <th></th>\n",
              "      <th>Pregnancies</th>\n",
              "      <th>Glucose</th>\n",
              "      <th>BloodPressure</th>\n",
              "      <th>SkinThickness</th>\n",
              "      <th>Insulin</th>\n",
              "      <th>BMI</th>\n",
              "      <th>DiabetesPedigreeFunction</th>\n",
              "      <th>Age</th>\n",
              "      <th>Outcome</th>\n",
              "    </tr>\n",
              "  </thead>\n",
              "  <tbody>\n",
              "    <tr>\n",
              "      <th>0</th>\n",
              "      <td>4.0</td>\n",
              "      <td>110</td>\n",
              "      <td>92</td>\n",
              "      <td>0</td>\n",
              "      <td>0</td>\n",
              "      <td>37.6</td>\n",
              "      <td>0.191</td>\n",
              "      <td>30.0</td>\n",
              "      <td>0</td>\n",
              "    </tr>\n",
              "    <tr>\n",
              "      <th>1</th>\n",
              "      <td>3.0</td>\n",
              "      <td>74</td>\n",
              "      <td>68</td>\n",
              "      <td>28</td>\n",
              "      <td>45</td>\n",
              "      <td>29.7</td>\n",
              "      <td>0.293</td>\n",
              "      <td>23.0</td>\n",
              "      <td>0</td>\n",
              "    </tr>\n",
              "    <tr>\n",
              "      <th>2</th>\n",
              "      <td>6.0</td>\n",
              "      <td>134</td>\n",
              "      <td>80</td>\n",
              "      <td>37</td>\n",
              "      <td>315</td>\n",
              "      <td>46.2</td>\n",
              "      <td>0.238</td>\n",
              "      <td>46.0</td>\n",
              "      <td>1</td>\n",
              "    </tr>\n",
              "    <tr>\n",
              "      <th>3</th>\n",
              "      <td>4.0</td>\n",
              "      <td>117</td>\n",
              "      <td>62</td>\n",
              "      <td>12</td>\n",
              "      <td>0</td>\n",
              "      <td>29.7</td>\n",
              "      <td>0.380</td>\n",
              "      <td>30.0</td>\n",
              "      <td>1</td>\n",
              "    </tr>\n",
              "    <tr>\n",
              "      <th>4</th>\n",
              "      <td>7.0</td>\n",
              "      <td>129</td>\n",
              "      <td>68</td>\n",
              "      <td>49</td>\n",
              "      <td>125</td>\n",
              "      <td>38.5</td>\n",
              "      <td>0.439</td>\n",
              "      <td>43.0</td>\n",
              "      <td>1</td>\n",
              "    </tr>\n",
              "  </tbody>\n",
              "</table>\n",
              "</div>"
            ],
            "text/plain": [
              "   Pregnancies  Glucose  BloodPressure  ...  DiabetesPedigreeFunction   Age  Outcome\n",
              "0          4.0      110             92  ...                     0.191  30.0        0\n",
              "1          3.0       74             68  ...                     0.293  23.0        0\n",
              "2          6.0      134             80  ...                     0.238  46.0        1\n",
              "3          4.0      117             62  ...                     0.380  30.0        1\n",
              "4          7.0      129             68  ...                     0.439  43.0        1\n",
              "\n",
              "[5 rows x 9 columns]"
            ]
          },
          "metadata": {
            "tags": []
          },
          "execution_count": 11
        }
      ]
    },
    {
      "cell_type": "code",
      "metadata": {
        "id": "LdXX_y9ioJCn"
      },
      "source": [
        "X_train= df.drop(['Outcome'], axis=1)\r\n",
        "y_train=df['Outcome']"
      ],
      "execution_count": null,
      "outputs": []
    },
    {
      "cell_type": "code",
      "metadata": {
        "id": "P5TkeM6opfWs"
      },
      "source": [
        "df_test= pd.read_csv('/content/drive/MyDrive/diabetis_test.csv')"
      ],
      "execution_count": null,
      "outputs": []
    },
    {
      "cell_type": "code",
      "metadata": {
        "id": "KlGXyWyxpfBt"
      },
      "source": [
        "X_test= df_test.drop(['Outcome'], axis=1)\r\n",
        "y_test=df_test['Outcome']"
      ],
      "execution_count": null,
      "outputs": []
    },
    {
      "cell_type": "code",
      "metadata": {
        "colab": {
          "base_uri": "https://localhost:8080/"
        },
        "id": "s9lDriN2pe-r",
        "outputId": "8e3cc84c-010c-4220-dfda-b0701e53774d"
      },
      "source": [
        "from sklearn.ensemble import RandomForestClassifier\r\n",
        "from sklearn.tree import DecisionTreeClassifier\r\n",
        "from sklearn.model_selection import cross_val_score,StratifiedKFold\r\n",
        "cv = StratifiedKFold(10)\r\n",
        "model_rf = RandomForestClassifier(n_estimators=100, n_jobs=-1, random_state=42)\r\n",
        "model_dt = DecisionTreeClassifier()\r\n",
        "score=cross_val_score(model_rf, X_train, y_train, cv=cv)\r\n",
        "print(f'score of random forest classifier:{score.mean()}')\r\n",
        "score=cross_val_score(model_dt, X_train, y_train, cv=cv)\r\n",
        "print(f'score of decision tree classifier:{score.mean()}')"
      ],
      "execution_count": null,
      "outputs": [
        {
          "output_type": "stream",
          "text": [
            "score of random forest classifier:0.7617749825296994\n",
            "score of decision tree classifier:0.6853249475890985\n"
          ],
          "name": "stdout"
        }
      ]
    },
    {
      "cell_type": "code",
      "metadata": {
        "colab": {
          "base_uri": "https://localhost:8080/"
        },
        "id": "xPFbab9ype7d",
        "outputId": "2369fc9c-b934-4d78-d5b4-7a87168ddacb"
      },
      "source": [
        "from sklearn.model_selection import GridSearchCV\r\n",
        "model_params = {'n_estimators':np.arange(50,100), 'random_state':[42]}\r\n",
        "model_cv = GridSearchCV(model_rf,model_params,cv=5,n_jobs=-1,verbose=True,return_train_score = True,scoring = 'recall')\r\n",
        "model_cv.fit(X_train,y_train)"
      ],
      "execution_count": null,
      "outputs": [
        {
          "output_type": "stream",
          "text": [
            "Fitting 5 folds for each of 50 candidates, totalling 250 fits\n"
          ],
          "name": "stdout"
        },
        {
          "output_type": "stream",
          "text": [
            "[Parallel(n_jobs=-1)]: Using backend LokyBackend with 2 concurrent workers.\n",
            "[Parallel(n_jobs=-1)]: Done  46 tasks      | elapsed:   12.0s\n",
            "[Parallel(n_jobs=-1)]: Done 196 tasks      | elapsed:   47.5s\n",
            "[Parallel(n_jobs=-1)]: Done 250 out of 250 | elapsed:  1.1min finished\n"
          ],
          "name": "stderr"
        },
        {
          "output_type": "execute_result",
          "data": {
            "text/plain": [
              "GridSearchCV(cv=5, error_score=nan,\n",
              "             estimator=RandomForestClassifier(bootstrap=True, ccp_alpha=0.0,\n",
              "                                              class_weight=None,\n",
              "                                              criterion='gini', max_depth=None,\n",
              "                                              max_features='auto',\n",
              "                                              max_leaf_nodes=None,\n",
              "                                              max_samples=None,\n",
              "                                              min_impurity_decrease=0.0,\n",
              "                                              min_impurity_split=None,\n",
              "                                              min_samples_leaf=1,\n",
              "                                              min_samples_split=2,\n",
              "                                              min_weight_fraction_leaf=0.0,\n",
              "                                              n_estimators=100, n_jobs=-1,\n",
              "                                              oo...\n",
              "                                              random_state=None, verbose=0,\n",
              "                                              warm_start=False),\n",
              "             iid='deprecated', n_jobs=-1,\n",
              "             param_grid={'n_estimators': array([50, 51, 52, 53, 54, 55, 56, 57, 58, 59, 60, 61, 62, 63, 64, 65, 66,\n",
              "       67, 68, 69, 70, 71, 72, 73, 74, 75, 76, 77, 78, 79, 80, 81, 82, 83,\n",
              "       84, 85, 86, 87, 88, 89, 90, 91, 92, 93, 94, 95, 96, 97, 98, 99]),\n",
              "                         'random_state': [42]},\n",
              "             pre_dispatch='2*n_jobs', refit=True, return_train_score=True,\n",
              "             scoring='recall', verbose=True)"
            ]
          },
          "metadata": {
            "tags": []
          },
          "execution_count": 27
        }
      ]
    },
    {
      "cell_type": "code",
      "metadata": {
        "id": "s-CIlofzpe3r"
      },
      "source": [
        ""
      ],
      "execution_count": null,
      "outputs": []
    },
    {
      "cell_type": "code",
      "metadata": {
        "id": "9bPrL0rApe0P"
      },
      "source": [
        ""
      ],
      "execution_count": null,
      "outputs": []
    }
  ]
}